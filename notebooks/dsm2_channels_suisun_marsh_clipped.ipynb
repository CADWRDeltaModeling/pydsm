{
 "cells": [
  {
   "cell_type": "markdown",
   "id": "760b591c",
   "metadata": {},
   "source": [
    "# Use the shapefile of an area to select channels in that area\n",
    "In this case, we use the Suisun Marsh areas to clip to only those channels in that areas"
   ]
  },
  {
   "cell_type": "code",
   "execution_count": null,
   "id": "795f249f",
   "metadata": {},
   "outputs": [],
   "source": [
    "import pandas as pd\n",
    "import geopandas as gpd\n",
    "import hvplot.pandas\n",
    "import pydsm\n",
    "\n",
    "import holoviews as hv\n",
    "from holoviews import opts, dim"
   ]
  },
  {
   "cell_type": "markdown",
   "id": "9dbe3a7f",
   "metadata": {},
   "source": [
    "## Read channel shapefile and display"
   ]
  },
  {
   "cell_type": "code",
   "execution_count": null,
   "id": "a83f817a",
   "metadata": {},
   "outputs": [],
   "source": [
    "channel_centerlines = gpd.read_file('../pydsm/maps/v8.2-opendata/gisgridmapv8.2channelcenterlines/dsm2_channels_centerlines_8_2.shp')\n",
    "\n",
    "# convert to web mercator\n",
    "channel_centerlines = channel_centerlines.to_crs(epsg=3857)\n",
    "\n",
    "cartolight_tiles = hv.element.tiles.CartoLight()\n",
    "\n",
    "cartolight_tiles*channel_centerlines.hvplot()"
   ]
  },
  {
   "cell_type": "markdown",
   "id": "d67b55ea",
   "metadata": {},
   "source": [
    "## Load Suisun Marsh Boundary"
   ]
  },
  {
   "cell_type": "code",
   "execution_count": null,
   "id": "38e7b7d1",
   "metadata": {},
   "outputs": [],
   "source": [
    "suisun_marsh = gpd.read_file('e:/maps/i03_SuisunMarshBoundary/i03_SuisunMarshBoundary.shp')\n",
    "\n",
    "suisun_marsh = suisun_marsh.to_crs(epsg=3857)\n",
    "\n",
    "cartolight_tiles*suisun_marsh.hvplot(alpha=0.5)"
   ]
  },
  {
   "cell_type": "markdown",
   "id": "7159a8c6",
   "metadata": {},
   "source": [
    "## Overlay channels with boundary"
   ]
  },
  {
   "cell_type": "code",
   "execution_count": null,
   "id": "1fda8c66",
   "metadata": {},
   "outputs": [],
   "source": [
    "dsm2_chans = gpd.read_file('../pydsm/maps/v8.2-opendata/gisgridmapv8.2channelcenterlines/dsm2_channels_centerlines_8_2.shp')\n",
    "\n",
    "dsm2_chans = dsm2_chans.to_crs(epsg=3857)\n",
    "\n",
    "cartolight_tiles*suisun_marsh.hvplot(alpha=0.5)*dsm2_chans.hvplot()"
   ]
  },
  {
   "cell_type": "code",
   "execution_count": null,
   "id": "40a2455c",
   "metadata": {},
   "outputs": [],
   "source": [
    "dsm2_chans_marsh = gpd.clip(dsm2_chans, suisun_marsh)\n",
    "cartolight_tiles*dsm2_chans_marsh.hvplot()"
   ]
  },
  {
   "cell_type": "code",
   "execution_count": null,
   "id": "cf4da7f5",
   "metadata": {},
   "outputs": [],
   "source": [
    "dsm2_chans"
   ]
  },
  {
   "cell_type": "code",
   "execution_count": null,
   "id": "08f2071d",
   "metadata": {},
   "outputs": [],
   "source": [
    "cartolight_tiles*dsm2_chans[dsm2_chans.id.isin(dsm2_chans_marsh.id)].hvplot(hover_cols='all')"
   ]
  },
  {
   "cell_type": "code",
   "execution_count": null,
   "id": "dc3e3bb3",
   "metadata": {},
   "outputs": [],
   "source": [
    "# visually exclude the channels in the confluence area\n",
    "chans_to_be_excluded=[291,294,288]"
   ]
  },
  {
   "cell_type": "code",
   "execution_count": null,
   "id": "e6ce6989",
   "metadata": {},
   "outputs": [],
   "source": [
    "cartolight_tiles*dsm2_chans_marsh[~dsm2_chans_marsh.id.isin(chans_to_be_excluded)].hvplot()"
   ]
  },
  {
   "cell_type": "code",
   "execution_count": null,
   "id": "47dff21d",
   "metadata": {},
   "outputs": [],
   "source": [
    "dsm2_chans_marsh = dsm2_chans_marsh[~dsm2_chans_marsh.id.isin(chans_to_be_excluded)]"
   ]
  },
  {
   "cell_type": "code",
   "execution_count": null,
   "id": "99d196f8",
   "metadata": {},
   "outputs": [],
   "source": [
    "#dsm2_chans_marsh.id.reset_index(drop=True).to_csv('suisun_marsh_channel_numbers.csv')"
   ]
  },
  {
   "cell_type": "code",
   "execution_count": null,
   "id": "42150991",
   "metadata": {},
   "outputs": [],
   "source": []
  }
 ],
 "metadata": {
  "kernelspec": {
   "display_name": "Python [conda env:dev_pydelmod]",
   "language": "python",
   "name": "conda-env-dev_pydelmod-py"
  },
  "language_info": {
   "codemirror_mode": {
    "name": "ipython",
    "version": 3
   },
   "file_extension": ".py",
   "mimetype": "text/x-python",
   "name": "python",
   "nbconvert_exporter": "python",
   "pygments_lexer": "ipython3",
   "version": "3.7.13"
  },
  "toc": {
   "base_numbering": 1,
   "nav_menu": {},
   "number_sections": true,
   "sideBar": true,
   "skip_h1_title": false,
   "title_cell": "Table of Contents",
   "title_sidebar": "Contents",
   "toc_cell": false,
   "toc_position": {},
   "toc_section_display": true,
   "toc_window_display": false
  }
 },
 "nbformat": 4,
 "nbformat_minor": 5
}
