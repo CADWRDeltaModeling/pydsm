{
 "cells": [
  {
   "cell_type": "code",
   "execution_count": null,
   "id": "d563ca89",
   "metadata": {},
   "outputs": [],
   "source": [
    "import pandas as pd\n",
    "import geopandas as gpd\n",
    "import hvplot.pandas\n",
    "import pydsm\n",
    "\n",
    "import holoviews as hv\n",
    "from holoviews import opts, dim"
   ]
  },
  {
   "cell_type": "code",
   "execution_count": null,
   "id": "a83f817a",
   "metadata": {},
   "outputs": [],
   "source": [
    "channel_centerlines = gpd.read_file('../pydsm/maps/v8.2-opendata/gisgridmapv8.2channelcenterlines/dsm2_channels_centerlines_8_2.shp')"
   ]
  },
  {
   "cell_type": "code",
   "execution_count": null,
   "id": "293afa5b",
   "metadata": {},
   "outputs": [],
   "source": [
    "# convert to web mercator\n",
    "channel_centerlines = channel_centerlines.to_crs(epsg=3857)"
   ]
  },
  {
   "cell_type": "code",
   "execution_count": null,
   "id": "9649ebc3",
   "metadata": {},
   "outputs": [],
   "source": [
    "cartolight_tiles = hv.element.tiles.CartoLight()"
   ]
  },
  {
   "cell_type": "code",
   "execution_count": null,
   "id": "3a575261",
   "metadata": {},
   "outputs": [],
   "source": [
    "cartolight_tiles*channel_centerlines.hvplot()"
   ]
  },
  {
   "cell_type": "code",
   "execution_count": null,
   "id": "38e7b7d1",
   "metadata": {},
   "outputs": [],
   "source": [
    "suisun_marsh = gpd.read_file('e:/maps/i03_SuisunMarshBoundary/i03_SuisunMarshBoundary.shp')"
   ]
  },
  {
   "cell_type": "code",
   "execution_count": null,
   "id": "a4f24cdf",
   "metadata": {},
   "outputs": [],
   "source": [
    "suisun_marsh = suisun_marsh.to_crs(epsg=3857)"
   ]
  },
  {
   "cell_type": "code",
   "execution_count": null,
   "id": "42fc2bd0",
   "metadata": {},
   "outputs": [],
   "source": [
    "cartolight_tiles*suisun_marsh.hvplot(alpha=0.5)"
   ]
  },
  {
   "cell_type": "code",
   "execution_count": null,
   "id": "d2cef6c7",
   "metadata": {},
   "outputs": [],
   "source": [
    "cartolight_tiles*suisun_marsh.hvplot(alpha=0.5)*dsm2_chans.hvplot()"
   ]
  },
  {
   "cell_type": "code",
   "execution_count": null,
   "id": "40a2455c",
   "metadata": {},
   "outputs": [],
   "source": [
    "dsm2_chans_marsh = gpd.clip(dsm2_chans, suisun_marsh)\n",
    "cartolight_tiles*dsm2_chans_marsh.hvplot()"
   ]
  },
  {
   "cell_type": "code",
   "execution_count": null,
   "id": "cf4da7f5",
   "metadata": {},
   "outputs": [],
   "source": [
    "dsm2_chans"
   ]
  },
  {
   "cell_type": "code",
   "execution_count": null,
   "id": "08f2071d",
   "metadata": {},
   "outputs": [],
   "source": [
    "cartolight_tiles*dsm2_chans[dsm2_chans.channel_nu.isin(dsm2_chans_marsh.channel_nu)].hvplot(hover_cols='all')"
   ]
  },
  {
   "cell_type": "code",
   "execution_count": null,
   "id": "dc3e3bb3",
   "metadata": {},
   "outputs": [],
   "source": [
    "# visually exclude the channels in the confluence area\n",
    "chans_to_be_excluded=[291,294,288]"
   ]
  },
  {
   "cell_type": "code",
   "execution_count": null,
   "id": "e6ce6989",
   "metadata": {},
   "outputs": [],
   "source": [
    "cartolight_tiles*dsm2_chans_marsh[~dsm2_chans_marsh.channel_nu.isin(chans_to_be_excluded)].hvplot()"
   ]
  },
  {
   "cell_type": "code",
   "execution_count": null,
   "id": "47dff21d",
   "metadata": {},
   "outputs": [],
   "source": [
    "dsm2_chans_marsh = dsm2_chans_marsh[~dsm2_chans_marsh.channel_nu.isin(chans_to_be_excluded)]"
   ]
  },
  {
   "cell_type": "code",
   "execution_count": null,
   "id": "99d196f8",
   "metadata": {},
   "outputs": [],
   "source": [
    "dsm2_chans_marsh.channel_nu.reset_index(drop=True).to_csv('suisun_marsh_channel_numbers.csv')"
   ]
  },
  {
   "cell_type": "code",
   "execution_count": null,
   "id": "42150991",
   "metadata": {},
   "outputs": [],
   "source": []
  }
 ],
 "metadata": {
  "kernelspec": {
   "display_name": "Python [conda env:dev_pydelmod]",
   "language": "python",
   "name": "conda-env-dev_pydelmod-py"
  },
  "language_info": {
   "codemirror_mode": {
    "name": "ipython",
    "version": 3
   },
   "file_extension": ".py",
   "mimetype": "text/x-python",
   "name": "python",
   "nbconvert_exporter": "python",
   "pygments_lexer": "ipython3",
   "version": "3.7.13"
  },
  "toc": {
   "base_numbering": 1,
   "nav_menu": {},
   "number_sections": true,
   "sideBar": true,
   "skip_h1_title": false,
   "title_cell": "Table of Contents",
   "title_sidebar": "Contents",
   "toc_cell": false,
   "toc_position": {},
   "toc_section_display": true,
   "toc_window_display": false
  }
 },
 "nbformat": 4,
 "nbformat_minor": 5
}
