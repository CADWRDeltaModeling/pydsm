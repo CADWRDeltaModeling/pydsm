{
 "cells": [
  {
   "cell_type": "markdown",
   "metadata": {},
   "source": [
    "# HEC vs Default conventions of time\n",
    "\n",
    "HEC uses a different time convention for storing data and for evaluating periods than the default conventions. Pandas tends to follow the common conventions in use.\n",
    "\n",
    "This notebook looks at these issues for the specific case of period averaging and display"
   ]
  },
  {
   "cell_type": "code",
   "execution_count": null,
   "metadata": {},
   "outputs": [],
   "source": [
    "import pandas as pd\n",
    "import numpy as np\n",
    "import hvplot.pandas"
   ]
  },
  {
   "cell_type": "code",
   "execution_count": null,
   "metadata": {},
   "outputs": [],
   "source": [
    "nvals=100\n",
    "rarr = np.arange(0,nvals)"
   ]
  },
  {
   "cell_type": "code",
   "execution_count": null,
   "metadata": {},
   "outputs": [],
   "source": [
    "rarr"
   ]
  },
  {
   "cell_type": "code",
   "execution_count": null,
   "metadata": {},
   "outputs": [],
   "source": [
    "df = pd.DataFrame(rarr, columns=['values'], index=pd.date_range(start='01JAN2000 0100',periods=nvals,freq='H'))"
   ]
  },
  {
   "cell_type": "code",
   "execution_count": null,
   "metadata": {},
   "outputs": [],
   "source": [
    "df.head()"
   ]
  },
  {
   "cell_type": "code",
   "execution_count": null,
   "metadata": {},
   "outputs": [],
   "source": [
    "dfd=df.resample('D').mean()\n",
    "dfd.columns=['pandas-convention']\n",
    "dfd.head()"
   ]
  },
  {
   "cell_type": "code",
   "execution_count": null,
   "metadata": {},
   "outputs": [],
   "source": [
    "dfdr=df.resample('D',closed='right',label='right').mean()\n",
    "dfdr.columns=['pandas-closed-right-label-right']\n",
    "dfdr.head()"
   ]
  },
  {
   "cell_type": "code",
   "execution_count": null,
   "metadata": {},
   "outputs": [],
   "source": [
    "dfdall=pd.concat([df,dfd,dfdr],axis=1)\n",
    "dfdall.hvplot.table()"
   ]
  },
  {
   "cell_type": "code",
   "execution_count": null,
   "metadata": {},
   "outputs": [],
   "source": [
    "dfdcr=df.resample('D',closed='right').mean()\n",
    "dfdcr.columns=['pandas-closed-right']\n",
    "dfdlr=df.resample('D',label='right').mean()\n",
    "dfdlr.columns=['pandas-label-right']\n",
    "dfdall=pd.concat([df,dfd,dfdr,dfdcr,dfdlr],axis=1)\n",
    "dfdall.hvplot.table()"
   ]
  },
  {
   "cell_type": "code",
   "execution_count": null,
   "metadata": {},
   "outputs": [],
   "source": [
    "print ('Default convention is that midnight value belongs to new day. Mean based on this convention')\n",
    "print(df['2000-01-01'].mean().values[0])\n",
    "print(df['2000-01-01 00:00':'2000-01-01 23:45'].mean().values[0])\n",
    "print ('HEC convention is to use the midnight value to belong to the previous day. Mean based on HEC convention')\n",
    "print(df['2000-01-01 00:15':'2000-01-02 00:00'].mean().values[0])\n",
    "print(df.resample('D',closed='right',label='right').mean().values[0])"
   ]
  },
  {
   "cell_type": "code",
   "execution_count": null,
   "metadata": {},
   "outputs": [],
   "source": [
    "sum(range(24))/24"
   ]
  },
  {
   "cell_type": "code",
   "execution_count": null,
   "metadata": {},
   "outputs": [],
   "source": [
    "import pandas as pd\n",
    "def resample_hec_style(df, interval='D'):\n",
    "    '''\n",
    "    Resampling of time series in DataFrame provided for the interval (see Pandas resample for codes)\n",
    "    In addition to conform to HEC-conventions the resampling is done with closed=\"right\" and label=\"right\"\n",
    "    see pandas resample documentation to understand these arguments\n",
    "    '''\n",
    "    return df.resample(interval, closed='right', label='right')\n",
    "def per_aver(df,interval='D'):\n",
    "    '''\n",
    "    PermissionErroriod averages of the time series in DataFrame provided for the interval (see Pandas resample for codes)\n",
    "    In addition to conform to HEC-conventions the resampling is done with closed=\"right\" and label=\"right\"\n",
    "    '''\n",
    "    return resample_hec_style(df,interval).mean()\n",
    "def per_max(df, interval='D'):\n",
    "    return resample_hec_style(df,interval).max()\n",
    "def per_min(df, interval='D'):\n",
    "    return resample_hec_style(df, interval).min()"
   ]
  },
  {
   "cell_type": "code",
   "execution_count": null,
   "metadata": {},
   "outputs": [],
   "source": []
  }
 ],
 "metadata": {
  "kernelspec": {
   "display_name": "Python [conda env:dev_pydsm]",
   "language": "python",
   "name": "conda-env-dev_pydsm-py"
  },
  "language_info": {
   "codemirror_mode": {
    "name": "ipython",
    "version": 3
   },
   "file_extension": ".py",
   "mimetype": "text/x-python",
   "name": "python",
   "nbconvert_exporter": "python",
   "pygments_lexer": "ipython3",
   "version": "3.7.6"
  },
  "toc": {
   "base_numbering": 1,
   "nav_menu": {},
   "number_sections": true,
   "sideBar": true,
   "skip_h1_title": false,
   "title_cell": "Table of Contents",
   "title_sidebar": "Contents",
   "toc_cell": false,
   "toc_position": {},
   "toc_section_display": true,
   "toc_window_display": false
  },
  "varInspector": {
   "cols": {
    "lenName": 16,
    "lenType": 16,
    "lenVar": 40
   },
   "kernels_config": {
    "python": {
     "delete_cmd_postfix": "",
     "delete_cmd_prefix": "del ",
     "library": "var_list.py",
     "varRefreshCmd": "print(var_dic_list())"
    },
    "r": {
     "delete_cmd_postfix": ") ",
     "delete_cmd_prefix": "rm(",
     "library": "var_list.r",
     "varRefreshCmd": "cat(var_dic_list()) "
    }
   },
   "types_to_exclude": [
    "module",
    "function",
    "builtin_function_or_method",
    "instance",
    "_Feature"
   ],
   "window_display": false
  }
 },
 "nbformat": 4,
 "nbformat_minor": 4
}
