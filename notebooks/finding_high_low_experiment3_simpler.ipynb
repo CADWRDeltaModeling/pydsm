{
 "cells": [
  {
   "cell_type": "code",
   "execution_count": null,
   "metadata": {},
   "outputs": [],
   "source": [
    "#Experimentation and testing for capturing tidal highs and lows"
   ]
  },
  {
   "cell_type": "code",
   "execution_count": null,
   "metadata": {},
   "outputs": [],
   "source": [
    "import pandas as pd\n",
    "import numpy as np\n",
    "import numba\n",
    "\n",
    "from vtools.functions.filter import cosine_lanczos"
   ]
  },
  {
   "cell_type": "code",
   "execution_count": null,
   "metadata": {},
   "outputs": [],
   "source": [
    "import hvplot.pandas"
   ]
  },
  {
   "cell_type": "code",
   "execution_count": null,
   "metadata": {},
   "outputs": [],
   "source": [
    "def get_smoothed_resampled(df, cutoff_period='2H', resample_period='1T', interpolate_method='pchip'):\n",
    "    '''\n",
    "    '''\n",
    "    dfb = df.resample(resample_period).fillna(method='backfill')\n",
    "    df = df.resample(resample_period).interpolate(method=interpolate_method)\n",
    "    df[dfb.iloc[:, 0].isna()] = np.nan\n",
    "    return cosine_lanczos(df, cutoff_period)"
   ]
  },
  {
   "cell_type": "code",
   "execution_count": null,
   "metadata": {},
   "outputs": [],
   "source": [
    "def localmax(df):\n",
    "    df.index = pd.RangeIndex(len(df.index))\n",
    "    idx=df.idxmax()\n",
    "    if idx == len(df)/2:\n",
    "        return df.loc[idx]\n",
    "    else:\n",
    "        return np.NaN\n",
    "\n",
    "def localmin(df):\n",
    "    df.index = pd.RangeIndex(len(df.index))\n",
    "    idx=df.idxmin()\n",
    "    if idx == len(df)/2:\n",
    "        return df.loc[idx]\n",
    "    else:\n",
    "        return np.NaN\n",
    "\n",
    "def periods_per_window(moving_window_size, resample_period):\n",
    "    return int(pd.Timedelta(moving_window_size)/pd.Timedelta(resample_period))\n",
    "\n",
    "def tidal_highs(df, moving_window_size='7H', resample_period='1T'):\n",
    "    periods= periods_per_window(moving_window_size,resample_period)\n",
    "    dfmax=dfs.rolling(moving_window_size,min_periods=periods).agg(localmax)\n",
    "    dfmax=dfmax.shift(periods=-(periods//2-1))\n",
    "    return dfmax.dropna()\n",
    "\n",
    "def tidal_lows(df, moving_window_size='7H', resample_period='1T'):\n",
    "    periods= periods_per_window(moving_window_size,resample_period)\n",
    "    dfmin=dfs.rolling(moving_window_size,min_periods=periods).agg(localmin)\n",
    "    dfmin=dfmin.shift(periods=-(periods//2-1))\n",
    "    return dfmin.dropna()"
   ]
  },
  {
   "cell_type": "code",
   "execution_count": null,
   "metadata": {},
   "outputs": [],
   "source": [
    "@numba.jit(nopython=True)\n",
    "def lmax(arr):\n",
    "    '''Local maximum: Returns value only when centered on maximum\n",
    "    '''\n",
    "    idx=np.argmax(arr)\n",
    "    if idx == len(arr)/2:\n",
    "        return arr[idx]\n",
    "    else:\n",
    "        return np.NaN\n",
    "\n",
    "@numba.jit(nopython=True)\n",
    "def lmin(arr):\n",
    "    '''Local minimum: Returns value only when centered on minimum\n",
    "    '''\n",
    "    idx=np.argmin(arr)\n",
    "    if idx == len(arr)/2:\n",
    "        return arr[idx]\n",
    "    else:\n",
    "        return np.NaN\n",
    "\n",
    "def periods_per_window(moving_window_size, resample_period):\n",
    "    return int(pd.Timedelta(moving_window_size)/pd.Timedelta(resample_period))\n",
    "\n",
    "def tidal_highs(df, moving_window_size='7H', resample_period='1T'):\n",
    "    periods= periods_per_window(moving_window_size,resample_period)\n",
    "    dfmax=dfs.rolling(moving_window_size,min_periods=periods).apply(lmax,raw=True)\n",
    "    dfmax=dfmax.shift(periods=-(periods//2-1))\n",
    "    return dfmax.dropna()\n",
    "\n",
    "def tidal_lows(df, moving_window_size='7H', resample_period='1T'):\n",
    "    periods= periods_per_window(moving_window_size,resample_period)\n",
    "    dfmin=dfs.rolling(moving_window_size,min_periods=periods).apply(lmin,raw=True)\n",
    "    dfmin=dfmin.shift(periods=-(periods//2-1))\n",
    "    return dfmin.dropna()\n"
   ]
  },
  {
   "cell_type": "code",
   "execution_count": null,
   "metadata": {},
   "outputs": [],
   "source": [
    "df=pd.read_csv('../tests/tidal_signal_with_disturbances.csv',index_col=0,parse_dates=[0])\n",
    "df.index.freq=pd.infer_freq(df.index)\n",
    "\n",
    "dfs=get_smoothed_resampled(df)\n",
    "\n",
    "df.hvplot(label='original')*dfs.hvplot(label='smooth')"
   ]
  },
  {
   "cell_type": "code",
   "execution_count": null,
   "metadata": {},
   "outputs": [],
   "source": [
    "dfh,dfl=tidal_highs(dfs),tidal_lows(dfs)"
   ]
  },
  {
   "cell_type": "code",
   "execution_count": null,
   "metadata": {},
   "outputs": [],
   "source": [
    "dfh.hvplot.scatter()*dfl.hvplot.scatter()*df.hvplot()"
   ]
  },
  {
   "cell_type": "code",
   "execution_count": null,
   "metadata": {},
   "outputs": [],
   "source": [
    "df=pd.read_csv('../tests/tidal_signal_with_gaps.csv',index_col=0,parse_dates=[0])\n",
    "df.index.freq=pd.infer_freq(df.index)\n",
    "\n",
    "dfs=get_smoothed_resampled(df)\n",
    "\n",
    "df.hvplot(label='original')*dfs.hvplot(label='smooth')"
   ]
  },
  {
   "cell_type": "code",
   "execution_count": null,
   "metadata": {},
   "outputs": [],
   "source": [
    "dfh,dfl=tidal_highs(dfs),tidal_lows(dfs)"
   ]
  },
  {
   "cell_type": "code",
   "execution_count": null,
   "metadata": {},
   "outputs": [],
   "source": [
    "dfh.hvplot.scatter()*dfl.hvplot.scatter()*dfs.hvplot()"
   ]
  },
  {
   "cell_type": "code",
   "execution_count": null,
   "metadata": {},
   "outputs": [],
   "source": []
  }
 ],
 "metadata": {
  "kernelspec": {
   "display_name": "Python [conda env:dev_pydsm]",
   "language": "python",
   "name": "conda-env-dev_pydsm-py"
  },
  "language_info": {
   "codemirror_mode": {
    "name": "ipython",
    "version": 3
   },
   "file_extension": ".py",
   "mimetype": "text/x-python",
   "name": "python",
   "nbconvert_exporter": "python",
   "pygments_lexer": "ipython3",
   "version": "3.7.6"
  },
  "toc": {
   "base_numbering": 1,
   "nav_menu": {},
   "number_sections": true,
   "sideBar": true,
   "skip_h1_title": false,
   "title_cell": "Table of Contents",
   "title_sidebar": "Contents",
   "toc_cell": false,
   "toc_position": {},
   "toc_section_display": true,
   "toc_window_display": false
  }
 },
 "nbformat": 4,
 "nbformat_minor": 4
}
