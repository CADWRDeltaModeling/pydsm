{
 "cells": [
  {
   "cell_type": "markdown",
   "metadata": {},
   "source": [
    "# Calculating Total Inflow and Outflow from DSM2 Hydro setup\n",
    "\n",
    "The hydrodynamic model takes a number of flows as input that are specified in the input files. This notebook shows how one can calculate the total inflow from the boundary and source/sink terms. This is an important overall measure of the driving force in the model\n",
    "\n",
    "All the inflow, in the Sacramento-San Joaquin Delta, ultimately makes it out to the bay and the model has channel 441 which represents the entry to Carquinez Strait from the Delta. This notebook shows how to retrieve this data from the model output (HDF5 format) and compares it to the inflow\n"
   ],
   "execution_count": null,
   "outputs": []
  },
  {
   "cell_type": "code",
   "execution_count": null,
   "metadata": {
    "ExecuteTime": {
     "end_time": "2020-04-06T02:13:20.012109Z",
     "start_time": "2020-04-06T02:13:16.348005Z"
    }
   },
   "outputs": [],
   "source": [
    "import pydsm\n",
    "from pydsm.input import parser\n",
    "import warnings\n",
    "import pandas as pd\n",
    "import hvplot.pandas\n",
    "import pyhecdss\n",
    "pyhecdss.set_message_level(0)"
   ]
  },
  {
   "cell_type": "markdown",
   "metadata": {},
   "source": [
    "A convenience function to get a pathname (when parts are known) from the filename. \n",
    "---- Should be moved to module pyhecdss --------"
   ],
   "execution_count": null,
   "outputs": []
  },
  {
   "cell_type": "code",
   "execution_count": null,
   "metadata": {
    "ExecuteTime": {
     "end_time": "2020-04-06T02:13:21.447842Z",
     "start_time": "2020-04-06T02:13:21.441870Z"
    }
   },
   "outputs": [],
   "source": [
    "## -- TODO -- move this to pyhecdss...\n",
    "import pyhecdss\n",
    "def get_rts(filename,pathname):\n",
    "    dssh=pyhecdss.DSSFile(filename)\n",
    "    dfcat=dssh.read_catalog()\n",
    "    try:\n",
    "        pp=pathname.split('/')\n",
    "        pn=['A','B','C','E','F']\n",
    "        pp=pp[1:4]+pp[5:7]\n",
    "        cond=True\n",
    "        for p,n in zip(pp,pn):\n",
    "            cond = cond & (dfcat[n]==p)\n",
    "        plist=dssh.get_pathnames(dfcat[cond])\n",
    "        return dssh.read_rts(plist[0])\n",
    "    finally:\n",
    "        dssh.close()"
   ]
  },
  {
   "cell_type": "code",
   "execution_count": null,
   "metadata": {
    "ExecuteTime": {
     "end_time": "2020-04-06T02:13:22.053919Z",
     "start_time": "2020-04-06T02:13:22.049937Z"
    }
   },
   "outputs": [],
   "source": [
    "## Open the input files and read input into pandas DataFrame(s)"
   ]
  },
  {
   "cell_type": "code",
   "execution_count": null,
   "metadata": {
    "ExecuteTime": {
     "end_time": "2020-04-06T02:19:32.428590Z",
     "start_time": "2020-04-06T02:19:32.316086Z"
    }
   },
   "outputs": [],
   "source": [
    "fname='output/hydro_echo_historical_v82.inp'\n",
    "with open(fname, 'r') as file:\n",
    "    tables = parser.parse(file.read())\n",
    "#Tables for mass balance\n",
    "bflow=tables['BOUNDARY_FLOW']\n",
    "sflow=tables['SOURCE_FLOW']\n",
    "srflow=tables['SOURCE_FLOW_RESERVOIR']\n",
    "trflow=tables['INPUT_TRANSFER_FLOW']"
   ]
  },
  {
   "cell_type": "markdown",
   "metadata": {},
   "source": [
    "Builds a dictionary of {name: timeseries data} from a table that has atleast the following columns: NAME, FILE, PATH. \n",
    "\n",
    "The data is either \n",
    "* Timeseries data retrieved from a FILE ( DSS format) and PATH (DSS pathname)\n",
    "* Constant data when FILE is 'constant' & PATH is the value"
   ],
   "execution_count": null,
   "outputs": []
  },
  {
   "cell_type": "code",
   "execution_count": null,
   "metadata": {
    "ExecuteTime": {
     "end_time": "2020-04-06T02:13:23.777066Z",
     "start_time": "2020-04-06T02:13:23.770097Z"
    }
   },
   "outputs": [],
   "source": [
    "def build_dict(dftable):\n",
    "    data_dict={}\n",
    "    for row in dftable.iterrows():\n",
    "        r=row[1]\n",
    "        try:\n",
    "            if str.strip(r.FILE).casefold()=='constant'.casefold():\n",
    "                rts = float(r.PATH) # assumed units of cfs\n",
    "            else:\n",
    "                rts,units,type=get_rts(r.FILE,r.PATH)\n",
    "                if units.casefold() != 'cfs'.casefold():\n",
    "                    warnings.warn('%s::%s::%s -- Units expected are cfs, got : %s'%(r.NAME, r.FILE, r.PATH, units))\n",
    "            rts=rts*float(r.SIGN)\n",
    "            data_dict[r.NAME]=rts\n",
    "        except:\n",
    "            print('Error trying to retrieve %s from file %s & pathname %s'%(r.NAME, r.FILE, r.PATH))\n",
    "    return data_dict\n"
   ]
  },
  {
   "cell_type": "markdown",
   "metadata": {},
   "source": [
    "Adds the time series (or constants)  in dictionary (see above)\n",
    "* checks for non-dataframes to add\n",
    "* converts period index to timestamp for add"
   ],
   "execution_count": null,
   "outputs": []
  },
  {
   "cell_type": "code",
   "execution_count": null,
   "metadata": {
    "ExecuteTime": {
     "end_time": "2020-04-06T02:13:24.858774Z",
     "start_time": "2020-04-06T02:13:24.851805Z"
    }
   },
   "outputs": [],
   "source": [
    "# Sum of all the time series\n",
    "# checks for non-dataframes to add\n",
    "# converts period index to timestamp for add\n",
    "def sum_dict(data_dict):\n",
    "    sum = 0.0\n",
    "    for k in data_dict:\n",
    "        data=data_dict[k]\n",
    "        if isinstance(data, pd.DataFrame):\n",
    "            if isinstance(data.index,pd.PeriodIndex):\n",
    "                #warnings.warn('Converting %s to timestamp'%k)\n",
    "                data.index=data.index.to_timestamp()\n",
    "            if data.index.freqstr != 'D':\n",
    "                data=data.resample('D').mean()\n",
    "            sum=sum+data.iloc[:,0]\n",
    "        else:\n",
    "            sum=sum+data\n",
    "    return sum"
   ]
  },
  {
   "cell_type": "markdown",
   "metadata": {
    "ExecuteTime": {
     "end_time": "2020-03-30T18:02:03.311729Z",
     "start_time": "2020-03-30T18:02:03.307747Z"
    }
   },
   "source": [
    "## Read the input and add up for total inflow\n",
    "Retreive the data into dictionary and also add up the flows"
   ],
   "execution_count": null,
   "outputs": []
  },
  {
   "cell_type": "code",
   "execution_count": null,
   "metadata": {
    "ExecuteTime": {
     "end_time": "2020-04-06T02:20:39.851384Z",
     "start_time": "2020-04-06T02:20:07.878138Z"
    }
   },
   "outputs": [],
   "source": [
    "bflows=build_dict(bflow)\n",
    "sflows=build_dict(sflow)\n",
    "srflows=build_dict(srflow)\n",
    "sum_bflow=sum_dict(bflows)\n",
    "sum_sflow=sum_dict(sflows)\n",
    "sum_srflow=sum_dict(srflows)"
   ]
  },
  {
   "cell_type": "markdown",
   "metadata": {
    "ExecuteTime": {
     "end_time": "2020-03-30T18:04:09.555154Z",
     "start_time": "2020-03-30T18:04:09.550176Z"
    }
   },
   "source": [
    "Calculate Total Inflow as the sum of source/sink terms and boundary flows\n",
    "Also limit the timewindow to 1990-2016"
   ],
   "execution_count": null,
   "outputs": []
  },
  {
   "cell_type": "code",
   "execution_count": null,
   "metadata": {
    "ExecuteTime": {
     "end_time": "2020-04-06T02:20:45.788454Z",
     "start_time": "2020-04-06T02:20:45.569420Z"
    }
   },
   "outputs": [],
   "source": [
    "total_inflow=sum_sflow+sum_bflow+sum_srflow\n",
    "total_inflow=total_inflow['SEP1990':'SEP2016']\n",
    "\n",
    "fig=total_inflow.plot(figsize=(15,5),title='Total Inflow')\n",
    "_=fig.set_ylabel('Flow (cfs)')"
   ]
  },
  {
   "cell_type": "markdown",
   "metadata": {},
   "source": [
    "# Read the output file for outflow\n",
    "The outflow from DSM2 for the Delta has to go through channel 441. This flow is heavily tidal and the code below retrieves this from the model output file (HDF5 format) and tidally filters it"
   ],
   "execution_count": null,
   "outputs": []
  },
  {
   "cell_type": "code",
   "execution_count": null,
   "metadata": {
    "ExecuteTime": {
     "end_time": "2020-04-06T02:14:39.392454Z",
     "start_time": "2020-04-06T02:14:05.823775Z"
    }
   },
   "outputs": [],
   "source": [
    "import pydsm.hydroh5\n",
    "hydro=pydsm.hydroh5.HydroH5('output/historical_v82.h5')\n",
    "mtz_outflow=hydro.get_channel_flow('441','downstream')\n",
    "#flow4up=hydro.get_channel_flow('4','upstream')"
   ]
  },
  {
   "cell_type": "markdown",
   "metadata": {},
   "source": [
    "Filter out the tidal signal using cosine lanczos (preferred) or godin filter\n",
    "Also resample to daily flow (period average to daily)"
   ],
   "execution_count": null,
   "outputs": []
  },
  {
   "cell_type": "code",
   "execution_count": null,
   "metadata": {
    "ExecuteTime": {
     "end_time": "2020-04-06T02:14:41.064432Z",
     "start_time": "2020-04-06T02:14:39.395441Z"
    }
   },
   "outputs": [],
   "source": [
    "from vtools.functions.filter import cosine_lanczos, godin_filter\n",
    "fmtz=cosine_lanczos(mtz_outflow,cutoff_period='40h')\n",
    "#fmtz=godin_filter(mtz_outflow)\n",
    "fdmtz=fmtz.resample('D').mean()\n",
    "ax1=fdmtz.plot(figsize=(15,5),title='Flow Past Martinez (Tidally filtered, daily average)')\n",
    "total_outflow=fdmtz"
   ]
  },
  {
   "cell_type": "code",
   "execution_count": null,
   "metadata": {
    "ExecuteTime": {
     "end_time": "2020-04-06T02:20:53.418843Z",
     "start_time": "2020-04-06T02:20:53.253544Z"
    }
   },
   "outputs": [],
   "source": [
    "total_inflow.hvplot(label='Total Inflow')*total_outflow.hvplot(label='Total Outflow')"
   ]
  },
  {
   "cell_type": "code",
   "execution_count": null,
   "metadata": {
    "ExecuteTime": {
     "end_time": "2020-04-06T02:20:57.593200Z",
     "start_time": "2020-04-06T02:20:57.514548Z"
    }
   },
   "outputs": [],
   "source": [
    "(total_outflow.iloc[:,0]-total_inflow).resample('M').mean().hvplot.area(label='Mass Balance').opts(xrotation=45)"
   ]
  },
  {
   "cell_type": "code",
   "execution_count": null,
   "metadata": {},
   "outputs": [],
   "source": []
  }
 ],
 "metadata": {
  "kernelspec": {
   "display_name": "Python 3.7.6 64-bit ('dev_pydsm': conda)",
   "language": "python",
   "name": "python37664bitdevpydsmcondab1c3bd5d933c4dabb1711f6f5582ad21"
  },
  "language_info": {
   "codemirror_mode": {
    "name": "ipython",
    "version": 3
   },
   "file_extension": ".py",
   "mimetype": "text/x-python",
   "name": "python",
   "nbconvert_exporter": "python",
   "pygments_lexer": "ipython3",
   "version": "3.7.6"
  }
 },
 "nbformat": 4,
 "nbformat_minor": 4
}