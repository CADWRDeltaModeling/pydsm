{
 "cells": [
  {
   "cell_type": "code",
   "execution_count": null,
   "id": "a9952ea7",
   "metadata": {},
   "outputs": [],
   "source": [
    "import pandas as pd\n",
    "import numpy as np\n",
    "\n",
    "import pydsm\n",
    "\n",
    "from pydsm import qualh5\n",
    "\n",
    "import h5py\n",
    "from pydsm import dsm2h5"
   ]
  },
  {
   "cell_type": "code",
   "execution_count": null,
   "id": "365c64e5",
   "metadata": {},
   "outputs": [],
   "source": [
    "gtm_file = '../tests/data/gtm_sample_output/on_cell/historical_gtm.h5'"
   ]
  },
  {
   "cell_type": "code",
   "execution_count": null,
   "id": "d83a24f8",
   "metadata": {},
   "outputs": [],
   "source": [
    "gh5 = h5py.File(gtm_file, 'r+')"
   ]
  },
  {
   "cell_type": "code",
   "execution_count": null,
   "id": "ebc089e0",
   "metadata": {},
   "outputs": [],
   "source": [
    "dsm2h5.get_model(gh5) # wrong. should return gtm"
   ]
  },
  {
   "cell_type": "markdown",
   "id": "ab57835a",
   "metadata": {},
   "source": [
    "List of constituents"
   ]
  },
  {
   "cell_type": "code",
   "execution_count": null,
   "id": "6bb039e3",
   "metadata": {},
   "outputs": [],
   "source": [
    "dsm2h5.read_table_as_df(gh5, '/output/constituent_names').iloc[:,0].values.tolist()"
   ]
  },
  {
   "cell_type": "markdown",
   "id": "83ca572f",
   "metadata": {},
   "source": [
    "Channels with cell informatioin"
   ]
  },
  {
   "cell_type": "code",
   "execution_count": null,
   "id": "547a2d56",
   "metadata": {},
   "outputs": [],
   "source": [
    "channels = dsm2h5.read_table_as_df(gh5, '/geometry/channel')\n",
    "channels"
   ]
  },
  {
   "cell_type": "markdown",
   "id": "714e1e7a",
   "metadata": {},
   "source": [
    "List of data paths in GTM"
   ]
  },
  {
   "cell_type": "code",
   "execution_count": null,
   "id": "78660905",
   "metadata": {},
   "outputs": [],
   "source": [
    "gtm_datapaths = ['/output/'+tname for tname in gh5['/output']]\n",
    "gtm_datapaths"
   ]
  },
  {
   "cell_type": "code",
   "execution_count": null,
   "id": "1ca9236c",
   "metadata": {},
   "outputs": [],
   "source": [
    "dsm2h5.read_table_as_df(gh5, '/geometry/connection')"
   ]
  },
  {
   "cell_type": "code",
   "execution_count": null,
   "id": "1f767d5b",
   "metadata": {},
   "outputs": [],
   "source": [
    "attrs = dsm2h5.read_attributes_from_table(gh5['/output/cell concentration'])\n",
    "attrs"
   ]
  },
  {
   "cell_type": "code",
   "execution_count": null,
   "id": "b4d1d37e",
   "metadata": {},
   "outputs": [],
   "source": [
    "dfcell = dsm2h5.read_time_indexed_table(gh5,'/output/cell concentration',None,0)\n",
    "dfcell"
   ]
  },
  {
   "cell_type": "code",
   "execution_count": null,
   "id": "ef786a43",
   "metadata": {},
   "outputs": [],
   "source": [
    "import hvplot.pandas\n",
    "hvplot.extension('bokeh')"
   ]
  },
  {
   "cell_type": "code",
   "execution_count": null,
   "id": "ae2213f8",
   "metadata": {},
   "outputs": [],
   "source": [
    "channels.query('channel_num == 441')"
   ]
  },
  {
   "cell_type": "code",
   "execution_count": null,
   "id": "05c32afd",
   "metadata": {},
   "outputs": [],
   "source": [
    "dfcell.loc[:,3613:3617].hvplot(rot=40)"
   ]
  },
  {
   "cell_type": "markdown",
   "id": "e533a319",
   "metadata": {},
   "source": [
    "Cell concentration shape is time x constituents x cell_number"
   ]
  },
  {
   "cell_type": "markdown",
   "id": "bdf3b2dc",
   "metadata": {},
   "source": [
    "The dataframe above shows the attributes for the table\n",
    "The start time and interval together should help convert the first dimension to time indexed array \n",
    "Each constituent can be returned with the cell ids"
   ]
  },
  {
   "cell_type": "code",
   "execution_count": null,
   "id": "7dce385c",
   "metadata": {},
   "outputs": [],
   "source": [
    "dfsegments = dsm2h5.read_table_as_df(gh5, '/geometry/segment')\n",
    "dfsegments"
   ]
  },
  {
   "cell_type": "code",
   "execution_count": null,
   "id": "422d2960",
   "metadata": {},
   "outputs": [],
   "source": [
    "dfsegments['nx'].sum()"
   ]
  },
  {
   "cell_type": "code",
   "execution_count": null,
   "id": "3e11cd4c",
   "metadata": {},
   "outputs": [],
   "source": []
  }
 ],
 "metadata": {
  "kernelspec": {
   "display_name": "Python [conda env:dev_pydsm]",
   "language": "python",
   "name": "conda-env-dev_pydsm-py"
  },
  "language_info": {
   "codemirror_mode": {
    "name": "ipython",
    "version": 3
   },
   "file_extension": ".py",
   "mimetype": "text/x-python",
   "name": "python",
   "nbconvert_exporter": "python",
   "pygments_lexer": "ipython3",
   "version": "3.8.15"
  },
  "toc": {
   "base_numbering": 1,
   "nav_menu": {},
   "number_sections": true,
   "sideBar": true,
   "skip_h1_title": false,
   "title_cell": "Table of Contents",
   "title_sidebar": "Contents",
   "toc_cell": false,
   "toc_position": {},
   "toc_section_display": true,
   "toc_window_display": false
  }
 },
 "nbformat": 4,
 "nbformat_minor": 5
}
