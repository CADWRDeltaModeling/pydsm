{
 "cells": [
  {
   "cell_type": "code",
   "execution_count": null,
   "id": "d7508b1e",
   "metadata": {},
   "outputs": [],
   "source": [
    "import pandas as pd"
   ]
  },
  {
   "cell_type": "code",
   "execution_count": null,
   "id": "25c74f63",
   "metadata": {},
   "outputs": [],
   "source": [
    "import pydsm"
   ]
  },
  {
   "cell_type": "code",
   "execution_count": null,
   "id": "3696d3d8",
   "metadata": {},
   "outputs": [],
   "source": [
    "from pydsm import hydroh5"
   ]
  },
  {
   "cell_type": "code",
   "execution_count": null,
   "id": "255a0829",
   "metadata": {},
   "outputs": [],
   "source": [
    "hydro = hydroh5.HydroH5('d:/delta/dsm2_studies_master/studies/historical/output/hist_v2022_01.h5')"
   ]
  },
  {
   "cell_type": "code",
   "execution_count": null,
   "id": "1b1dbdf2",
   "metadata": {},
   "outputs": [],
   "source": [
    "hydro.get_channels()"
   ]
  },
  {
   "cell_type": "code",
   "execution_count": null,
   "id": "4e8c0b7b",
   "metadata": {},
   "outputs": [],
   "source": [
    "hydro.get_input_table('/hydro/input/channel')"
   ]
  },
  {
   "cell_type": "code",
   "execution_count": null,
   "id": "8d72f753",
   "metadata": {},
   "outputs": [],
   "source": [
    "hydro.get_channel_avg_area(1)"
   ]
  },
  {
   "cell_type": "code",
   "execution_count": null,
   "id": "861110bc",
   "metadata": {},
   "outputs": [],
   "source": [
    "cids = list(hydro.get_channels().values.flatten())"
   ]
  },
  {
   "cell_type": "code",
   "execution_count": null,
   "id": "d6c15879",
   "metadata": {},
   "outputs": [],
   "source": [
    "timewindow = '01JAN2014 - 01JAN2015'"
   ]
  },
  {
   "cell_type": "code",
   "execution_count": null,
   "id": "73d289da",
   "metadata": {},
   "outputs": [],
   "source": [
    "chan_areas = hydro.get_channel_avg_area(cids,timewindow)\n",
    "chan_areas"
   ]
  },
  {
   "cell_type": "code",
   "execution_count": null,
   "id": "3e98f3c7",
   "metadata": {},
   "outputs": [],
   "source": [
    "channels = hydro.get_input_table('/hydro/input/channel')"
   ]
  },
  {
   "cell_type": "code",
   "execution_count": null,
   "id": "6efd5736",
   "metadata": {},
   "outputs": [],
   "source": [
    "chan_lengths = channels.set_index('chan_no')['length']\n",
    "chan_lengths"
   ]
  },
  {
   "cell_type": "code",
   "execution_count": null,
   "id": "899f50ee",
   "metadata": {},
   "outputs": [],
   "source": [
    "chan_vols = chan_lengths.values*chan_areas"
   ]
  },
  {
   "cell_type": "code",
   "execution_count": null,
   "id": "580c3dec",
   "metadata": {},
   "outputs": [],
   "source": [
    "import hvplot.pandas"
   ]
  },
  {
   "cell_type": "code",
   "execution_count": null,
   "id": "7b2bd2c9",
   "metadata": {},
   "outputs": [],
   "source": [
    "# 1 acre-feet = 43559.9 cubic feet\n",
    "# 1 maf (million acre-feet) = 43559.9*1e6\n",
    "maf_factor = 43559.9*1e6"
   ]
  },
  {
   "cell_type": "code",
   "execution_count": null,
   "id": "d67849b9",
   "metadata": {},
   "outputs": [],
   "source": [
    "chan_vols_maf = chan_vols/maf_factor"
   ]
  },
  {
   "cell_type": "code",
   "execution_count": null,
   "id": "9093e0de",
   "metadata": {},
   "outputs": [],
   "source": [
    "chan_vols_maf.sum(axis=1).hvplot()"
   ]
  },
  {
   "cell_type": "code",
   "execution_count": null,
   "id": "60a678cc",
   "metadata": {},
   "outputs": [],
   "source": [
    "hydro.get_reservoirs()"
   ]
  },
  {
   "cell_type": "code",
   "execution_count": null,
   "id": "a778d50a",
   "metadata": {},
   "outputs": [],
   "source": [
    "list(hydro.get_reservoirs().values.flatten())"
   ]
  },
  {
   "cell_type": "code",
   "execution_count": null,
   "id": "a0c93025",
   "metadata": {},
   "outputs": [],
   "source": [
    "reservoirs_height = hydro.get_reservoir_height(\n",
    "    list(hydro.get_reservoirs().values.flatten()), timewindow)\n",
    "reservoirs_height"
   ]
  },
  {
   "cell_type": "code",
   "execution_count": null,
   "id": "d24b3da0",
   "metadata": {},
   "outputs": [],
   "source": [
    "reservoirs = hydro.get_input_table('/hydro/input/reservoir')\n",
    "reservoirs"
   ]
  },
  {
   "cell_type": "code",
   "execution_count": null,
   "id": "5d50c393",
   "metadata": {},
   "outputs": [],
   "source": [
    "# reservoir areas are in millions of square feet\n",
    "reservoirs_volume = (reservoirs.area.values*1e6)*reservoirs_height"
   ]
  },
  {
   "cell_type": "code",
   "execution_count": null,
   "id": "8274986b",
   "metadata": {},
   "outputs": [],
   "source": [
    "reservoirs_volume.sum(axis=1).hvplot()"
   ]
  },
  {
   "cell_type": "code",
   "execution_count": null,
   "id": "dd2210b1",
   "metadata": {},
   "outputs": [],
   "source": [
    "reservoirs_volume_maf = reservoirs_volume/maf_factor"
   ]
  },
  {
   "cell_type": "code",
   "execution_count": null,
   "id": "99b6193e",
   "metadata": {},
   "outputs": [],
   "source": [
    "reservoirs_volume_maf.sum(axis=1).hvplot()"
   ]
  },
  {
   "cell_type": "code",
   "execution_count": null,
   "id": "178d5ed3",
   "metadata": {},
   "outputs": [],
   "source": [
    "dsm2_full_grid_vol = chan_vols_maf.sum(axis=1)+reservoirs_volume_maf.sum(axis=1)\n",
    "dsm2_full_grid_vol.hvplot(title='DSM2 Volume (Full Extent)',ylabel='Volume (million acre-feet)')"
   ]
  },
  {
   "cell_type": "code",
   "execution_count": null,
   "id": "1d7f61b8",
   "metadata": {},
   "outputs": [],
   "source": [
    "chans_suisun_marsh = pd.read_csv('suisun_marsh_channel_numbers.csv')"
   ]
  },
  {
   "cell_type": "code",
   "execution_count": null,
   "id": "a4acce8a",
   "metadata": {},
   "outputs": [],
   "source": [
    "chans_suisun_marsh.channel_nu.values"
   ]
  },
  {
   "cell_type": "code",
   "execution_count": null,
   "id": "ac166b10",
   "metadata": {},
   "outputs": [],
   "source": [
    "suisun_marsh_cols = chan_vols_maf.columns[\n",
    "    chan_vols_maf.columns.astype(int).isin(chans_suisun_marsh.channel_nu.values)]\n",
    "not_suisun_marsh_cols = chan_vols_maf.columns[~\n",
    "    chan_vols_maf.columns.astype(int).isin(chans_suisun_marsh.channel_nu.values)]\n"
   ]
  },
  {
   "cell_type": "code",
   "execution_count": null,
   "id": "4f664678",
   "metadata": {},
   "outputs": [],
   "source": [
    "chan_vols_maf[suisun_marsh_cols].sum(axis=1).hvplot(title='DSM2 Volume (Suisun Marsh)',ylabel='Volume (million acre-feet)')"
   ]
  },
  {
   "cell_type": "code",
   "execution_count": null,
   "id": "92060ae2",
   "metadata": {},
   "outputs": [],
   "source": [
    "chan_vols_maf[not_suisun_marsh_cols].sum(axis=1).hvplot()"
   ]
  },
  {
   "cell_type": "code",
   "execution_count": null,
   "id": "c0dc0b11",
   "metadata": {},
   "outputs": [],
   "source": [
    "(chan_vols_maf[not_suisun_marsh_cols].sum(\n",
    "    axis=1)+reservoirs_volume_maf.sum(\n",
    "    axis=1)).hvplot(title='DSM2 Volume (Delta only)',ylabel='Volume (million acre-feet)')"
   ]
  },
  {
   "cell_type": "code",
   "execution_count": null,
   "id": "b2668217",
   "metadata": {},
   "outputs": [],
   "source": []
  }
 ],
 "metadata": {
  "kernelspec": {
   "display_name": "Python [conda env:dev_pydelmod]",
   "language": "python",
   "name": "conda-env-dev_pydelmod-py"
  },
  "language_info": {
   "codemirror_mode": {
    "name": "ipython",
    "version": 3
   },
   "file_extension": ".py",
   "mimetype": "text/x-python",
   "name": "python",
   "nbconvert_exporter": "python",
   "pygments_lexer": "ipython3",
   "version": "3.7.13"
  },
  "toc": {
   "base_numbering": 1,
   "nav_menu": {},
   "number_sections": true,
   "sideBar": true,
   "skip_h1_title": false,
   "title_cell": "Table of Contents",
   "title_sidebar": "Contents",
   "toc_cell": false,
   "toc_position": {},
   "toc_section_display": true,
   "toc_window_display": false
  }
 },
 "nbformat": 4,
 "nbformat_minor": 5
}
