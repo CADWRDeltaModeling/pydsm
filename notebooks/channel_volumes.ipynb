{
 "cells": [
  {
   "cell_type": "markdown",
   "id": "79c95433",
   "metadata": {},
   "source": [
    "# Calculate the volume for the Delta using the h5 hydro information"
   ]
  },
  {
   "cell_type": "code",
   "execution_count": null,
   "id": "d7508b1e",
   "metadata": {},
   "outputs": [],
   "source": [
    "import pandas as pd\n",
    "\n",
    "import pydsm\n",
    "\n",
    "from pydsm import hydroh5"
   ]
  },
  {
   "cell_type": "code",
   "execution_count": null,
   "id": "7c7448ef",
   "metadata": {},
   "outputs": [],
   "source": [
    "hydro_tidefilename = 'd:/delta/dsm2_studies_master/studies/historical/output/hist_v2022_01.h5'"
   ]
  },
  {
   "cell_type": "code",
   "execution_count": null,
   "id": "255a0829",
   "metadata": {},
   "outputs": [],
   "source": [
    "hydro = hydroh5.HydroH5(hydro_tidefilename)"
   ]
  },
  {
   "cell_type": "markdown",
   "id": "6d8df90f",
   "metadata": {},
   "source": [
    "## Channel ids "
   ]
  },
  {
   "cell_type": "code",
   "execution_count": null,
   "id": "861110bc",
   "metadata": {},
   "outputs": [],
   "source": [
    "cids = list(hydro.get_channels().values.flatten())"
   ]
  },
  {
   "cell_type": "markdown",
   "id": "20fa181a",
   "metadata": {},
   "source": [
    "## Timewindow"
   ]
  },
  {
   "cell_type": "code",
   "execution_count": null,
   "id": "d6c15879",
   "metadata": {},
   "outputs": [],
   "source": [
    "timewindow = '01JAN2014 - 01JAN2015'"
   ]
  },
  {
   "cell_type": "markdown",
   "id": "ec4f6dc2",
   "metadata": {},
   "source": [
    "## Channel Areas"
   ]
  },
  {
   "cell_type": "code",
   "execution_count": null,
   "id": "73d289da",
   "metadata": {},
   "outputs": [],
   "source": [
    "chan_areas = hydro.get_channel_avg_area(cids,timewindow)\n",
    "chan_areas"
   ]
  },
  {
   "cell_type": "markdown",
   "id": "b9f9b42c",
   "metadata": {},
   "source": [
    "## Channel Lengths"
   ]
  },
  {
   "cell_type": "code",
   "execution_count": null,
   "id": "334f630b",
   "metadata": {},
   "outputs": [],
   "source": [
    "channels = hydro.get_input_table('/hydro/input/channel')\n",
    "\n",
    "chan_lengths = channels.set_index('chan_no')['length']\n",
    "chan_lengths"
   ]
  },
  {
   "cell_type": "markdown",
   "id": "b6386482",
   "metadata": {},
   "source": [
    "## Channel Volumes = Channel Lengths * Channel Areas"
   ]
  },
  {
   "cell_type": "code",
   "execution_count": null,
   "id": "3e98f3c7",
   "metadata": {},
   "outputs": [],
   "source": [
    "chan_vols = chan_lengths.values*chan_areas"
   ]
  },
  {
   "cell_type": "markdown",
   "id": "32d428e5",
   "metadata": {},
   "source": [
    "# Visualization"
   ]
  },
  {
   "cell_type": "code",
   "execution_count": null,
   "id": "580c3dec",
   "metadata": {},
   "outputs": [],
   "source": [
    "import hvplot.pandas"
   ]
  },
  {
   "cell_type": "code",
   "execution_count": null,
   "id": "7b2bd2c9",
   "metadata": {},
   "outputs": [],
   "source": [
    "# 1 acre-feet = 43559.9 cubic feet\n",
    "# 1 maf (million acre-feet) = 43559.9*1e6\n",
    "maf_factor = 43559.9*1e6"
   ]
  },
  {
   "cell_type": "code",
   "execution_count": null,
   "id": "d67849b9",
   "metadata": {},
   "outputs": [],
   "source": [
    "chan_vols_maf = chan_vols/maf_factor\n",
    "\n",
    "chan_vols_maf.sum(axis=1).hvplot(title='Sum of Channel Volumes', ylabel='Channel Volume (Million Acre-Feet)')"
   ]
  },
  {
   "cell_type": "markdown",
   "id": "994b29ae",
   "metadata": {},
   "source": [
    "# Volume of Reservoirs = Area of Reservoirs * Height of water in Reservoir"
   ]
  },
  {
   "cell_type": "code",
   "execution_count": null,
   "id": "60a678cc",
   "metadata": {},
   "outputs": [],
   "source": [
    "hydro.get_reservoirs()\n",
    "\n",
    "list(hydro.get_reservoirs().values.flatten())\n",
    "\n",
    "reservoirs_height = hydro.get_reservoir_height(\n",
    "    list(hydro.get_reservoirs().values.flatten()), timewindow)\n",
    "reservoirs_height\n",
    "\n",
    "reservoirs = hydro.get_input_table('/hydro/input/reservoir')\n",
    "reservoirs\n",
    "\n",
    "# reservoir areas are in millions of square feet\n",
    "reservoirs_volume = (reservoirs.area.values*1e6)*reservoirs_height"
   ]
  },
  {
   "cell_type": "code",
   "execution_count": null,
   "id": "dd2210b1",
   "metadata": {},
   "outputs": [],
   "source": [
    "reservoirs_volume_maf = reservoirs_volume/maf_factor"
   ]
  },
  {
   "cell_type": "code",
   "execution_count": null,
   "id": "8274986b",
   "metadata": {},
   "outputs": [],
   "source": [
    "reservoirs_volume_maf.sum(axis=1).hvplot(title='Sum of Reservoir Volumes', ylabel = 'Volume (Million Acre-Feet)')"
   ]
  },
  {
   "cell_type": "code",
   "execution_count": null,
   "id": "178d5ed3",
   "metadata": {},
   "outputs": [],
   "source": [
    "dsm2_full_grid_vol = chan_vols_maf.sum(axis=1)+reservoirs_volume_maf.sum(axis=1)\n",
    "dsm2_full_grid_vol.hvplot(title='DSM2 Volume (Full Extent)',ylabel='Volume (million acre-feet)')"
   ]
  },
  {
   "cell_type": "markdown",
   "id": "007b7e19",
   "metadata": {},
   "source": [
    "# Volume of a subset of channels\n",
    "In this case, the channels in the Suisun Marsh"
   ]
  },
  {
   "cell_type": "code",
   "execution_count": null,
   "id": "1d7f61b8",
   "metadata": {},
   "outputs": [],
   "source": [
    "chans_suisun_marsh = pd.read_csv('suisun_marsh_channel_numbers.csv')\n",
    "\n",
    "chans_suisun_marsh.channel_nu.values\n",
    "\n",
    "suisun_marsh_cols = chan_vols_maf.columns[\n",
    "    chan_vols_maf.columns.astype(int).isin(chans_suisun_marsh.channel_nu.values)]\n",
    "not_suisun_marsh_cols = chan_vols_maf.columns[~\n",
    "    chan_vols_maf.columns.astype(int).isin(chans_suisun_marsh.channel_nu.values)]\n",
    "\n",
    "\n",
    "chan_vols_maf[suisun_marsh_cols].sum(axis=1).hvplot(title='DSM2 Volume (Suisun Marsh)',ylabel='Volume (million acre-feet)')"
   ]
  },
  {
   "cell_type": "code",
   "execution_count": null,
   "id": "c0dc0b11",
   "metadata": {},
   "outputs": [],
   "source": [
    "(chan_vols_maf[not_suisun_marsh_cols].sum(\n",
    "    axis=1)+reservoirs_volume_maf.sum(\n",
    "    axis=1)).hvplot(title='DSM2 Volume (Delta only)',ylabel='Volume (million acre-feet)')"
   ]
  },
  {
   "cell_type": "code",
   "execution_count": null,
   "id": "b2668217",
   "metadata": {},
   "outputs": [],
   "source": []
  }
 ],
 "metadata": {
  "kernelspec": {
   "display_name": "Python [conda env:dev_pydsm]",
   "language": "python",
   "name": "conda-env-dev_pydsm-py"
  },
  "language_info": {
   "codemirror_mode": {
    "name": "ipython",
    "version": 3
   },
   "file_extension": ".py",
   "mimetype": "text/x-python",
   "name": "python",
   "nbconvert_exporter": "python",
   "pygments_lexer": "ipython3",
   "version": "3.8.15"
  },
  "toc": {
   "base_numbering": 1,
   "nav_menu": {},
   "number_sections": true,
   "sideBar": true,
   "skip_h1_title": false,
   "title_cell": "Table of Contents",
   "title_sidebar": "Contents",
   "toc_cell": false,
   "toc_position": {},
   "toc_section_display": true,
   "toc_window_display": false
  }
 },
 "nbformat": 4,
 "nbformat_minor": 5
}
