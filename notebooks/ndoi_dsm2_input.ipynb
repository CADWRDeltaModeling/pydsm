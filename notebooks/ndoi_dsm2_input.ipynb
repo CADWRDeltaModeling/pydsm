{
 "cells": [
  {
   "cell_type": "code",
   "execution_count": null,
   "id": "8d1372f0-7de1-4236-8767-f24846a8f942",
   "metadata": {},
   "outputs": [],
   "source": [
    "import pydsm\n",
    "\n",
    "from pydsm import hydro_flow_calcs\n",
    "\n",
    "import hvplot.pandas"
   ]
  },
  {
   "cell_type": "code",
   "execution_count": null,
   "id": "133282a0-da44-4add-9d09-b19d61b79abf",
   "metadata": {},
   "outputs": [],
   "source": [
    "echo_file = 'd:/delta/dsm2_studies_master/studies/historical/output/hydro_echo_hist_v2022_01.inp'"
   ]
  },
  {
   "cell_type": "code",
   "execution_count": null,
   "id": "090461b9-254a-4dbc-bd22-81cc53915f1d",
   "metadata": {},
   "outputs": [],
   "source": [
    "ndoi = hydro_flow_calcs.calculate_net_flow(echo_file)"
   ]
  },
  {
   "cell_type": "code",
   "execution_count": null,
   "id": "234dba8e-8cde-4f21-b47f-dd917823b693",
   "metadata": {},
   "outputs": [],
   "source": [
    "ndoi.dropna().hvplot(grid=True)"
   ]
  }
 ],
 "metadata": {
  "kernelspec": {
   "display_name": "Python [conda env:dev_pydsm]",
   "language": "python",
   "name": "conda-env-dev_pydsm-py"
  },
  "language_info": {
   "codemirror_mode": {
    "name": "ipython",
    "version": 3
   },
   "file_extension": ".py",
   "mimetype": "text/x-python",
   "name": "python",
   "nbconvert_exporter": "python",
   "pygments_lexer": "ipython3",
   "version": "3.7.13"
  }
 },
 "nbformat": 4,
 "nbformat_minor": 5
}
