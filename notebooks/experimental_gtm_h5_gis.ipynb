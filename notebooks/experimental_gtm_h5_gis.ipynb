{
 "cells": [
  {
   "cell_type": "code",
   "execution_count": null,
   "id": "61a04949",
   "metadata": {},
   "outputs": [],
   "source": [
    "import pandas as pd\n",
    "import numpy as np\n",
    "\n",
    "import pydsm\n",
    "\n",
    "from pydsm import qualh5\n",
    "\n",
    "import h5py\n",
    "from pydsm import dsm2h5"
   ]
  },
  {
   "cell_type": "markdown",
   "id": "b257b009",
   "metadata": {},
   "source": [
    "# Read GTM h5 file from "
   ]
  },
  {
   "cell_type": "code",
   "execution_count": null,
   "id": "d51b3df0",
   "metadata": {},
   "outputs": [],
   "source": [
    "gtm_file = '../tests/data/gtm_sample_output/on_cell/historical_gtm.h5'"
   ]
  },
  {
   "cell_type": "code",
   "execution_count": null,
   "id": "c85fd690",
   "metadata": {},
   "outputs": [],
   "source": [
    "gh5 = h5py.File(gtm_file, 'r+')"
   ]
  },
  {
   "cell_type": "code",
   "execution_count": null,
   "id": "894d179f",
   "metadata": {},
   "outputs": [],
   "source": [
    "dsm2h5.get_model(gh5) # wrong. should return gtm"
   ]
  },
  {
   "cell_type": "markdown",
   "id": "740e92ee",
   "metadata": {},
   "source": [
    "List of constituents"
   ]
  },
  {
   "cell_type": "code",
   "execution_count": null,
   "id": "2e4cddce",
   "metadata": {},
   "outputs": [],
   "source": [
    "dsm2h5.read_table_as_df(gh5, '/output/constituent_names').iloc[:,0].values.tolist()"
   ]
  },
  {
   "cell_type": "markdown",
   "id": "10a599fb",
   "metadata": {},
   "source": [
    "Channels with cell informatioin"
   ]
  },
  {
   "cell_type": "code",
   "execution_count": null,
   "id": "77a2b67c",
   "metadata": {},
   "outputs": [],
   "source": [
    "channels = dsm2h5.read_table_as_df(gh5, '/geometry/channel')\n",
    "channels"
   ]
  },
  {
   "cell_type": "markdown",
   "id": "5ec3f3ac",
   "metadata": {},
   "source": [
    "List of data paths in GTM"
   ]
  },
  {
   "cell_type": "code",
   "execution_count": null,
   "id": "20eed1b6",
   "metadata": {},
   "outputs": [],
   "source": [
    "gtm_datapaths = ['/output/'+tname for tname in gh5['/output']]\n",
    "gtm_datapaths"
   ]
  },
  {
   "cell_type": "markdown",
   "id": "b9e996ab",
   "metadata": {},
   "source": [
    "Connection table"
   ]
  },
  {
   "cell_type": "code",
   "execution_count": null,
   "id": "968cb276",
   "metadata": {},
   "outputs": [],
   "source": [
    "dsm2h5.read_table_as_df(gh5, '/geometry/connection')"
   ]
  },
  {
   "cell_type": "markdown",
   "id": "a0d3ee2f",
   "metadata": {},
   "source": [
    "Attributes of Cell concentration table"
   ]
  },
  {
   "cell_type": "code",
   "execution_count": null,
   "id": "70b53732",
   "metadata": {},
   "outputs": [],
   "source": [
    "attrs = dsm2h5.read_attributes_from_table(gh5['/output/cell concentration'])\n",
    "attrs"
   ]
  },
  {
   "cell_type": "markdown",
   "id": "c0a8662d",
   "metadata": {},
   "source": [
    "read the entire cell concentrations. slicing by time is also available"
   ]
  },
  {
   "cell_type": "code",
   "execution_count": null,
   "id": "1103f485",
   "metadata": {},
   "outputs": [],
   "source": [
    "dfcell = dsm2h5.read_time_indexed_table(gh5,'/output/cell concentration',None,0)\n",
    "dfcell"
   ]
  },
  {
   "cell_type": "code",
   "execution_count": null,
   "id": "e3071876",
   "metadata": {},
   "outputs": [],
   "source": [
    "import hvplot.pandas\n",
    "hvplot.extension('bokeh')"
   ]
  },
  {
   "cell_type": "code",
   "execution_count": null,
   "id": "2ad1e47d",
   "metadata": {},
   "outputs": [],
   "source": [
    "channels.query('channel_num == 441')"
   ]
  },
  {
   "cell_type": "code",
   "execution_count": null,
   "id": "5572be1a",
   "metadata": {},
   "outputs": [],
   "source": [
    "dfcell.loc[:,3613:3617].hvplot(rot=40)"
   ]
  },
  {
   "cell_type": "markdown",
   "id": "45b04f5d",
   "metadata": {},
   "source": [
    "Cell concentration shape is time x constituents x cell_number"
   ]
  },
  {
   "cell_type": "markdown",
   "id": "1858fe00",
   "metadata": {},
   "source": [
    "The dataframe above shows the attributes for the table\n",
    "The start time and interval together should help convert the first dimension to time indexed array \n",
    "Each constituent can be returned with the cell ids"
   ]
  },
  {
   "cell_type": "markdown",
   "id": "73878132",
   "metadata": {},
   "source": [
    "Segments are where cells are defined for each channel. Segments seem to be grouping of cells within a channel"
   ]
  },
  {
   "cell_type": "code",
   "execution_count": null,
   "id": "333a1e54",
   "metadata": {},
   "outputs": [],
   "source": [
    "dfsegments = dsm2h5.read_table_as_df(gh5, '/geometry/segment')\n",
    "dfsegments"
   ]
  },
  {
   "cell_type": "code",
   "execution_count": null,
   "id": "c27b2aaa",
   "metadata": {},
   "outputs": [],
   "source": [
    "dfsegments['nx'].sum()"
   ]
  },
  {
   "cell_type": "code",
   "execution_count": null,
   "id": "e5ad08a2",
   "metadata": {},
   "outputs": [],
   "source": [
    "import geopandas as gpd"
   ]
  },
  {
   "cell_type": "code",
   "execution_count": null,
   "id": "449a8d3a",
   "metadata": {},
   "outputs": [],
   "source": [
    "from shapely.geometry import LineString, Point\n",
    "import math\n",
    "def cut(line, distance):\n",
    "    # Cuts a line in two at a distance from its starting point\n",
    "    if distance <= 0.0 or math.isclose(distance, line.length, abs_tol=0.01) or distance >= line.length:\n",
    "        return [LineString(line)]\n",
    "    coords = list(line.coords)\n",
    "    for i, p in enumerate(coords):\n",
    "        pd = line.project(Point(p))\n",
    "        if pd == distance:\n",
    "            return [\n",
    "                LineString(coords[:i+1]),\n",
    "                LineString(coords[i:])]\n",
    "        if pd > distance:\n",
    "            cp = line.interpolate(distance)\n",
    "            return [\n",
    "                LineString(coords[:i] + [(cp.x, cp.y)]),\n",
    "                LineString([(cp.x, cp.y)] + coords[i:])]\n",
    "\n",
    "def split(line, distance):\n",
    "    segments = []\n",
    "    while math.isclose(line.length, distance, abs_tol=0.01) or line.length > distance:\n",
    "        segline = cut(line, distance)\n",
    "        if len(segline) == 2:\n",
    "            segments.append(segline[0])\n",
    "            line = segline[1]\n",
    "        elif len(segline) == 1:\n",
    "            segments.append(segline[0])\n",
    "            break;\n",
    "    return segments"
   ]
  },
  {
   "cell_type": "code",
   "execution_count": null,
   "id": "3eeb53a7",
   "metadata": {},
   "outputs": [],
   "source": [
    "channel_lines = gpd.read_file('../pydsm/maps/v8.2-opendata/gisgridmapv8.2channelcenterlines/dsm2_channels_centerlines_8_2.shp')"
   ]
  },
  {
   "cell_type": "code",
   "execution_count": null,
   "id": "4bc22f06",
   "metadata": {},
   "outputs": [],
   "source": [
    "nodes = gpd.read_file('../pydsm/maps/v8.2-opendata/gisgridmapv8.2nodes/dsm2_nodes_8_2.shp')"
   ]
  },
  {
   "cell_type": "markdown",
   "id": "9dc89dc5",
   "metadata": {},
   "source": [
    "Are the channel lines specified as lines from upnode to downnode? If not make them so that channel lines are specified as points from upnode to downnode"
   ]
  },
  {
   "cell_type": "code",
   "execution_count": null,
   "id": "2468e07d",
   "metadata": {},
   "outputs": [],
   "source": [
    "import math"
   ]
  },
  {
   "cell_type": "code",
   "execution_count": null,
   "id": "0c36bd65",
   "metadata": {},
   "outputs": [],
   "source": [
    "import shapely.wkt\n",
    "import shapely.ops\n",
    "\n",
    "\n",
    "def reverse_geom(geom):\n",
    "    def _reverse(x, y, z=None):\n",
    "        if z:\n",
    "            return x[::-1], y[::-1], z[::-1]\n",
    "        return x[::-1], y[::-1]\n",
    "\n",
    "    return shapely.ops.transform(_reverse, geom)"
   ]
  },
  {
   "cell_type": "code",
   "execution_count": null,
   "id": "a2c087d7",
   "metadata": {},
   "outputs": [],
   "source": [
    "channel_lines = channel_lines.merge(channels, left_on='id', right_on='channel_num')\n",
    "channel_lines"
   ]
  },
  {
   "cell_type": "code",
   "execution_count": null,
   "id": "7913414a",
   "metadata": {},
   "outputs": [],
   "source": [
    "new_geom = []\n",
    "for i,r in channel_lines.iterrows():\n",
    "    line = r['geometry']\n",
    "    upnode = nodes.query(f'id=={r[\"up_node\"]}').geometry.values[0]\n",
    "    dnnode = nodes.query(f'id=={r[\"down_node\"]}').geometry.values[0]\n",
    "    #print(r[\"channel_num\"],line.project(upnode),line.project(dnnode))\n",
    "    if line.project(upnode) < line.project(dnnode):\n",
    "        pass\n",
    "    else:\n",
    "        print(f'reversing: r[\"channel_num\"]')\n",
    "        line = reverse_geom(line)    \n",
    "    new_geom.append(line)"
   ]
  },
  {
   "cell_type": "code",
   "execution_count": null,
   "id": "6cd2b503",
   "metadata": {},
   "outputs": [],
   "source": [
    "cells = []\n",
    "for i,r in channel_lines.iterrows():#.query('channel_length > 25000').iterrows():\n",
    "    line = r['geometry']\n",
    "    nsegments = (r['end_cell']-r['start_cell']+1)\n",
    "    segs = split(line, line.length/nsegments)\n",
    "    cells = cells + list(zip(range(r['start_cell'],r['end_cell']+1), segs, [r['channel_num']]*nsegments))"
   ]
  },
  {
   "cell_type": "code",
   "execution_count": null,
   "id": "4cb712f6",
   "metadata": {},
   "outputs": [],
   "source": [
    "cell_gis = pd.DataFrame(cells)\n",
    "cell_gis.columns=['id','geometry','channel_num']\n",
    "cell_gis = gpd.GeoDataFrame(cell_gis, geometry='geometry', crs=channel_lines.crs)\n",
    "cell_gis.plot()"
   ]
  },
  {
   "cell_type": "code",
   "execution_count": null,
   "id": "4c02ca39",
   "metadata": {},
   "outputs": [],
   "source": [
    "import holoviews as hv\n",
    "from holoviews import opts, dim\n",
    "import geoviews as gv\n",
    "import cartopy.crs as ccrs\n",
    "hv.extension('bokeh')\n",
    "import hvplot\n",
    "#\n",
    "import panel as pn\n",
    "pn.extension()\n",
    "#\n",
    "import warnings\n",
    "warnings.filterwarnings('ignore')\n"
   ]
  },
  {
   "cell_type": "code",
   "execution_count": null,
   "id": "f99bc97a",
   "metadata": {},
   "outputs": [],
   "source": [
    "date='2016-05-17 20:00'\n",
    "cell_vals = dfcell.loc[pd.to_datetime(date)]\n",
    "cell_vals.name = 'ec'\n",
    "mcell_gis = cell_gis.join(cell_vals, on='id')\n",
    "mcell_gis"
   ]
  },
  {
   "cell_type": "code",
   "execution_count": null,
   "id": "f65bdd41",
   "metadata": {},
   "outputs": [],
   "source": [
    "tmap=hv.element.tiles.CartoLight().opts(width=600,height=500,alpha=0.5)"
   ]
  },
  {
   "cell_type": "code",
   "execution_count": null,
   "id": "5845bcae",
   "metadata": {},
   "outputs": [],
   "source": [
    "start_time = dfcell.index[0]"
   ]
  },
  {
   "cell_type": "code",
   "execution_count": null,
   "id": "b4d67022",
   "metadata": {},
   "outputs": [],
   "source": [
    "def get_data(ti):\n",
    "    df = dfcell.iloc[ti]\n",
    "    df.name='ec'\n",
    "    return df\n",
    "\n",
    "def channel_map(ti):\n",
    "    cell_vals=get_data(ti)\n",
    "    cur_time = start_time+i*dfcell.index.freq# ti*pd.to_timedelta('1D')#\n",
    "    tlabel = cur_time.strftime('%Y-%m-%d %H:%M')\n",
    "    mcell_gis=cell_gis.join(cell_vals, on='id')\n",
    "    chans_plot=gv.Path(mcell_gis, vdims=['ec'], \n",
    "                       crs=ccrs.UTM(10)).opts(cmap='rainbow4',\n",
    "                                              color='ec', clim=(300,800), colorbar=True, \n",
    "                                              line_width=2, framewise=False)\n",
    "    return chans_plot.opts(title='Time: %s'%tlabel,framewise=False)\n",
    "\n",
    "time_index = pn.widgets.IntSlider(start=0,end=len(dfcell))\n",
    "dmap=hv.DynamicMap(channel_map, streams = {'ti':time_index})\n",
    "pn.Column(time_index, tmap*dmap)"
   ]
  },
  {
   "cell_type": "code",
   "execution_count": null,
   "id": "5601ee78",
   "metadata": {},
   "outputs": [],
   "source": [
    "view = channel_map(0)\n",
    "from bokeh.io import push_notebook, show, output_notebook\n",
    "rendered_view=hv.render(tmap*view)\n",
    "pr=rendered_view.renderers[1]\n",
    "target = show(rendered_view, notebook_handle=True)\n",
    "# faster to update view?\n",
    "def update_view(ti=0):\n",
    "    cell_vals=get_data(ti)\n",
    "    cur_time = start_time+ti*dfcell.index.freq# ti*pd.to_timedelta('1D')#\n",
    "    tlabel = cur_time.strftime('%Y-%m-%d %H:%M')\n",
    "    rendered_view.title.text=tlabel\n",
    "    #\n",
    "    mcell_gis=cell_gis.join(cell_vals,on='id')\n",
    "    pr.data_source.data['color']=mcell_gis.ec.values\n",
    "    #pr.data_source.data['ec']=mcell_gis.ec.values\n",
    "    push_notebook(handle=target)\n",
    "#\n",
    "pn.interact(update_view,ti=(0,len(dfcell)))"
   ]
  },
  {
   "cell_type": "code",
   "execution_count": null,
   "id": "f41ea86a",
   "metadata": {},
   "outputs": [],
   "source": []
  }
 ],
 "metadata": {
  "kernelspec": {
   "display_name": "Python [conda env:dev_pydsm]",
   "language": "python",
   "name": "conda-env-dev_pydsm-py"
  },
  "language_info": {
   "codemirror_mode": {
    "name": "ipython",
    "version": 3
   },
   "file_extension": ".py",
   "mimetype": "text/x-python",
   "name": "python",
   "nbconvert_exporter": "python",
   "pygments_lexer": "ipython3",
   "version": "3.8.15"
  },
  "toc": {
   "base_numbering": 1,
   "nav_menu": {},
   "number_sections": true,
   "sideBar": true,
   "skip_h1_title": false,
   "title_cell": "Table of Contents",
   "title_sidebar": "Contents",
   "toc_cell": false,
   "toc_position": {},
   "toc_section_display": true,
   "toc_window_display": false
  }
 },
 "nbformat": 4,
 "nbformat_minor": 5
}
