{
 "cells": [
  {
   "cell_type": "code",
   "execution_count": 33,
   "metadata": {
    "ExecuteTime": {
     "end_time": "2019-09-24T17:48:25.774743Z",
     "start_time": "2019-09-24T17:48:25.768794Z"
    }
   },
   "outputs": [],
   "source": [
    "import pyhecdss\n",
    "import numpy as np\n",
    "import pandas as pd\n",
    "import matplotlib.pyplot as plt\n",
    "%matplotlib inline"
   ]
  },
  {
   "cell_type": "code",
   "execution_count": 34,
   "metadata": {
    "ExecuteTime": {
     "end_time": "2019-09-24T17:48:26.100806Z",
     "start_time": "2019-09-24T17:48:26.094802Z"
    }
   },
   "outputs": [],
   "source": [
    "d=pyhecdss.DSSFile('justoneone.dss')"
   ]
  },
  {
   "cell_type": "code",
   "execution_count": 35,
   "metadata": {
    "ExecuteTime": {
     "end_time": "2019-09-24T17:48:26.644840Z",
     "start_time": "2019-09-24T17:48:26.639786Z"
    }
   },
   "outputs": [],
   "source": [
    "ones=np.zeros(5000,)\n",
    "midpt=round(len(ones)/2)\n",
    "ones[midpt]=1.0\n",
    "#ones[len(ones)/2]=1.0"
   ]
  },
  {
   "cell_type": "code",
   "execution_count": 36,
   "metadata": {
    "ExecuteTime": {
     "end_time": "2019-09-24T17:48:27.213413Z",
     "start_time": "2019-09-24T17:48:27.208410Z"
    }
   },
   "outputs": [],
   "source": [
    "df=pd.DataFrame(data=ones,index=pd.date_range(start='01JAN1990', periods=len(ones), freq='15T'))"
   ]
  },
  {
   "cell_type": "code",
   "execution_count": 37,
   "metadata": {
    "ExecuteTime": {
     "end_time": "2019-09-24T17:48:28.167684Z",
     "start_time": "2019-09-24T17:48:27.584207Z"
    }
   },
   "outputs": [
    {
     "data": {
      "text/plain": [
       "<matplotlib.axes._subplots.AxesSubplot at 0x128e15aa7b8>"
      ]
     },
     "execution_count": 37,
     "metadata": {},
     "output_type": "execute_result"
    },
    {
     "data": {
      "image/png": "[encoded data removed]",
      "text/plain": [
       "<Figure size 432x288 with 1 Axes>"
      ]
     },
     "metadata": {
      "needs_background": "light"
     },
     "output_type": "display_data"
    }
   ],
   "source": [
    "df.plot()"
   ]
  },
  {
   "cell_type": "code",
   "execution_count": 38,
   "metadata": {
    "ExecuteTime": {
     "end_time": "2019-09-24T17:48:28.947263Z",
     "start_time": "2019-09-24T17:48:28.944260Z"
    }
   },
   "outputs": [],
   "source": [
    "df.columns=['/TEST/ONES/ALL///TEST/']"
   ]
  },
  {
   "cell_type": "code",
   "execution_count": 39,
   "metadata": {
    "ExecuteTime": {
     "end_time": "2019-09-24T17:48:29.465510Z",
     "start_time": "2019-09-24T17:48:29.458504Z"
    }
   },
   "outputs": [],
   "source": [
    "d.write_rts(df.columns[0],df,'XXX','INST-VAL')"
   ]
  },
  {
   "cell_type": "code",
   "execution_count": 40,
   "metadata": {
    "ExecuteTime": {
     "end_time": "2019-09-24T17:48:30.778698Z",
     "start_time": "2019-09-24T17:48:30.752677Z"
    }
   },
   "outputs": [],
   "source": [
    "d.close()\n"
   ]
  },
  {
   "cell_type": "code",
   "execution_count": null,
   "metadata": {},
   "outputs": [],
   "source": []
  }
 ],
 "metadata": {
  "hide_input": false,
  "kernelspec": {
   "display_name": "Python 3",
   "language": "python",
   "name": "python3"
  },
  "language_info": {
   "codemirror_mode": {
    "name": "ipython",
    "version": 3
   },
   "file_extension": ".py",
   "mimetype": "text/x-python",
   "name": "python",
   "nbconvert_exporter": "python",
   "pygments_lexer": "ipython3",
   "version": "3.7.3"
  },
  "varInspector": {
   "cols": {
    "lenName": 16,
    "lenType": 16,
    "lenVar": 40
   },
   "kernels_config": {
    "python": {
     "delete_cmd_postfix": "",
     "delete_cmd_prefix": "del ",
     "library": "var_list.py",
     "varRefreshCmd": "print(var_dic_list())"
    },
    "r": {
     "delete_cmd_postfix": ") ",
     "delete_cmd_prefix": "rm(",
     "library": "var_list.r",
     "varRefreshCmd": "cat(var_dic_list()) "
    }
   },
   "types_to_exclude": [
    "module",
    "function",
    "builtin_function_or_method",
    "instance",
    "_Feature"
   ],
   "window_display": false
  }
 },
 "nbformat": 4,
 "nbformat_minor": 2
}
