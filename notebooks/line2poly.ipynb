{
 "cells": [
  {
   "cell_type": "code",
   "execution_count": null,
   "metadata": {},
   "outputs": [],
   "source": [
    "import shapely\n",
    "import json"
   ]
  },
  {
   "cell_type": "code",
   "execution_count": null,
   "metadata": {},
   "outputs": [],
   "source": [
    "with open('dsm2-flowlines-width.geojson','r') as f: dsm2_grid=json.load(f)"
   ]
  },
  {
   "cell_type": "code",
   "execution_count": null,
   "metadata": {},
   "outputs": [],
   "source": [
    "ch1=dsm2_grid['features'][0]"
   ]
  },
  {
   "cell_type": "code",
   "execution_count": null,
   "metadata": {},
   "outputs": [],
   "source": [
    "from shapely.geometry import mapping, shape"
   ]
  },
  {
   "cell_type": "code",
   "execution_count": null,
   "metadata": {},
   "outputs": [],
   "source": [
    "s = shape(ch1['geometry'])"
   ]
  },
  {
   "cell_type": "code",
   "execution_count": null,
   "metadata": {},
   "outputs": [],
   "source": [
    "s"
   ]
  },
  {
   "cell_type": "code",
   "execution_count": null,
   "metadata": {},
   "outputs": [],
   "source": [
    "float(ch1['properties']['width'])"
   ]
  },
  {
   "cell_type": "code",
   "execution_count": null,
   "metadata": {},
   "outputs": [],
   "source": [
    "#bounds=None\n",
    "#    if bounds:\n",
    "#        bounds.union(l.envelope)\n",
    "#    else:\n",
    "#        bounds=l.envelope\n",
    "for f in dsm2_grid['features']:\n",
    "    l=shape(f['geometry'])\n",
    "    w=f['properties']['width']\n",
    "    p=l.buffer(0.0000025*float(w))\n",
    "    f['geometry']=mapping(p)     "
   ]
  },
  {
   "cell_type": "code",
   "execution_count": null,
   "metadata": {},
   "outputs": [],
   "source": [
    "from ipyleaflet import Map, GeoJSON, FullScreenControl\n",
    "m = Map(center=(38,-121.5), zoom=9)\n",
    "geo_json = GeoJSON(data=dsm2_grid,\n",
    "                   style = {'color': 'green', 'opacity':1, 'weight':1.9, 'fillOpacity':0.5, 'fillColor':'blue'})\n",
    "m.add_layer(geo_json)\n",
    "m.add_control(FullScreenControl())\n",
    "display(m)"
   ]
  },
  {
   "cell_type": "code",
   "execution_count": null,
   "metadata": {},
   "outputs": [],
   "source": [
    "with open('dsm2-flowpolygons.geojson','w') as f: json.dump(dsm2_grid, f)"
   ]
  },
  {
   "cell_type": "code",
   "execution_count": null,
   "metadata": {},
   "outputs": [],
   "source": [
    "with open('dsm2-flowpolygons.geojson','r') as f: dsm2_poly_grid=json.load(f)"
   ]
  },
  {
   "cell_type": "code",
   "execution_count": null,
   "metadata": {},
   "outputs": [],
   "source": [
    "from ipyleaflet import Map, GeoJSON, FullScreenControl\n",
    "m = Map(center=(38,-121.5), zoom=9)\n",
    "geo_json = GeoJSON(data=dsm2_poly_grid,\n",
    "                   style = {'color': 'blue', 'opacity':1, 'weight':1.9, 'fillOpacity':1, 'fillColor':'blue'})\n",
    "m.add_layer(geo_json)\n",
    "m.add_control(FullScreenControl())\n",
    "display(m)"
   ]
  },
  {
   "cell_type": "code",
   "execution_count": null,
   "metadata": {},
   "outputs": [],
   "source": []
  }
 ],
 "metadata": {
  "kernelspec": {
   "display_name": "Python 3",
   "language": "python",
   "name": "python3"
  },
  "language_info": {
   "codemirror_mode": {
    "name": "ipython",
    "version": 3
   },
   "file_extension": ".py",
   "mimetype": "text/x-python",
   "name": "python",
   "nbconvert_exporter": "python",
   "pygments_lexer": "ipython3",
   "version": "3.7.4"
  }
 },
 "nbformat": 4,
 "nbformat_minor": 2
}
