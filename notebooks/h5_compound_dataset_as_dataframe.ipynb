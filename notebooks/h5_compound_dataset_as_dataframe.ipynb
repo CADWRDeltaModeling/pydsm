{
 "cells": [
  {
   "cell_type": "markdown",
   "metadata": {},
   "source": [
    "## Dealing with compound data set\n",
    "Using dtypes one can detect the names for the dtype and then copy into an array and convert to np.str\n",
    "Then pandas DataFrame can parse those properly as a table"
   ]
  },
  {
   "cell_type": "code",
   "execution_count": 1,
   "metadata": {
    "ExecuteTime": {
     "end_time": "2019-09-09T18:09:07.649624Z",
     "start_time": "2019-09-09T18:09:06.216818Z"
    }
   },
   "outputs": [],
   "source": [
    "import pandas as pd\n",
    "import numpy as np\n",
    "import h5py\n",
    "h5 = h5py.File('../data/output/historical_v82.h5')"
   ]
  },
  {
   "cell_type": "code",
   "execution_count": 2,
   "metadata": {
    "ExecuteTime": {
     "end_time": "2019-09-09T18:09:07.655125Z",
     "start_time": "2019-09-09T18:09:07.651626Z"
    }
   },
   "outputs": [],
   "source": [
    "x=h5.get('/hydro/geometry/reservoir_node_connect')"
   ]
  },
  {
   "cell_type": "markdown",
   "metadata": {},
   "source": [
    "See below on how to use dtype on returned array to see the names"
   ]
  },
  {
   "cell_type": "code",
   "execution_count": 3,
   "metadata": {
    "ExecuteTime": {
     "end_time": "2019-09-09T18:09:07.705361Z",
     "start_time": "2019-09-09T18:09:07.657617Z"
    }
   },
   "outputs": [
    {
     "data": {
      "text/plain": [
       "('res_node_index',\n",
       " 'res_name',\n",
       " 'res_index',\n",
       " 'connect_index',\n",
       " 'node_no',\n",
       " 'ext_node_no',\n",
       " 'connection_type')"
      ]
     },
     "execution_count": 3,
     "metadata": {},
     "output_type": "execute_result"
    }
   ],
   "source": [
    "x[0].dtype.names"
   ]
  },
  {
   "cell_type": "markdown",
   "metadata": {},
   "source": [
    "Now the names can be used to get the value for that dtype"
   ]
  },
  {
   "cell_type": "code",
   "execution_count": 4,
   "metadata": {
    "ExecuteTime": {
     "end_time": "2019-09-09T18:09:07.734224Z",
     "start_time": "2019-09-09T18:09:07.707856Z"
    }
   },
   "outputs": [
    {
     "data": {
      "text/plain": [
       "b'bethel                          '"
      ]
     },
     "execution_count": 4,
     "metadata": {},
     "output_type": "execute_result"
    }
   ],
   "source": [
    "x[0]['res_name']"
   ]
  },
  {
   "cell_type": "markdown",
   "metadata": {},
   "source": [
    "Using generative expressions to get the values as arrays of arrays with everything converted to strings"
   ]
  },
  {
   "cell_type": "code",
   "execution_count": 5,
   "metadata": {
    "ExecuteTime": {
     "end_time": "2019-09-09T18:09:07.804490Z",
     "start_time": "2019-09-09T18:09:07.736222Z"
    }
   },
   "outputs": [
    {
     "data": {
      "text/html": [
       "<div>\n",
       "<style scoped>\n",
       "    .dataframe tbody tr th:only-of-type {\n",
       "        vertical-align: middle;\n",
       "    }\n",
       "\n",
       "    .dataframe tbody tr th {\n",
       "        vertical-align: top;\n",
       "    }\n",
       "\n",
       "    .dataframe thead th {\n",
       "        text-align: right;\n",
       "    }\n",
       "</style>\n",
       "<table border=\"1\" class=\"dataframe\">\n",
       "  <thead>\n",
       "    <tr style=\"text-align: right;\">\n",
       "      <th></th>\n",
       "      <th>0</th>\n",
       "      <th>1</th>\n",
       "      <th>2</th>\n",
       "      <th>3</th>\n",
       "      <th>4</th>\n",
       "      <th>5</th>\n",
       "      <th>6</th>\n",
       "    </tr>\n",
       "  </thead>\n",
       "  <tbody>\n",
       "    <tr>\n",
       "      <th>0</th>\n",
       "      <td>1</td>\n",
       "      <td>bethel</td>\n",
       "      <td>1</td>\n",
       "      <td>1</td>\n",
       "      <td>203</td>\n",
       "      <td>220</td>\n",
       "      <td>node</td>\n",
       "    </tr>\n",
       "    <tr>\n",
       "      <th>1</th>\n",
       "      <td>2</td>\n",
       "      <td>clifton_court</td>\n",
       "      <td>2</td>\n",
       "      <td>1</td>\n",
       "      <td>71</td>\n",
       "      <td>72</td>\n",
       "      <td>gate</td>\n",
       "    </tr>\n",
       "    <tr>\n",
       "      <th>2</th>\n",
       "      <td>3</td>\n",
       "      <td>discovery_bay</td>\n",
       "      <td>3</td>\n",
       "      <td>1</td>\n",
       "      <td>183</td>\n",
       "      <td>197</td>\n",
       "      <td>node</td>\n",
       "    </tr>\n",
       "    <tr>\n",
       "      <th>3</th>\n",
       "      <td>4</td>\n",
       "      <td>discovery_bay</td>\n",
       "      <td>3</td>\n",
       "      <td>2</td>\n",
       "      <td>184</td>\n",
       "      <td>198</td>\n",
       "      <td>node</td>\n",
       "    </tr>\n",
       "    <tr>\n",
       "      <th>4</th>\n",
       "      <td>5</td>\n",
       "      <td>franks_tract</td>\n",
       "      <td>4</td>\n",
       "      <td>1</td>\n",
       "      <td>98</td>\n",
       "      <td>103</td>\n",
       "      <td>node</td>\n",
       "    </tr>\n",
       "    <tr>\n",
       "      <th>5</th>\n",
       "      <td>6</td>\n",
       "      <td>franks_tract</td>\n",
       "      <td>4</td>\n",
       "      <td>2</td>\n",
       "      <td>199</td>\n",
       "      <td>216</td>\n",
       "      <td>node</td>\n",
       "    </tr>\n",
       "    <tr>\n",
       "      <th>6</th>\n",
       "      <td>7</td>\n",
       "      <td>franks_tract</td>\n",
       "      <td>4</td>\n",
       "      <td>3</td>\n",
       "      <td>202</td>\n",
       "      <td>219</td>\n",
       "      <td>node</td>\n",
       "    </tr>\n",
       "    <tr>\n",
       "      <th>7</th>\n",
       "      <td>8</td>\n",
       "      <td>franks_tract</td>\n",
       "      <td>4</td>\n",
       "      <td>4</td>\n",
       "      <td>207</td>\n",
       "      <td>224</td>\n",
       "      <td>node</td>\n",
       "    </tr>\n",
       "    <tr>\n",
       "      <th>8</th>\n",
       "      <td>9</td>\n",
       "      <td>franks_tract</td>\n",
       "      <td>4</td>\n",
       "      <td>5</td>\n",
       "      <td>208</td>\n",
       "      <td>225</td>\n",
       "      <td>node</td>\n",
       "    </tr>\n",
       "    <tr>\n",
       "      <th>9</th>\n",
       "      <td>10</td>\n",
       "      <td>franks_tract</td>\n",
       "      <td>4</td>\n",
       "      <td>6</td>\n",
       "      <td>212</td>\n",
       "      <td>232</td>\n",
       "      <td>node</td>\n",
       "    </tr>\n",
       "    <tr>\n",
       "      <th>10</th>\n",
       "      <td>11</td>\n",
       "      <td>liberty</td>\n",
       "      <td>5</td>\n",
       "      <td>1</td>\n",
       "      <td>288</td>\n",
       "      <td>322</td>\n",
       "      <td>node</td>\n",
       "    </tr>\n",
       "    <tr>\n",
       "      <th>11</th>\n",
       "      <td>12</td>\n",
       "      <td>mildred</td>\n",
       "      <td>6</td>\n",
       "      <td>1</td>\n",
       "      <td>122</td>\n",
       "      <td>127</td>\n",
       "      <td>node</td>\n",
       "    </tr>\n",
       "    <tr>\n",
       "      <th>12</th>\n",
       "      <td>13</td>\n",
       "      <td>mildred</td>\n",
       "      <td>6</td>\n",
       "      <td>2</td>\n",
       "      <td>124</td>\n",
       "      <td>129</td>\n",
       "      <td>node</td>\n",
       "    </tr>\n",
       "    <tr>\n",
       "      <th>13</th>\n",
       "      <td>14</td>\n",
       "      <td>mildred</td>\n",
       "      <td>6</td>\n",
       "      <td>3</td>\n",
       "      <td>125</td>\n",
       "      <td>130</td>\n",
       "      <td>node</td>\n",
       "    </tr>\n",
       "    <tr>\n",
       "      <th>14</th>\n",
       "      <td>15</td>\n",
       "      <td>mildred</td>\n",
       "      <td>6</td>\n",
       "      <td>4</td>\n",
       "      <td>131</td>\n",
       "      <td>136</td>\n",
       "      <td>node</td>\n",
       "    </tr>\n",
       "  </tbody>\n",
       "</table>\n",
       "</div>"
      ],
      "text/plain": [
       "     0                                 1  2  3    4    5         6\n",
       "0    1  bethel                            1  1  203  220  node    \n",
       "1    2  clifton_court                     2  1   71   72  gate    \n",
       "2    3  discovery_bay                     3  1  183  197  node    \n",
       "3    4  discovery_bay                     3  2  184  198  node    \n",
       "4    5  franks_tract                      4  1   98  103  node    \n",
       "5    6  franks_tract                      4  2  199  216  node    \n",
       "6    7  franks_tract                      4  3  202  219  node    \n",
       "7    8  franks_tract                      4  4  207  224  node    \n",
       "8    9  franks_tract                      4  5  208  225  node    \n",
       "9   10  franks_tract                      4  6  212  232  node    \n",
       "10  11  liberty                           5  1  288  322  node    \n",
       "11  12  mildred                           6  1  122  127  node    \n",
       "12  13  mildred                           6  2  124  129  node    \n",
       "13  14  mildred                           6  3  125  130  node    \n",
       "14  15  mildred                           6  4  131  136  node    "
      ]
     },
     "execution_count": 5,
     "metadata": {},
     "output_type": "execute_result"
    }
   ],
   "source": [
    "pd.DataFrame([[v[name].astype(np.str) for name in v.dtype.names] for v in x])\n",
    "    "
   ]
  },
  {
   "cell_type": "code",
   "execution_count": null,
   "metadata": {},
   "outputs": [],
   "source": []
  }
 ],
 "metadata": {
  "hide_input": false,
  "kernelspec": {
   "display_name": "Python 3",
   "language": "python",
   "name": "python3"
  },
  "language_info": {
   "codemirror_mode": {
    "name": "ipython",
    "version": 3
   },
   "file_extension": ".py",
   "mimetype": "text/x-python",
   "name": "python",
   "nbconvert_exporter": "python",
   "pygments_lexer": "ipython3",
   "version": "3.7.3"
  },
  "varInspector": {
   "cols": {
    "lenName": 16,
    "lenType": 16,
    "lenVar": 40
   },
   "kernels_config": {
    "python": {
     "delete_cmd_postfix": "",
     "delete_cmd_prefix": "del ",
     "library": "var_list.py",
     "varRefreshCmd": "print(var_dic_list())"
    },
    "r": {
     "delete_cmd_postfix": ") ",
     "delete_cmd_prefix": "rm(",
     "library": "var_list.r",
     "varRefreshCmd": "cat(var_dic_list()) "
    }
   },
   "types_to_exclude": [
    "module",
    "function",
    "builtin_function_or_method",
    "instance",
    "_Feature"
   ],
   "window_display": false
  }
 },
 "nbformat": 4,
 "nbformat_minor": 2
}
