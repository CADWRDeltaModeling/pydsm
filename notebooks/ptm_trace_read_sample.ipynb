{
 "cells": [
  {
   "cell_type": "markdown",
   "metadata": {},
   "source": [
    "# PTM Trace File reading\n",
    "This is a sample notebook to show how to read PTM trace output. This file is useful to calculate count of particles moving to certain locations. \n",
    "\n",
    "-- This file will be deprecated as the functions in this notebook make it to the pydsm module **"
   ]
  },
  {
   "cell_type": "code",
   "execution_count": null,
   "metadata": {
    "ExecuteTime": {
     "end_time": "2020-05-06T16:56:08.395225Z",
     "start_time": "2020-05-06T16:56:04.916854Z"
    }
   },
   "outputs": [],
   "source": [
    "import pandas as pd\n",
    "import hvplot.pandas"
   ]
  },
  {
   "cell_type": "code",
   "execution_count": null,
   "metadata": {
    "ExecuteTime": {
     "end_time": "2020-05-06T16:56:08.404184Z",
     "start_time": "2020-05-06T16:56:08.397214Z"
    }
   },
   "outputs": [],
   "source": [
    "def load_ptm_trace(trace_file):\n",
    "    column_names=['julianmin','particle_id','node_id','waterbody_id']\n",
    "    df=pd.read_csv(trace_file,sep=r'\\s+',names=column_names)\n",
    "    t0=pd.Timestamp('1899-12-31')\n",
    "    row0=df.iloc[0]\n",
    "    start_date=t0+pd.to_timedelta(row0.julianmin,'m')\n",
    "    end_date=t0+pd.to_timedelta(row0.particle_id,'m') # really just misnamed\n",
    "    timestep=row0.node_id\n",
    "    nparticles=row0.waterbody_id\n",
    "    df=df[1:]\n",
    "    df.index=t0+pd.to_timedelta(df['julianmin'],'m')\n",
    "    df.index.name='datetime'\n",
    "    return df,{'start_date':start_date,'end_date':end_date,'timestep':timestep,'nparticles':nparticles}"
   ]
  },
  {
   "cell_type": "code",
   "execution_count": null,
   "metadata": {
    "ExecuteTime": {
     "end_time": "2020-05-06T16:56:08.677978Z",
     "start_time": "2020-05-06T16:56:08.406175Z"
    }
   },
   "outputs": [],
   "source": [
    "df,meta_info=load_ptm_trace('./dsm2_v8.2.0b1/studies/historical/output/trace.out')"
   ]
  },
  {
   "cell_type": "code",
   "execution_count": null,
   "metadata": {
    "ExecuteTime": {
     "end_time": "2020-05-06T16:56:08.689623Z",
     "start_time": "2020-05-06T16:56:08.680661Z"
    }
   },
   "outputs": [],
   "source": [
    "display(meta_info)"
   ]
  },
  {
   "cell_type": "code",
   "execution_count": null,
   "metadata": {
    "ExecuteTime": {
     "end_time": "2020-05-06T16:56:08.706547Z",
     "start_time": "2020-05-06T16:56:08.692608Z"
    }
   },
   "outputs": [],
   "source": [
    "display(df)"
   ]
  },
  {
   "cell_type": "code",
   "execution_count": null,
   "metadata": {
    "ExecuteTime": {
     "end_time": "2020-05-06T16:56:08.770266Z",
     "start_time": "2020-05-06T16:56:08.708538Z"
    }
   },
   "outputs": [],
   "source": [
    "df.loc[df['particle_id']==1].waterbody_id.hvplot()"
   ]
  },
  {
   "cell_type": "code",
   "execution_count": null,
   "metadata": {},
   "outputs": [],
   "source": []
  }
 ],
 "metadata": {
  "kernelspec": {
   "display_name": "Python [conda env:dcp]",
   "language": "python",
   "name": "conda-env-dcp-py"
  },
  "language_info": {
   "codemirror_mode": {
    "name": "ipython",
    "version": 3
   },
   "file_extension": ".py",
   "mimetype": "text/x-python",
   "name": "python",
   "nbconvert_exporter": "python",
   "pygments_lexer": "ipython3",
   "version": "3.7.7"
  }
 },
 "nbformat": 4,
 "nbformat_minor": 4
}