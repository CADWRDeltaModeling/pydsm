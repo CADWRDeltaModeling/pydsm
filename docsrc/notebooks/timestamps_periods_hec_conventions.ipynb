{
 "cells": [
  {
   "cell_type": "markdown",
   "id": "6e50f8e2",
   "metadata": {},
   "source": [
    "#  Time stamps, Periods HEC convention\n",
    "\n",
    "HEC (and perhaps others) timestamp the data to the next time to indicate time from the start to end (including the end)\n",
    "\n",
    "In pandas, this is handled by differentiating between time stamp ( a point in time ) to time period ( a period of time). Furthermore, in pandas the period of time is closed at the start by default as opposed to end as it is in HEC\n",
    "\n",
    "## Time formats (standards and military conventions)\n",
    "\n",
    "ISO 8601 is a standard for date and times. Read this for [duration](https://en.wikipedia.org/wiki/ISO_8601#Durations) and [time interval](https://en.wikipedia.org/wiki/ISO_8601#Time_intervals)\n",
    "\n",
    "An important distinction is that there is 2400 for HHmm (hour/minutes) representation in the [ISO 8601 standards](https://en.wikipedia.org/wiki/ISO_8601#Times) however HEC-DSS stores the midnight with a 2400 designation and that is reflected in their libraries ability to parse that timestamp to the midnight of the next day. In summary 2400 is interpreted as midnight (0000) of the next day.\n",
    "\n",
    "Infact that is now explicitly disallowed\n",
    "```\n",
    "Earlier versions of the standard allowed \"24:00\" corresponding to the end of a day, \n",
    "but this is explicitly disallowed by the 2019 revision.\n",
    "```\n",
    "\n",
    "Military time allows for 2400 and this is interpreted as 0000 of the next day. See this [wikipedia reference](https://en.wikipedia.org/wiki/24-hour_clock#Midnight_00:00_and_24:00)\n",
    "\n",
    "## Period and Instantaneous data types\n",
    "\n",
    "HEC-DSS reads the data, its units and a string representing the interval type as either starting with \"INST\" for instantaneous or \"PER\" for period data. \n",
    "\n",
    "For regularly sampled time series in HEC is either INST-VAL (timestamped) or PER-AVER (or just PER- prefixed) to designated period data.\n",
    "\n",
    "pyhecdss reads the \"INST\" data as is into a timestamp indexed data. \n",
    "\n",
    "However for \"PER\" data, the time stamp is moved to the left ( backwards ) by the length of the period and the data returned is period indexed. E.g. 31JAN1991 2400 for monthly data is interpreted as 01JAN1991 by first moving the 31JAN1991 2400 timestamp to 31DEC1990 2400 (i.e. 1 month) and then interpreted as the timestamp which is 01JAN1991 0000 and then converted to a period with 1 month interval which is the period 01JAN1991\n",
    "The reverse is applied to period data on writes.\n",
    "\n",
    "## Period operations\n",
    "\n",
    "If you use the default conventions (pandas), the timestamps for a particular period include the start and not the end. For HEC style (or end of timestamp data), you should use the closed=\"right\" when [resampling (pandas function)](https://pandas.pydata.org/pandas-docs/stable/user_guide/timeseries.html#resampling) the data\n",
    "\n",
    "One catch is to use kind=\"timestamp\" and the convert back with to_period() (pandas function).\n",
    "\n",
    "**TLDR; just use the pydsm.functions tsmath module which has functions for per_aver, per_max, per_min**"
   ]
  },
  {
   "cell_type": "code",
   "execution_count": 1,
   "id": "56c86037",
   "metadata": {
    "ExecuteTime": {
     "end_time": "2021-12-20T22:17:32.902503Z",
     "start_time": "2021-12-20T22:17:28.328804Z"
    }
   },
   "outputs": [],
   "source": [
    "import pyhecdss\n",
    "import pandas as pd\n",
    "import numpy as np\n",
    "import pydsm\n",
    "from pydsm.functions import tsmath"
   ]
  },
  {
   "cell_type": "markdown",
   "id": "309bd568",
   "metadata": {},
   "source": [
    "A function to generate a simple increasing time series from 0 -> 99 with timestamps regularly placed at 1 hour intervals"
   ]
  },
  {
   "cell_type": "code",
   "execution_count": 8,
   "id": "b5432bb1",
   "metadata": {
    "ExecuteTime": {
     "end_time": "2021-12-20T22:20:48.678743Z",
     "start_time": "2021-12-20T22:20:48.577191Z"
    }
   },
   "outputs": [
    {
     "data": {
      "text/plain": [
       "DatetimeIndex(['1999-01-01 01:00:00', '1999-01-01 01:15:00',\n",
       "               '1999-01-01 01:30:00', '1999-01-01 01:45:00'],\n",
       "              dtype='datetime64[ns]', freq='15T')"
      ]
     },
     "execution_count": 8,
     "metadata": {},
     "output_type": "execute_result"
    }
   ],
   "source": [
    "pd.date_range('01JAN1999 0100',periods=4,freq='15T')"
   ]
  },
  {
   "cell_type": "code",
   "execution_count": 9,
   "id": "493954c5",
   "metadata": {
    "ExecuteTime": {
     "end_time": "2021-12-20T22:21:15.843615Z",
     "start_time": "2021-12-20T22:21:15.745048Z"
    }
   },
   "outputs": [
    {
     "data": {
      "text/plain": [
       "PeriodIndex(['1999-01-01 01:00', '1999-01-01 01:15', '1999-01-01 01:30',\n",
       "             '1999-01-01 01:45'],\n",
       "            dtype='period[15T]')"
      ]
     },
     "execution_count": 9,
     "metadata": {},
     "output_type": "execute_result"
    }
   ],
   "source": [
    "pd.period_range('01JAN1999 0100',periods=4,freq='15T')"
   ]
  },
  {
   "cell_type": "code",
   "execution_count": 2,
   "id": "7389ce2e",
   "metadata": {
    "ExecuteTime": {
     "end_time": "2021-12-20T22:17:35.016204Z",
     "start_time": "2021-12-20T22:17:34.917158Z"
    }
   },
   "outputs": [],
   "source": [
    "def linear_timeseries():\n",
    "    '''\n",
    "    A simple increasing time series to use for averaging functions\n",
    "    ```\n",
    "    01JAN2000 0100 - 0\n",
    "    01JAN2000 0200 - 1\n",
    "    ....\n",
    "    01JAN2000 2200 - 21\n",
    "    01JAN2000 2300 - 22\n",
    "    02JAN2000 0000 - 23\n",
    "    ```\n",
    "    '''\n",
    "    nvals=100\n",
    "    return pd.DataFrame(np.arange(0,nvals), columns=['values'], index=pd.date_range(start='01JAN2000 0100',periods=nvals,freq='H'))\n"
   ]
  },
  {
   "cell_type": "code",
   "execution_count": 13,
   "id": "6343ccc9",
   "metadata": {
    "ExecuteTime": {
     "end_time": "2021-12-20T22:31:49.090955Z",
     "start_time": "2021-12-20T22:31:48.982388Z"
    }
   },
   "outputs": [
    {
     "data": {
      "text/html": [
       "<div>\n",
       "<style scoped>\n",
       "    .dataframe tbody tr th:only-of-type {\n",
       "        vertical-align: middle;\n",
       "    }\n",
       "\n",
       "    .dataframe tbody tr th {\n",
       "        vertical-align: top;\n",
       "    }\n",
       "\n",
       "    .dataframe thead th {\n",
       "        text-align: right;\n",
       "    }\n",
       "</style>\n",
       "<table border=\"1\" class=\"dataframe\">\n",
       "  <thead>\n",
       "    <tr style=\"text-align: right;\">\n",
       "      <th></th>\n",
       "      <th>values</th>\n",
       "    </tr>\n",
       "  </thead>\n",
       "  <tbody>\n",
       "    <tr>\n",
       "      <th>2000-01-01 01:00:00</th>\n",
       "      <td>0</td>\n",
       "    </tr>\n",
       "    <tr>\n",
       "      <th>2000-01-01 02:00:00</th>\n",
       "      <td>1</td>\n",
       "    </tr>\n",
       "    <tr>\n",
       "      <th>2000-01-01 03:00:00</th>\n",
       "      <td>2</td>\n",
       "    </tr>\n",
       "    <tr>\n",
       "      <th>2000-01-01 04:00:00</th>\n",
       "      <td>3</td>\n",
       "    </tr>\n",
       "    <tr>\n",
       "      <th>2000-01-01 05:00:00</th>\n",
       "      <td>4</td>\n",
       "    </tr>\n",
       "    <tr>\n",
       "      <th>2000-01-01 06:00:00</th>\n",
       "      <td>5</td>\n",
       "    </tr>\n",
       "    <tr>\n",
       "      <th>2000-01-01 07:00:00</th>\n",
       "      <td>6</td>\n",
       "    </tr>\n",
       "    <tr>\n",
       "      <th>2000-01-01 08:00:00</th>\n",
       "      <td>7</td>\n",
       "    </tr>\n",
       "    <tr>\n",
       "      <th>2000-01-01 09:00:00</th>\n",
       "      <td>8</td>\n",
       "    </tr>\n",
       "    <tr>\n",
       "      <th>2000-01-01 10:00:00</th>\n",
       "      <td>9</td>\n",
       "    </tr>\n",
       "    <tr>\n",
       "      <th>2000-01-01 11:00:00</th>\n",
       "      <td>10</td>\n",
       "    </tr>\n",
       "    <tr>\n",
       "      <th>2000-01-01 12:00:00</th>\n",
       "      <td>11</td>\n",
       "    </tr>\n",
       "    <tr>\n",
       "      <th>2000-01-01 13:00:00</th>\n",
       "      <td>12</td>\n",
       "    </tr>\n",
       "    <tr>\n",
       "      <th>2000-01-01 14:00:00</th>\n",
       "      <td>13</td>\n",
       "    </tr>\n",
       "    <tr>\n",
       "      <th>2000-01-01 15:00:00</th>\n",
       "      <td>14</td>\n",
       "    </tr>\n",
       "    <tr>\n",
       "      <th>2000-01-01 16:00:00</th>\n",
       "      <td>15</td>\n",
       "    </tr>\n",
       "    <tr>\n",
       "      <th>2000-01-01 17:00:00</th>\n",
       "      <td>16</td>\n",
       "    </tr>\n",
       "    <tr>\n",
       "      <th>2000-01-01 18:00:00</th>\n",
       "      <td>17</td>\n",
       "    </tr>\n",
       "    <tr>\n",
       "      <th>2000-01-01 19:00:00</th>\n",
       "      <td>18</td>\n",
       "    </tr>\n",
       "    <tr>\n",
       "      <th>2000-01-01 20:00:00</th>\n",
       "      <td>19</td>\n",
       "    </tr>\n",
       "    <tr>\n",
       "      <th>2000-01-01 21:00:00</th>\n",
       "      <td>20</td>\n",
       "    </tr>\n",
       "    <tr>\n",
       "      <th>2000-01-01 22:00:00</th>\n",
       "      <td>21</td>\n",
       "    </tr>\n",
       "    <tr>\n",
       "      <th>2000-01-01 23:00:00</th>\n",
       "      <td>22</td>\n",
       "    </tr>\n",
       "    <tr>\n",
       "      <th>2000-01-02 00:00:00</th>\n",
       "      <td>23</td>\n",
       "    </tr>\n",
       "  </tbody>\n",
       "</table>\n",
       "</div>"
      ],
      "text/plain": [
       "                     values\n",
       "2000-01-01 01:00:00       0\n",
       "2000-01-01 02:00:00       1\n",
       "2000-01-01 03:00:00       2\n",
       "2000-01-01 04:00:00       3\n",
       "2000-01-01 05:00:00       4\n",
       "2000-01-01 06:00:00       5\n",
       "2000-01-01 07:00:00       6\n",
       "2000-01-01 08:00:00       7\n",
       "2000-01-01 09:00:00       8\n",
       "2000-01-01 10:00:00       9\n",
       "2000-01-01 11:00:00      10\n",
       "2000-01-01 12:00:00      11\n",
       "2000-01-01 13:00:00      12\n",
       "2000-01-01 14:00:00      13\n",
       "2000-01-01 15:00:00      14\n",
       "2000-01-01 16:00:00      15\n",
       "2000-01-01 17:00:00      16\n",
       "2000-01-01 18:00:00      17\n",
       "2000-01-01 19:00:00      18\n",
       "2000-01-01 20:00:00      19\n",
       "2000-01-01 21:00:00      20\n",
       "2000-01-01 22:00:00      21\n",
       "2000-01-01 23:00:00      22\n",
       "2000-01-02 00:00:00      23"
      ]
     },
     "execution_count": 13,
     "metadata": {},
     "output_type": "execute_result"
    }
   ],
   "source": [
    "ts=linear_timeseries()\n",
    "ts.iloc[0:24]"
   ]
  },
  {
   "cell_type": "markdown",
   "id": "332f1030",
   "metadata": {},
   "source": [
    "Use the tsmath modules per_aver, per_max or per_min functions to get the average, max and min respectively in the HEC convention\n",
    "The interval is passed to pandas [resample](https://pandas.pydata.org/pandas-docs/stable/user_guide/timeseries.html#resampling) and should be DateOffset, Timedelta or str"
   ]
  },
  {
   "cell_type": "code",
   "execution_count": 14,
   "id": "3db02e2f",
   "metadata": {
    "ExecuteTime": {
     "end_time": "2021-12-20T22:33:37.648367Z",
     "start_time": "2021-12-20T22:33:37.532322Z"
    }
   },
   "outputs": [
    {
     "data": {
      "text/html": [
       "<div>\n",
       "<style scoped>\n",
       "    .dataframe tbody tr th:only-of-type {\n",
       "        vertical-align: middle;\n",
       "    }\n",
       "\n",
       "    .dataframe tbody tr th {\n",
       "        vertical-align: top;\n",
       "    }\n",
       "\n",
       "    .dataframe thead th {\n",
       "        text-align: right;\n",
       "    }\n",
       "</style>\n",
       "<table border=\"1\" class=\"dataframe\">\n",
       "  <thead>\n",
       "    <tr style=\"text-align: right;\">\n",
       "      <th></th>\n",
       "      <th>avg</th>\n",
       "      <th>max</th>\n",
       "      <th>min</th>\n",
       "    </tr>\n",
       "  </thead>\n",
       "  <tbody>\n",
       "    <tr>\n",
       "      <th>2000-01-01</th>\n",
       "      <td>11.5</td>\n",
       "      <td>23</td>\n",
       "      <td>0</td>\n",
       "    </tr>\n",
       "    <tr>\n",
       "      <th>2000-01-02</th>\n",
       "      <td>35.5</td>\n",
       "      <td>47</td>\n",
       "      <td>24</td>\n",
       "    </tr>\n",
       "    <tr>\n",
       "      <th>2000-01-03</th>\n",
       "      <td>59.5</td>\n",
       "      <td>71</td>\n",
       "      <td>48</td>\n",
       "    </tr>\n",
       "    <tr>\n",
       "      <th>2000-01-04</th>\n",
       "      <td>83.5</td>\n",
       "      <td>95</td>\n",
       "      <td>72</td>\n",
       "    </tr>\n",
       "    <tr>\n",
       "      <th>2000-01-05</th>\n",
       "      <td>97.5</td>\n",
       "      <td>99</td>\n",
       "      <td>96</td>\n",
       "    </tr>\n",
       "  </tbody>\n",
       "</table>\n",
       "</div>"
      ],
      "text/plain": [
       "             avg  max  min\n",
       "2000-01-01  11.5   23    0\n",
       "2000-01-02  35.5   47   24\n",
       "2000-01-03  59.5   71   48\n",
       "2000-01-04  83.5   95   72\n",
       "2000-01-05  97.5   99   96"
      ]
     },
     "execution_count": 14,
     "metadata": {},
     "output_type": "execute_result"
    }
   ],
   "source": [
    "dfall = pd.concat([tsmath.per_aver(ts.to_period(), interval='D'),\n",
    "           tsmath.per_max(ts, interval='D'),\n",
    "           tsmath.per_min(ts, interval='D')], axis=1)\n",
    "dfall.columns=['avg','max','min']\n",
    "dfall"
   ]
  },
  {
   "cell_type": "markdown",
   "id": "f77af4a1",
   "metadata": {},
   "source": [
    "Storing these time series in DSS and retrieving this is demoed below"
   ]
  },
  {
   "cell_type": "markdown",
   "id": "b43b45b4",
   "metadata": {},
   "source": [
    "HECDSS api only supported for double type so convert to doubles first"
   ]
  },
  {
   "cell_type": "code",
   "execution_count": 19,
   "id": "845ccc76",
   "metadata": {
    "ExecuteTime": {
     "end_time": "2021-12-20T22:35:34.096356Z",
     "start_time": "2021-12-20T22:35:33.994639Z"
    }
   },
   "outputs": [],
   "source": [
    "ts=ts.astype('double')"
   ]
  },
  {
   "cell_type": "code",
   "execution_count": 20,
   "id": "19515c92",
   "metadata": {
    "ExecuteTime": {
     "end_time": "2021-12-20T22:35:35.256798Z",
     "start_time": "2021-12-20T22:35:35.053224Z"
    }
   },
   "outputs": [
    {
     "ename": "PermissionError",
     "evalue": "[WinError 32] The process cannot access the file because it is being used by another process: 'hecavg.dss'",
     "output_type": "error",
     "traceback": [
      "\u001b[1;31m---------------------------------------------------------------------------\u001b[0m",
      "\u001b[1;31mPermissionError\u001b[0m                           Traceback (most recent call last)",
      "\u001b[1;32m~\\AppData\\Local\\Temp/ipykernel_24220/607455423.py\u001b[0m in \u001b[0;36m<module>\u001b[1;34m\u001b[0m\n\u001b[0;32m      1\u001b[0m \u001b[1;32mimport\u001b[0m \u001b[0mos\u001b[0m\u001b[1;33m\u001b[0m\u001b[1;33m\u001b[0m\u001b[0m\n\u001b[1;32m----> 2\u001b[1;33m \u001b[0mos\u001b[0m\u001b[1;33m.\u001b[0m\u001b[0mremove\u001b[0m\u001b[1;33m(\u001b[0m\u001b[1;34m'hecavg.dss'\u001b[0m\u001b[1;33m)\u001b[0m\u001b[1;33m\u001b[0m\u001b[1;33m\u001b[0m\u001b[0m\n\u001b[0m\u001b[0;32m      3\u001b[0m \u001b[1;32mwith\u001b[0m \u001b[0mpyhecdss\u001b[0m\u001b[1;33m.\u001b[0m\u001b[0mDSSFile\u001b[0m\u001b[1;33m(\u001b[0m\u001b[1;34m'hecavg.dss'\u001b[0m\u001b[1;33m,\u001b[0m\u001b[0mcreate_new\u001b[0m\u001b[1;33m=\u001b[0m\u001b[1;32mTrue\u001b[0m\u001b[1;33m)\u001b[0m \u001b[1;32mas\u001b[0m \u001b[0md\u001b[0m\u001b[1;33m:\u001b[0m\u001b[1;33m\u001b[0m\u001b[1;33m\u001b[0m\u001b[0m\n\u001b[0;32m      4\u001b[0m     \u001b[0md\u001b[0m\u001b[1;33m.\u001b[0m\u001b[0mwrite_rts\u001b[0m\u001b[1;33m(\u001b[0m\u001b[1;34m'/AVG/TS/C//1HOUR/F/'\u001b[0m\u001b[1;33m,\u001b[0m\u001b[0mts\u001b[0m\u001b[1;33m,\u001b[0m\u001b[1;34m'unk'\u001b[0m\u001b[1;33m,\u001b[0m\u001b[1;34m'INST-VAL'\u001b[0m\u001b[1;33m)\u001b[0m\u001b[1;33m\u001b[0m\u001b[1;33m\u001b[0m\u001b[0m\n",
      "\u001b[1;31mPermissionError\u001b[0m: [WinError 32] The process cannot access the file because it is being used by another process: 'hecavg.dss'"
     ]
    }
   ],
   "source": [
    "import os\n",
    "os.remove('hecavg.dss')\n",
    "with pyhecdss.DSSFile('hecavg.dss',create_new=True) as d:\n",
    "    d.write_rts('/AVG/TS/C//1HOUR/F/',ts,'unk','INST-VAL')"
   ]
  },
  {
   "cell_type": "code",
   "execution_count": null,
   "id": "00b6ff11",
   "metadata": {
    "ExecuteTime": {
     "end_time": "2021-12-20T22:35:35.258777Z",
     "start_time": "2021-12-20T22:35:35.258777Z"
    }
   },
   "outputs": [],
   "source": [
    "ts_avg = tsmath.per_aver(ts,'1D')\n",
    "ts_max = tsmath.per_max(ts,'1D')\n",
    "ts_min = tsmath.per_min(ts, '1D')"
   ]
  },
  {
   "cell_type": "code",
   "execution_count": 21,
   "id": "b22e4a4b",
   "metadata": {
    "ExecuteTime": {
     "end_time": "2021-12-20T22:35:35.566523Z",
     "start_time": "2021-12-20T22:35:35.458839Z"
    }
   },
   "outputs": [],
   "source": [
    "with pyhecdss.DSSFile('hecavg.dss') as d:\n",
    "    d.write_rts('/AVG/TS/C-PER-AVER//1DAY/F/',ts_avg,'unk','PER-AVER')\n",
    "    d.write_rts('/AVG/TS/C-PER-MAX//1DAY/F/',ts_max,'unk','PER-AVER')\n",
    "    d.write_rts('/AVG/TS/C-PER-MIN//1DAY/F/',ts_min,'unk','PER-AVER')"
   ]
  },
  {
   "cell_type": "code",
   "execution_count": 22,
   "id": "8fb115e7",
   "metadata": {
    "ExecuteTime": {
     "end_time": "2021-12-20T22:35:36.071289Z",
     "start_time": "2021-12-20T22:35:35.906399Z"
    }
   },
   "outputs": [
    {
     "name": "stdout",
     "output_type": "stream",
     "text": [
      "Units:  unk  | Period Type:  PER-AVER\n"
     ]
    },
    {
     "data": {
      "text/html": [
       "<div>\n",
       "<style scoped>\n",
       "    .dataframe tbody tr th:only-of-type {\n",
       "        vertical-align: middle;\n",
       "    }\n",
       "\n",
       "    .dataframe tbody tr th {\n",
       "        vertical-align: top;\n",
       "    }\n",
       "\n",
       "    .dataframe thead th {\n",
       "        text-align: right;\n",
       "    }\n",
       "</style>\n",
       "<table border=\"1\" class=\"dataframe\">\n",
       "  <thead>\n",
       "    <tr style=\"text-align: right;\">\n",
       "      <th></th>\n",
       "      <th>/AVG/TS/C-PER-AVER/01JAN2000 - 01JAN2000/1DAY/F/</th>\n",
       "    </tr>\n",
       "  </thead>\n",
       "  <tbody>\n",
       "    <tr>\n",
       "      <th>2000-01-01</th>\n",
       "      <td>11.5</td>\n",
       "    </tr>\n",
       "    <tr>\n",
       "      <th>2000-01-02</th>\n",
       "      <td>35.5</td>\n",
       "    </tr>\n",
       "    <tr>\n",
       "      <th>2000-01-03</th>\n",
       "      <td>59.5</td>\n",
       "    </tr>\n",
       "    <tr>\n",
       "      <th>2000-01-04</th>\n",
       "      <td>83.5</td>\n",
       "    </tr>\n",
       "    <tr>\n",
       "      <th>2000-01-05</th>\n",
       "      <td>97.5</td>\n",
       "    </tr>\n",
       "  </tbody>\n",
       "</table>\n",
       "</div>"
      ],
      "text/plain": [
       "            /AVG/TS/C-PER-AVER/01JAN2000 - 01JAN2000/1DAY/F/\n",
       "2000-01-01                                              11.5\n",
       "2000-01-02                                              35.5\n",
       "2000-01-03                                              59.5\n",
       "2000-01-04                                              83.5\n",
       "2000-01-05                                              97.5"
      ]
     },
     "execution_count": 22,
     "metadata": {},
     "output_type": "execute_result"
    }
   ],
   "source": [
    "matching = pyhecdss.get_ts('hecavg.dss','/AVG/TS/C-PER-AVER//1DAY/F/')\n",
    "ts_avg_read=next(matching)\n",
    "print('Units: ',ts_avg_read.units, ' | Period Type: ',ts_avg_read.period_type)\n",
    "ts_avg_read.data"
   ]
  },
  {
   "cell_type": "code",
   "execution_count": 23,
   "id": "49dbc722",
   "metadata": {
    "ExecuteTime": {
     "end_time": "2021-12-20T22:35:36.225684Z",
     "start_time": "2021-12-20T22:35:36.123059Z"
    }
   },
   "outputs": [
    {
     "data": {
      "text/html": [
       "<div>\n",
       "<style scoped>\n",
       "    .dataframe tbody tr th:only-of-type {\n",
       "        vertical-align: middle;\n",
       "    }\n",
       "\n",
       "    .dataframe tbody tr th {\n",
       "        vertical-align: top;\n",
       "    }\n",
       "\n",
       "    .dataframe thead th {\n",
       "        text-align: right;\n",
       "    }\n",
       "</style>\n",
       "<table border=\"1\" class=\"dataframe\">\n",
       "  <thead>\n",
       "    <tr style=\"text-align: right;\">\n",
       "      <th></th>\n",
       "      <th>values</th>\n",
       "      <th>/AVG/TS/C-PER-AVER/01JAN2000 - 01JAN2000/1DAY/F/</th>\n",
       "    </tr>\n",
       "  </thead>\n",
       "  <tbody>\n",
       "    <tr>\n",
       "      <th>2000-01-01</th>\n",
       "      <td>11.5</td>\n",
       "      <td>11.5</td>\n",
       "    </tr>\n",
       "    <tr>\n",
       "      <th>2000-01-02</th>\n",
       "      <td>35.5</td>\n",
       "      <td>35.5</td>\n",
       "    </tr>\n",
       "    <tr>\n",
       "      <th>2000-01-03</th>\n",
       "      <td>59.5</td>\n",
       "      <td>59.5</td>\n",
       "    </tr>\n",
       "    <tr>\n",
       "      <th>2000-01-04</th>\n",
       "      <td>83.5</td>\n",
       "      <td>83.5</td>\n",
       "    </tr>\n",
       "    <tr>\n",
       "      <th>2000-01-05</th>\n",
       "      <td>97.5</td>\n",
       "      <td>97.5</td>\n",
       "    </tr>\n",
       "  </tbody>\n",
       "</table>\n",
       "</div>"
      ],
      "text/plain": [
       "            values  /AVG/TS/C-PER-AVER/01JAN2000 - 01JAN2000/1DAY/F/\n",
       "2000-01-01    11.5                                              11.5\n",
       "2000-01-02    35.5                                              35.5\n",
       "2000-01-03    59.5                                              59.5\n",
       "2000-01-04    83.5                                              83.5\n",
       "2000-01-05    97.5                                              97.5"
      ]
     },
     "execution_count": 23,
     "metadata": {},
     "output_type": "execute_result"
    }
   ],
   "source": [
    "pd.concat([ts_avg,ts_avg_read.data],axis=1)"
   ]
  },
  {
   "cell_type": "markdown",
   "id": "86d0505a",
   "metadata": {
    "ExecuteTime": {
     "end_time": "2021-12-20T18:05:00.407449Z",
     "start_time": "2021-12-20T18:05:00.253591Z"
    }
   },
   "source": [
    "A slightly more detailed explanation is below\n",
    "The [resample](https://pandas.pydata.org/pandas-docs/stable/user_guide/timeseries.html#resampling) function is used with particular options to conform to the HEC convention. \n",
    "\n",
    "For example below you can use the other grouping functions with resample to do other operations with these conventions\n",
    "The resample_hec_style() function is a convenience for call resample with the hec conventions"
   ]
  },
  {
   "cell_type": "code",
   "execution_count": 24,
   "id": "84694c06",
   "metadata": {
    "ExecuteTime": {
     "end_time": "2021-12-20T22:36:25.149153Z",
     "start_time": "2021-12-20T22:36:25.048595Z"
    }
   },
   "outputs": [
    {
     "data": {
      "text/html": [
       "<div>\n",
       "<style scoped>\n",
       "    .dataframe tbody tr th:only-of-type {\n",
       "        vertical-align: middle;\n",
       "    }\n",
       "\n",
       "    .dataframe tbody tr th {\n",
       "        vertical-align: top;\n",
       "    }\n",
       "\n",
       "    .dataframe thead th {\n",
       "        text-align: right;\n",
       "    }\n",
       "</style>\n",
       "<table border=\"1\" class=\"dataframe\">\n",
       "  <thead>\n",
       "    <tr style=\"text-align: right;\">\n",
       "      <th></th>\n",
       "      <th>values</th>\n",
       "    </tr>\n",
       "  </thead>\n",
       "  <tbody>\n",
       "    <tr>\n",
       "      <th>2000-01-01</th>\n",
       "      <td>276.0</td>\n",
       "    </tr>\n",
       "    <tr>\n",
       "      <th>2000-01-02</th>\n",
       "      <td>852.0</td>\n",
       "    </tr>\n",
       "    <tr>\n",
       "      <th>2000-01-03</th>\n",
       "      <td>1428.0</td>\n",
       "    </tr>\n",
       "    <tr>\n",
       "      <th>2000-01-04</th>\n",
       "      <td>2004.0</td>\n",
       "    </tr>\n",
       "    <tr>\n",
       "      <th>2000-01-05</th>\n",
       "      <td>390.0</td>\n",
       "    </tr>\n",
       "  </tbody>\n",
       "</table>\n",
       "</div>"
      ],
      "text/plain": [
       "            values\n",
       "2000-01-01   276.0\n",
       "2000-01-02   852.0\n",
       "2000-01-03  1428.0\n",
       "2000-01-04  2004.0\n",
       "2000-01-05   390.0"
      ]
     },
     "execution_count": 24,
     "metadata": {},
     "output_type": "execute_result"
    }
   ],
   "source": [
    "ts.resample('1D', closed='right',kind='timestamp').sum().to_period()\n",
    "tsmath.resample_hec_style(ts,'1D').sum().to_period()"
   ]
  },
  {
   "cell_type": "code",
   "execution_count": 28,
   "id": "0544c030",
   "metadata": {
    "ExecuteTime": {
     "end_time": "2021-12-20T22:41:03.082795Z",
     "start_time": "2021-12-20T22:41:02.970070Z"
    }
   },
   "outputs": [
    {
     "data": {
      "text/html": [
       "<div>\n",
       "<style scoped>\n",
       "    .dataframe tbody tr th:only-of-type {\n",
       "        vertical-align: middle;\n",
       "    }\n",
       "\n",
       "    .dataframe tbody tr th {\n",
       "        vertical-align: top;\n",
       "    }\n",
       "\n",
       "    .dataframe thead th {\n",
       "        text-align: right;\n",
       "    }\n",
       "</style>\n",
       "<table border=\"1\" class=\"dataframe\">\n",
       "  <thead>\n",
       "    <tr style=\"text-align: right;\">\n",
       "      <th></th>\n",
       "      <th>values</th>\n",
       "    </tr>\n",
       "  </thead>\n",
       "  <tbody>\n",
       "    <tr>\n",
       "      <th>2000-01-01 00:00</th>\n",
       "      <td>6.0</td>\n",
       "    </tr>\n",
       "    <tr>\n",
       "      <th>2000-01-01 04:00</th>\n",
       "      <td>22.0</td>\n",
       "    </tr>\n",
       "    <tr>\n",
       "      <th>2000-01-01 08:00</th>\n",
       "      <td>38.0</td>\n",
       "    </tr>\n",
       "    <tr>\n",
       "      <th>2000-01-01 12:00</th>\n",
       "      <td>54.0</td>\n",
       "    </tr>\n",
       "    <tr>\n",
       "      <th>2000-01-01 16:00</th>\n",
       "      <td>70.0</td>\n",
       "    </tr>\n",
       "    <tr>\n",
       "      <th>2000-01-01 20:00</th>\n",
       "      <td>86.0</td>\n",
       "    </tr>\n",
       "    <tr>\n",
       "      <th>2000-01-02 00:00</th>\n",
       "      <td>102.0</td>\n",
       "    </tr>\n",
       "    <tr>\n",
       "      <th>2000-01-02 04:00</th>\n",
       "      <td>118.0</td>\n",
       "    </tr>\n",
       "    <tr>\n",
       "      <th>2000-01-02 08:00</th>\n",
       "      <td>134.0</td>\n",
       "    </tr>\n",
       "    <tr>\n",
       "      <th>2000-01-02 12:00</th>\n",
       "      <td>150.0</td>\n",
       "    </tr>\n",
       "    <tr>\n",
       "      <th>2000-01-02 16:00</th>\n",
       "      <td>166.0</td>\n",
       "    </tr>\n",
       "    <tr>\n",
       "      <th>2000-01-02 20:00</th>\n",
       "      <td>182.0</td>\n",
       "    </tr>\n",
       "    <tr>\n",
       "      <th>2000-01-03 00:00</th>\n",
       "      <td>198.0</td>\n",
       "    </tr>\n",
       "    <tr>\n",
       "      <th>2000-01-03 04:00</th>\n",
       "      <td>214.0</td>\n",
       "    </tr>\n",
       "    <tr>\n",
       "      <th>2000-01-03 08:00</th>\n",
       "      <td>230.0</td>\n",
       "    </tr>\n",
       "    <tr>\n",
       "      <th>2000-01-03 12:00</th>\n",
       "      <td>246.0</td>\n",
       "    </tr>\n",
       "    <tr>\n",
       "      <th>2000-01-03 16:00</th>\n",
       "      <td>262.0</td>\n",
       "    </tr>\n",
       "    <tr>\n",
       "      <th>2000-01-03 20:00</th>\n",
       "      <td>278.0</td>\n",
       "    </tr>\n",
       "    <tr>\n",
       "      <th>2000-01-04 00:00</th>\n",
       "      <td>294.0</td>\n",
       "    </tr>\n",
       "    <tr>\n",
       "      <th>2000-01-04 04:00</th>\n",
       "      <td>310.0</td>\n",
       "    </tr>\n",
       "    <tr>\n",
       "      <th>2000-01-04 08:00</th>\n",
       "      <td>326.0</td>\n",
       "    </tr>\n",
       "    <tr>\n",
       "      <th>2000-01-04 12:00</th>\n",
       "      <td>342.0</td>\n",
       "    </tr>\n",
       "    <tr>\n",
       "      <th>2000-01-04 16:00</th>\n",
       "      <td>358.0</td>\n",
       "    </tr>\n",
       "    <tr>\n",
       "      <th>2000-01-04 20:00</th>\n",
       "      <td>374.0</td>\n",
       "    </tr>\n",
       "    <tr>\n",
       "      <th>2000-01-05 00:00</th>\n",
       "      <td>390.0</td>\n",
       "    </tr>\n",
       "  </tbody>\n",
       "</table>\n",
       "</div>"
      ],
      "text/plain": [
       "                  values\n",
       "2000-01-01 00:00     6.0\n",
       "2000-01-01 04:00    22.0\n",
       "2000-01-01 08:00    38.0\n",
       "2000-01-01 12:00    54.0\n",
       "2000-01-01 16:00    70.0\n",
       "2000-01-01 20:00    86.0\n",
       "2000-01-02 00:00   102.0\n",
       "2000-01-02 04:00   118.0\n",
       "2000-01-02 08:00   134.0\n",
       "2000-01-02 12:00   150.0\n",
       "2000-01-02 16:00   166.0\n",
       "2000-01-02 20:00   182.0\n",
       "2000-01-03 00:00   198.0\n",
       "2000-01-03 04:00   214.0\n",
       "2000-01-03 08:00   230.0\n",
       "2000-01-03 12:00   246.0\n",
       "2000-01-03 16:00   262.0\n",
       "2000-01-03 20:00   278.0\n",
       "2000-01-04 00:00   294.0\n",
       "2000-01-04 04:00   310.0\n",
       "2000-01-04 08:00   326.0\n",
       "2000-01-04 12:00   342.0\n",
       "2000-01-04 16:00   358.0\n",
       "2000-01-04 20:00   374.0\n",
       "2000-01-05 00:00   390.0"
      ]
     },
     "execution_count": 28,
     "metadata": {},
     "output_type": "execute_result"
    }
   ],
   "source": [
    "tsmath.resample_hec_style(ts,'4H').sum().to_period()"
   ]
  },
  {
   "cell_type": "code",
   "execution_count": 27,
   "id": "bdff05a1",
   "metadata": {
    "ExecuteTime": {
     "end_time": "2021-12-20T22:40:37.146931Z",
     "start_time": "2021-12-20T22:40:37.036295Z"
    }
   },
   "outputs": [
    {
     "data": {
      "text/html": [
       "<div>\n",
       "<style scoped>\n",
       "    .dataframe tbody tr th:only-of-type {\n",
       "        vertical-align: middle;\n",
       "    }\n",
       "\n",
       "    .dataframe tbody tr th {\n",
       "        vertical-align: top;\n",
       "    }\n",
       "\n",
       "    .dataframe thead th {\n",
       "        text-align: right;\n",
       "    }\n",
       "</style>\n",
       "<table border=\"1\" class=\"dataframe\">\n",
       "  <thead>\n",
       "    <tr style=\"text-align: right;\">\n",
       "      <th></th>\n",
       "      <th>values</th>\n",
       "    </tr>\n",
       "  </thead>\n",
       "  <tbody>\n",
       "    <tr>\n",
       "      <th>2000-01-01 01:00:00</th>\n",
       "      <td>0.0</td>\n",
       "    </tr>\n",
       "    <tr>\n",
       "      <th>2000-01-01 02:00:00</th>\n",
       "      <td>1.0</td>\n",
       "    </tr>\n",
       "    <tr>\n",
       "      <th>2000-01-01 03:00:00</th>\n",
       "      <td>2.0</td>\n",
       "    </tr>\n",
       "    <tr>\n",
       "      <th>2000-01-01 04:00:00</th>\n",
       "      <td>3.0</td>\n",
       "    </tr>\n",
       "    <tr>\n",
       "      <th>2000-01-01 05:00:00</th>\n",
       "      <td>4.0</td>\n",
       "    </tr>\n",
       "    <tr>\n",
       "      <th>...</th>\n",
       "      <td>...</td>\n",
       "    </tr>\n",
       "    <tr>\n",
       "      <th>2000-01-05 00:00:00</th>\n",
       "      <td>95.0</td>\n",
       "    </tr>\n",
       "    <tr>\n",
       "      <th>2000-01-05 01:00:00</th>\n",
       "      <td>96.0</td>\n",
       "    </tr>\n",
       "    <tr>\n",
       "      <th>2000-01-05 02:00:00</th>\n",
       "      <td>97.0</td>\n",
       "    </tr>\n",
       "    <tr>\n",
       "      <th>2000-01-05 03:00:00</th>\n",
       "      <td>98.0</td>\n",
       "    </tr>\n",
       "    <tr>\n",
       "      <th>2000-01-05 04:00:00</th>\n",
       "      <td>99.0</td>\n",
       "    </tr>\n",
       "  </tbody>\n",
       "</table>\n",
       "<p>100 rows × 1 columns</p>\n",
       "</div>"
      ],
      "text/plain": [
       "                     values\n",
       "2000-01-01 01:00:00     0.0\n",
       "2000-01-01 02:00:00     1.0\n",
       "2000-01-01 03:00:00     2.0\n",
       "2000-01-01 04:00:00     3.0\n",
       "2000-01-01 05:00:00     4.0\n",
       "...                     ...\n",
       "2000-01-05 00:00:00    95.0\n",
       "2000-01-05 01:00:00    96.0\n",
       "2000-01-05 02:00:00    97.0\n",
       "2000-01-05 03:00:00    98.0\n",
       "2000-01-05 04:00:00    99.0\n",
       "\n",
       "[100 rows x 1 columns]"
      ]
     },
     "execution_count": 27,
     "metadata": {},
     "output_type": "execute_result"
    }
   ],
   "source": [
    "ts"
   ]
  },
  {
   "cell_type": "code",
   "execution_count": null,
   "id": "beeb9e63",
   "metadata": {},
   "outputs": [],
   "source": []
  }
 ],
 "metadata": {
  "kernelspec": {
   "display_name": "Python [conda env:dev_pydsm]",
   "language": "python",
   "name": "conda-env-dev_pydsm-py"
  },
  "language_info": {
   "codemirror_mode": {
    "name": "ipython",
    "version": 3
   },
   "file_extension": ".py",
   "mimetype": "text/x-python",
   "name": "python",
   "nbconvert_exporter": "python",
   "pygments_lexer": "ipython3",
   "version": "3.7.11"
  },
  "toc": {
   "base_numbering": 1,
   "nav_menu": {},
   "number_sections": true,
   "sideBar": true,
   "skip_h1_title": false,
   "title_cell": "Table of Contents",
   "title_sidebar": "Contents",
   "toc_cell": false,
   "toc_position": {},
   "toc_section_display": true,
   "toc_window_display": false
  }
 },
 "nbformat": 4,
 "nbformat_minor": 5
}
