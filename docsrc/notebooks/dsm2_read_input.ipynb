{
 "cells": [
  {
   "cell_type": "markdown",
   "metadata": {},
   "source": [
    "# Reading Hydro echo files into Pandas DataFrame\n",
    "\n",
    "hydro (and qual) compile the input files and output an echo file that contains all the input data that goes into the model run. This is a very useful file as it is a direct representation of the input as seen by the model. This is especially important as the input system with its layering and overrides and include featues can be quite complex and sometimes it can be hard to see what actually finally make it into the model run.\n",
    "\n",
    "To create an echo file of the inputs, refer to hydro and qual document. Below is an example \n",
    "\n",
    "```\n",
    " hydro -e hydro_main.inp \n",
    "  \n",
    " qual -e qual_main.inp\n",
    "```\n",
    "\n",
    "The notebook here shows how to use the pydsm parser to read this echo file into a dictionary of pandas DataFrame objects\n"
   ]
  },
  {
   "cell_type": "code",
   "execution_count": null,
   "metadata": {},
   "outputs": [],
   "source": [
    "import pandas as pd\n",
    "import io\n",
    "import re\n",
    "# main import \n",
    "import pydsm\n",
    "from pydsm.input import read_input,write_input"
   ]
  },
  {
   "cell_type": "markdown",
   "metadata": {},
   "source": [
    "## Read input into a dictionary of pandas DataFrames\n",
    "\n",
    "DSM2 input consists of tables that have a name, e.g. CHANNEL. They have named columns and then rows of values for those columns\n",
    "\n",
    "```\n",
    "CHANNEL\n",
    "CHAN_NO LENGTH MANNING DISPERSION UPNODE DOWNNODE\n",
    "0\t1\t19500\t0.035\t360.0\t1\t2\n",
    "1\t2\t14000\t0.028\t360.0\t2\t3\n",
    "...\n",
    "END\n",
    "```\n",
    "\n",
    "The *read_input* method reads the input file, parsing the tables found into data frames and returning a dictionary the keys of which are the names of the tables\n",
    "\n",
    "Lets see how this looks..."
   ]
  },
  {
   "cell_type": "code",
   "execution_count": null,
   "metadata": {},
   "outputs": [],
   "source": [
    "fname='../../tests/data/hydro_echo_historical_v82.inp'\n",
    "tables=read_input(fname)"
   ]
  },
  {
   "cell_type": "markdown",
   "metadata": {},
   "source": [
    "## Print list of all tables"
   ]
  },
  {
   "cell_type": "code",
   "execution_count": null,
   "metadata": {},
   "outputs": [],
   "source": [
    "print(list(tables.keys()))"
   ]
  },
  {
   "cell_type": "markdown",
   "metadata": {},
   "source": [
    "## Display the DataFrame for a table, e.g. CHANNEL"
   ]
  },
  {
   "cell_type": "code",
   "execution_count": null,
   "metadata": {},
   "outputs": [],
   "source": [
    "display(tables['CHANNEL'])"
   ]
  },
  {
   "cell_type": "markdown",
   "metadata": {},
   "source": [
    "It is a data frame so you can query its types, etc just like a pandas DataFrame"
   ]
  },
  {
   "cell_type": "code",
   "execution_count": null,
   "metadata": {},
   "outputs": [],
   "source": [
    "print(tables['CHANNEL'].dtypes)"
   ]
  },
  {
   "cell_type": "markdown",
   "metadata": {},
   "source": [
    "## Programmatic inspection of input\n",
    "This is an important feature as pandas has a multitude of features to allow for filtering, describing and joining with other DataFrames and this can be used to analyze the input file\n",
    "\n",
    "For example, display all channels with length > 20000 feet"
   ]
  },
  {
   "cell_type": "code",
   "execution_count": null,
   "metadata": {},
   "outputs": [],
   "source": [
    "c=tables['CHANNEL']\n",
    "print('Channels with length > 20000 ft:')\n",
    "display(c[c.LENGTH>20000])"
   ]
  },
  {
   "cell_type": "markdown",
   "metadata": {},
   "source": [
    "## Combining input tables\n",
    "Channels have cross sections but those are defined in the 'XSECT_LAYER' table. \n"
   ]
  },
  {
   "cell_type": "code",
   "execution_count": null,
   "metadata": {},
   "outputs": [],
   "source": [
    "x=tables['XSECT_LAYER']\n",
    "display(x)"
   ]
  },
  {
   "cell_type": "markdown",
   "metadata": {},
   "source": [
    "These can be combined (merged) with the channel table on the 'CHAN_NO' common column to get a larger table with channel and x section information"
   ]
  },
  {
   "cell_type": "code",
   "execution_count": null,
   "metadata": {},
   "outputs": [],
   "source": [
    "fc=pd.merge(c,x,on='CHAN_NO')\n",
    "for name, group in fc[fc.CHAN_NO==441].groupby('DIST'):\n",
    "    print('DIST: ',name)\n",
    "    display(group)"
   ]
  },
  {
   "cell_type": "markdown",
   "metadata": {},
   "source": [
    "# Visualizing input data\n",
    "Furthermore this information can be displayed with the usual pandas and other visualization libraries that are available"
   ]
  },
  {
   "cell_type": "code",
   "execution_count": null,
   "metadata": {},
   "outputs": [],
   "source": [
    "group=fc[fc.CHAN_NO==441].groupby('DIST')\n",
    "dist,group=next(iter(group))\n",
    "group.plot(y='ELEV',x='AREA',kind='line',label='AREA',title='AREA with ELEV')\n",
    "group.plot(y='ELEV',x='WIDTH',kind='line',label='WIDTH',title='WIDTH with ELEV')\n",
    "_=group.plot(y='ELEV',x='WET_PERIM',kind='line',label='WET_PERIM',title='WET_PERIM with ELEV')"
   ]
  },
  {
   "cell_type": "markdown",
   "metadata": {},
   "source": [
    "# Writing input to file\n",
    "\n",
    "Once the tables are manipulated using pandas DataFrame functions, these can be written to a file to be used as input to run DSM2 models\n",
    "\n",
    "The code below shows "
   ]
  },
  {
   "cell_type": "code",
   "execution_count": null,
   "metadata": {},
   "outputs": [],
   "source": [
    "write_input('../../tests/hydro_echo_historical_v82_copy.inp',tables)"
   ]
  },
  {
   "cell_type": "code",
   "execution_count": null,
   "metadata": {},
   "outputs": [],
   "source": []
  }
 ],
 "metadata": {
  "file_extension": ".py",
  "interpreter": {
   "hash": "db7c19f4a439e5789451de0a908f63cf1cf9873bacb97bdd6cf888b60f976b5c"
  },
  "kernelspec": {
   "display_name": "Python 3.7.6 64-bit ('dev_pydsm': conda)",
   "language": "python",
   "name": "python3"
  },
  "language_info": {
   "codemirror_mode": {
    "name": "ipython",
    "version": 3
   },
   "file_extension": ".py",
   "mimetype": "text/x-python",
   "name": "python",
   "nbconvert_exporter": "python",
   "pygments_lexer": "ipython3",
   "version": "3.7.11"
  },
  "mimetype": "text/x-python",
  "name": "python",
  "npconvert_exporter": "python",
  "pygments_lexer": "ipython3",
  "toc": {
   "base_numbering": 1,
   "nav_menu": {},
   "number_sections": true,
   "sideBar": true,
   "skip_h1_title": false,
   "title_cell": "Table of Contents",
   "title_sidebar": "Contents",
   "toc_cell": false,
   "toc_position": {},
   "toc_section_display": true,
   "toc_window_display": false
  },
  "version": 3
 },
 "nbformat": 4,
 "nbformat_minor": 2
}
