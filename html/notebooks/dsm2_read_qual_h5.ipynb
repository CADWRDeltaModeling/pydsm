{
 "cells": [
  {
   "cell_type": "markdown",
   "metadata": {},
   "source": [
    "# Reading qual hdf5 files from DSM2\n",
    "\n",
    "This notebook is an example of using pydsm to read DSM2 qual h5 output. Please the [notebook for reading hydro h5](dsm2_read_hydro_h5.ipynb) first.\n",
    "\n",
    "The timeseries are loaded as pandas DataFrame with datetime index and mcolumns of variable type (e.g. flow, stage, ec). This is similar to pyhecdss read in objects."
   ]
  },
  {
   "cell_type": "code",
   "execution_count": 1,
   "metadata": {
    "execution": {
     "iopub.execute_input": "2021-12-14T03:04:12.907770Z",
     "iopub.status.busy": "2021-12-14T03:04:12.907770Z",
     "iopub.status.idle": "2021-12-14T03:04:14.980338Z",
     "shell.execute_reply": "2021-12-14T03:04:14.980338Z"
    }
   },
   "outputs": [],
   "source": [
    "import pandas as pd\n",
    "import matplotlib.pyplot as plt\n",
    "import numpy as np\n",
    "import h5py\n",
    "# main import \n",
    "from pydsm.qualh5 import QualH5\n",
    "# Turn on ones below if in debug or development mode\n",
    "#%load_ext autoreload\n",
    "#%autoreload 2"
   ]
  },
  {
   "cell_type": "markdown",
   "metadata": {},
   "source": [
    "## Opening a H5 file\n",
    "This provides the handle to the HDF5 file. "
   ]
  },
  {
   "cell_type": "code",
   "execution_count": 2,
   "metadata": {
    "execution": {
     "iopub.execute_input": "2021-12-14T03:04:14.980338Z",
     "iopub.status.busy": "2021-12-14T03:04:14.980338Z",
     "iopub.status.idle": "2021-12-14T03:04:15.143124Z",
     "shell.execute_reply": "2021-12-14T03:04:15.144077Z"
    }
   },
   "outputs": [],
   "source": [
    "filename='../../tests/data/historical_v82_ec.h5'\n",
    "qual=QualH5(filename)"
   ]
  },
  {
   "cell_type": "markdown",
   "metadata": {},
   "source": [
    "# Qual data file structure\n",
    "DSM2 Qual HDF5 stores data under two groups:\n",
    " * /input\n",
    " * /output"
   ]
  },
  {
   "cell_type": "markdown",
   "metadata": {},
   "source": [
    "## Display channels\n",
    "\n",
    "The method get_channels() returns a data frame indexed by internal channel index. The first column contains the external channel id that is referenced in the dsm2 input files"
   ]
  },
  {
   "cell_type": "code",
   "execution_count": 3,
   "metadata": {
    "execution": {
     "iopub.execute_input": "2021-12-14T03:04:15.145073Z",
     "iopub.status.busy": "2021-12-14T03:04:15.145073Z",
     "iopub.status.idle": "2021-12-14T03:04:15.281278Z",
     "shell.execute_reply": "2021-12-14T03:04:15.281278Z"
    }
   },
   "outputs": [
    {
     "data": {
      "text/html": [
       "<div>\n",
       "<style scoped>\n",
       "    .dataframe tbody tr th:only-of-type {\n",
       "        vertical-align: middle;\n",
       "    }\n",
       "\n",
       "    .dataframe tbody tr th {\n",
       "        vertical-align: top;\n",
       "    }\n",
       "\n",
       "    .dataframe thead th {\n",
       "        text-align: right;\n",
       "    }\n",
       "</style>\n",
       "<table border=\"1\" class=\"dataframe\">\n",
       "  <thead>\n",
       "    <tr style=\"text-align: right;\">\n",
       "      <th></th>\n",
       "      <th>0</th>\n",
       "    </tr>\n",
       "  </thead>\n",
       "  <tbody>\n",
       "    <tr>\n",
       "      <th>0</th>\n",
       "      <td>1</td>\n",
       "    </tr>\n",
       "    <tr>\n",
       "      <th>1</th>\n",
       "      <td>2</td>\n",
       "    </tr>\n",
       "    <tr>\n",
       "      <th>2</th>\n",
       "      <td>3</td>\n",
       "    </tr>\n",
       "    <tr>\n",
       "      <th>3</th>\n",
       "      <td>4</td>\n",
       "    </tr>\n",
       "    <tr>\n",
       "      <th>4</th>\n",
       "      <td>5</td>\n",
       "    </tr>\n",
       "    <tr>\n",
       "      <th>...</th>\n",
       "      <td>...</td>\n",
       "    </tr>\n",
       "    <tr>\n",
       "      <th>516</th>\n",
       "      <td>575</td>\n",
       "    </tr>\n",
       "    <tr>\n",
       "      <th>517</th>\n",
       "      <td>700</td>\n",
       "    </tr>\n",
       "    <tr>\n",
       "      <th>518</th>\n",
       "      <td>701</td>\n",
       "    </tr>\n",
       "    <tr>\n",
       "      <th>519</th>\n",
       "      <td>702</td>\n",
       "    </tr>\n",
       "    <tr>\n",
       "      <th>520</th>\n",
       "      <td>703</td>\n",
       "    </tr>\n",
       "  </tbody>\n",
       "</table>\n",
       "<p>521 rows × 1 columns</p>\n",
       "</div>"
      ],
      "text/plain": [
       "       0\n",
       "0      1\n",
       "1      2\n",
       "2      3\n",
       "3      4\n",
       "4      5\n",
       "..   ...\n",
       "516  575\n",
       "517  700\n",
       "518  701\n",
       "519  702\n",
       "520  703\n",
       "\n",
       "[521 rows x 1 columns]"
      ]
     },
     "execution_count": 3,
     "metadata": {},
     "output_type": "execute_result"
    }
   ],
   "source": [
    "qual.get_channels()"
   ]
  },
  {
   "cell_type": "markdown",
   "metadata": {},
   "source": [
    "## Reservoirs\n",
    "The reservoirs table shows the name of the reservoirs"
   ]
  },
  {
   "cell_type": "code",
   "execution_count": 4,
   "metadata": {
    "execution": {
     "iopub.execute_input": "2021-12-14T03:04:15.284266Z",
     "iopub.status.busy": "2021-12-14T03:04:15.284266Z",
     "iopub.status.idle": "2021-12-14T03:04:15.367055Z",
     "shell.execute_reply": "2021-12-14T03:04:15.367055Z"
    }
   },
   "outputs": [
    {
     "data": {
      "text/html": [
       "<div>\n",
       "<style scoped>\n",
       "    .dataframe tbody tr th:only-of-type {\n",
       "        vertical-align: middle;\n",
       "    }\n",
       "\n",
       "    .dataframe tbody tr th {\n",
       "        vertical-align: top;\n",
       "    }\n",
       "\n",
       "    .dataframe thead th {\n",
       "        text-align: right;\n",
       "    }\n",
       "</style>\n",
       "<table border=\"1\" class=\"dataframe\">\n",
       "  <thead>\n",
       "    <tr style=\"text-align: right;\">\n",
       "      <th></th>\n",
       "      <th>name</th>\n",
       "    </tr>\n",
       "  </thead>\n",
       "  <tbody>\n",
       "    <tr>\n",
       "      <th>0</th>\n",
       "      <td>bethel</td>\n",
       "    </tr>\n",
       "    <tr>\n",
       "      <th>1</th>\n",
       "      <td>clifton_court</td>\n",
       "    </tr>\n",
       "    <tr>\n",
       "      <th>2</th>\n",
       "      <td>discovery_bay</td>\n",
       "    </tr>\n",
       "    <tr>\n",
       "      <th>3</th>\n",
       "      <td>franks_tract</td>\n",
       "    </tr>\n",
       "    <tr>\n",
       "      <th>4</th>\n",
       "      <td>liberty</td>\n",
       "    </tr>\n",
       "    <tr>\n",
       "      <th>5</th>\n",
       "      <td>mildred</td>\n",
       "    </tr>\n",
       "  </tbody>\n",
       "</table>\n",
       "</div>"
      ],
      "text/plain": [
       "            name\n",
       "0         bethel\n",
       "1  clifton_court\n",
       "2  discovery_bay\n",
       "3   franks_tract\n",
       "4        liberty\n",
       "5        mildred"
      ]
     },
     "execution_count": 4,
     "metadata": {},
     "output_type": "execute_result"
    }
   ],
   "source": [
    "qual.get_reservoirs()"
   ]
  },
  {
   "cell_type": "markdown",
   "metadata": {},
   "source": [
    "## Constituents\n",
    "These are the constituents that have been simulated for which data is available in the .h5 file"
   ]
  },
  {
   "cell_type": "code",
   "execution_count": 5,
   "metadata": {
    "execution": {
     "iopub.execute_input": "2021-12-14T03:04:15.367055Z",
     "iopub.status.busy": "2021-12-14T03:04:15.367055Z",
     "iopub.status.idle": "2021-12-14T03:04:15.448231Z",
     "shell.execute_reply": "2021-12-14T03:04:15.448231Z"
    }
   },
   "outputs": [
    {
     "data": {
      "text/html": [
       "<div>\n",
       "<style scoped>\n",
       "    .dataframe tbody tr th:only-of-type {\n",
       "        vertical-align: middle;\n",
       "    }\n",
       "\n",
       "    .dataframe tbody tr th {\n",
       "        vertical-align: top;\n",
       "    }\n",
       "\n",
       "    .dataframe thead th {\n",
       "        text-align: right;\n",
       "    }\n",
       "</style>\n",
       "<table border=\"1\" class=\"dataframe\">\n",
       "  <thead>\n",
       "    <tr style=\"text-align: right;\">\n",
       "      <th></th>\n",
       "      <th>constituent_names</th>\n",
       "    </tr>\n",
       "  </thead>\n",
       "  <tbody>\n",
       "    <tr>\n",
       "      <th>0</th>\n",
       "      <td>ec</td>\n",
       "    </tr>\n",
       "  </tbody>\n",
       "</table>\n",
       "</div>"
      ],
      "text/plain": [
       "  constituent_names\n",
       "0                ec"
      ]
     },
     "execution_count": 5,
     "metadata": {},
     "output_type": "execute_result"
    }
   ],
   "source": [
    "qual.get_constituents()"
   ]
  },
  {
   "cell_type": "markdown",
   "metadata": {},
   "source": [
    "## Get Data Tables\n",
    "\n",
    "These are tables that contain time series data. There are corresponding \n",
    "get_* for each table. Those are described below"
   ]
  },
  {
   "cell_type": "code",
   "execution_count": 6,
   "metadata": {
    "execution": {
     "iopub.execute_input": "2021-12-14T03:04:15.448231Z",
     "iopub.status.busy": "2021-12-14T03:04:15.448231Z",
     "iopub.status.idle": "2021-12-14T03:04:15.529479Z",
     "shell.execute_reply": "2021-12-14T03:04:15.527434Z"
    }
   },
   "outputs": [
    {
     "data": {
      "text/plain": [
       "['channel avg concentration',\n",
       " 'channel concentration',\n",
       " 'reservoir concentration']"
      ]
     },
     "execution_count": 6,
     "metadata": {},
     "output_type": "execute_result"
    }
   ],
   "source": [
    "qual.get_data_tables()"
   ]
  },
  {
   "cell_type": "markdown",
   "metadata": {},
   "source": [
    "## Extracting time series data\n",
    "Extracting data can then be done using the channel numbers. All data arrays have the first axis as time. The time start and time interval is available in the attrs along with other meta data.\n",
    "\n",
    "Constituent data shape is *time* x *constituent name* x *channel index* x *channel location*\n",
    "\n",
    "* time start is available in attribue \"START_TIME\"\n",
    "* constituent name is the value found as explained in the get_constituents() method above\n",
    "* channel index to channel numbers is explained above in the get_channels() method\n",
    "* channel location (upstream/downstream) if available"
   ]
  },
  {
   "cell_type": "markdown",
   "metadata": {},
   "source": [
    "### get_* methods\n",
    "\n",
    "Each of the data tables has a corresponding get_* method. \n",
    "E.g. To the get the channel flow data use the methods below\n",
    "\n",
    "Time window is an optional argument that can allow to retrieve only a part of the information"
   ]
  },
  {
   "cell_type": "code",
   "execution_count": 7,
   "metadata": {
    "execution": {
     "iopub.execute_input": "2021-12-14T03:04:15.529479Z",
     "iopub.status.busy": "2021-12-14T03:04:15.529479Z",
     "iopub.status.idle": "2021-12-14T03:04:15.671695Z",
     "shell.execute_reply": "2021-12-14T03:04:15.671695Z"
    }
   },
   "outputs": [
    {
     "data": {
      "text/html": [
       "<div>\n",
       "<style scoped>\n",
       "    .dataframe tbody tr th:only-of-type {\n",
       "        vertical-align: middle;\n",
       "    }\n",
       "\n",
       "    .dataframe tbody tr th {\n",
       "        vertical-align: top;\n",
       "    }\n",
       "\n",
       "    .dataframe thead th {\n",
       "        text-align: right;\n",
       "    }\n",
       "</style>\n",
       "<table border=\"1\" class=\"dataframe\">\n",
       "  <thead>\n",
       "    <tr style=\"text-align: right;\">\n",
       "      <th></th>\n",
       "      <th>434-upstream</th>\n",
       "      <th>434-downstream</th>\n",
       "    </tr>\n",
       "  </thead>\n",
       "  <tbody>\n",
       "    <tr>\n",
       "      <th>1990-01-04 00:00:00</th>\n",
       "      <td>0.000000</td>\n",
       "      <td>0.000000</td>\n",
       "    </tr>\n",
       "    <tr>\n",
       "      <th>1990-01-04 01:00:00</th>\n",
       "      <td>0.039021</td>\n",
       "      <td>0.000000</td>\n",
       "    </tr>\n",
       "    <tr>\n",
       "      <th>1990-01-04 02:00:00</th>\n",
       "      <td>0.053210</td>\n",
       "      <td>0.000686</td>\n",
       "    </tr>\n",
       "    <tr>\n",
       "      <th>1990-01-04 03:00:00</th>\n",
       "      <td>0.101569</td>\n",
       "      <td>0.005568</td>\n",
       "    </tr>\n",
       "    <tr>\n",
       "      <th>1990-01-04 04:00:00</th>\n",
       "      <td>0.127697</td>\n",
       "      <td>0.061579</td>\n",
       "    </tr>\n",
       "    <tr>\n",
       "      <th>...</th>\n",
       "      <td>...</td>\n",
       "      <td>...</td>\n",
       "    </tr>\n",
       "    <tr>\n",
       "      <th>1990-01-30 20:00:00</th>\n",
       "      <td>1369.167969</td>\n",
       "      <td>3097.956055</td>\n",
       "    </tr>\n",
       "    <tr>\n",
       "      <th>1990-01-30 21:00:00</th>\n",
       "      <td>1016.531372</td>\n",
       "      <td>2442.458252</td>\n",
       "    </tr>\n",
       "    <tr>\n",
       "      <th>1990-01-30 22:00:00</th>\n",
       "      <td>682.779236</td>\n",
       "      <td>1874.719360</td>\n",
       "    </tr>\n",
       "    <tr>\n",
       "      <th>1990-01-30 23:00:00</th>\n",
       "      <td>491.581543</td>\n",
       "      <td>1415.053955</td>\n",
       "    </tr>\n",
       "    <tr>\n",
       "      <th>1990-01-31 00:00:00</th>\n",
       "      <td>390.986542</td>\n",
       "      <td>1064.520752</td>\n",
       "    </tr>\n",
       "  </tbody>\n",
       "</table>\n",
       "<p>649 rows × 2 columns</p>\n",
       "</div>"
      ],
      "text/plain": [
       "                     434-upstream  434-downstream\n",
       "1990-01-04 00:00:00      0.000000        0.000000\n",
       "1990-01-04 01:00:00      0.039021        0.000000\n",
       "1990-01-04 02:00:00      0.053210        0.000686\n",
       "1990-01-04 03:00:00      0.101569        0.005568\n",
       "1990-01-04 04:00:00      0.127697        0.061579\n",
       "...                           ...             ...\n",
       "1990-01-30 20:00:00   1369.167969     3097.956055\n",
       "1990-01-30 21:00:00   1016.531372     2442.458252\n",
       "1990-01-30 22:00:00    682.779236     1874.719360\n",
       "1990-01-30 23:00:00    491.581543     1415.053955\n",
       "1990-01-31 00:00:00    390.986542     1064.520752\n",
       "\n",
       "[649 rows x 2 columns]"
      ]
     },
     "execution_count": 7,
     "metadata": {},
     "output_type": "execute_result"
    }
   ],
   "source": [
    "up1 = qual.get_channel_concentration('ec', '434','upstream')\n",
    "down1 = qual.get_channel_concentration('ec','434','downstream')\n",
    "pd.concat([up1,down1],axis=1)"
   ]
  },
  {
   "cell_type": "markdown",
   "metadata": {},
   "source": [
    "Use the timewindow argument to retrieve only part of the time series"
   ]
  },
  {
   "cell_type": "code",
   "execution_count": 8,
   "metadata": {
    "execution": {
     "iopub.execute_input": "2021-12-14T03:04:15.671695Z",
     "iopub.status.busy": "2021-12-14T03:04:15.671695Z",
     "iopub.status.idle": "2021-12-14T03:04:15.773280Z",
     "shell.execute_reply": "2021-12-14T03:04:15.773280Z"
    }
   },
   "outputs": [
    {
     "data": {
      "text/html": [
       "<div>\n",
       "<style scoped>\n",
       "    .dataframe tbody tr th:only-of-type {\n",
       "        vertical-align: middle;\n",
       "    }\n",
       "\n",
       "    .dataframe tbody tr th {\n",
       "        vertical-align: top;\n",
       "    }\n",
       "\n",
       "    .dataframe thead th {\n",
       "        text-align: right;\n",
       "    }\n",
       "</style>\n",
       "<table border=\"1\" class=\"dataframe\">\n",
       "  <thead>\n",
       "    <tr style=\"text-align: right;\">\n",
       "      <th></th>\n",
       "      <th>380</th>\n",
       "    </tr>\n",
       "  </thead>\n",
       "  <tbody>\n",
       "    <tr>\n",
       "      <th>1990-01-10 00:00:00</th>\n",
       "      <td>123.189064</td>\n",
       "    </tr>\n",
       "    <tr>\n",
       "      <th>1990-01-10 01:00:00</th>\n",
       "      <td>123.963478</td>\n",
       "    </tr>\n",
       "    <tr>\n",
       "      <th>1990-01-10 02:00:00</th>\n",
       "      <td>125.721069</td>\n",
       "    </tr>\n",
       "    <tr>\n",
       "      <th>1990-01-10 03:00:00</th>\n",
       "      <td>127.292564</td>\n",
       "    </tr>\n",
       "    <tr>\n",
       "      <th>1990-01-10 04:00:00</th>\n",
       "      <td>128.298035</td>\n",
       "    </tr>\n",
       "    <tr>\n",
       "      <th>...</th>\n",
       "      <td>...</td>\n",
       "    </tr>\n",
       "    <tr>\n",
       "      <th>1990-01-24 19:00:00</th>\n",
       "      <td>189.090286</td>\n",
       "    </tr>\n",
       "    <tr>\n",
       "      <th>1990-01-24 20:00:00</th>\n",
       "      <td>189.432419</td>\n",
       "    </tr>\n",
       "    <tr>\n",
       "      <th>1990-01-24 21:00:00</th>\n",
       "      <td>190.366257</td>\n",
       "    </tr>\n",
       "    <tr>\n",
       "      <th>1990-01-24 22:00:00</th>\n",
       "      <td>192.871918</td>\n",
       "    </tr>\n",
       "    <tr>\n",
       "      <th>1990-01-24 23:00:00</th>\n",
       "      <td>197.562775</td>\n",
       "    </tr>\n",
       "  </tbody>\n",
       "</table>\n",
       "<p>360 rows × 1 columns</p>\n",
       "</div>"
      ],
      "text/plain": [
       "                            380\n",
       "1990-01-10 00:00:00  123.189064\n",
       "1990-01-10 01:00:00  123.963478\n",
       "1990-01-10 02:00:00  125.721069\n",
       "1990-01-10 03:00:00  127.292564\n",
       "1990-01-10 04:00:00  128.298035\n",
       "...                         ...\n",
       "1990-01-24 19:00:00  189.090286\n",
       "1990-01-24 20:00:00  189.432419\n",
       "1990-01-24 21:00:00  190.366257\n",
       "1990-01-24 22:00:00  192.871918\n",
       "1990-01-24 23:00:00  197.562775\n",
       "\n",
       "[360 rows x 1 columns]"
      ]
     },
     "execution_count": 8,
     "metadata": {},
     "output_type": "execute_result"
    }
   ],
   "source": [
    "up2 = qual.get_channel_avg_concentration('ec', '380','10JAN1990 - 25JAN1990')\n",
    "up2"
   ]
  },
  {
   "cell_type": "code",
   "execution_count": 9,
   "metadata": {
    "execution": {
     "iopub.execute_input": "2021-12-14T03:04:15.773280Z",
     "iopub.status.busy": "2021-12-14T03:04:15.773280Z",
     "iopub.status.idle": "2021-12-14T03:04:15.865719Z",
     "shell.execute_reply": "2021-12-14T03:04:15.865719Z"
    }
   },
   "outputs": [
    {
     "data": {
      "text/html": [
       "<div>\n",
       "<style scoped>\n",
       "    .dataframe tbody tr th:only-of-type {\n",
       "        vertical-align: middle;\n",
       "    }\n",
       "\n",
       "    .dataframe tbody tr th {\n",
       "        vertical-align: top;\n",
       "    }\n",
       "\n",
       "    .dataframe thead th {\n",
       "        text-align: right;\n",
       "    }\n",
       "</style>\n",
       "<table border=\"1\" class=\"dataframe\">\n",
       "  <thead>\n",
       "    <tr style=\"text-align: right;\">\n",
       "      <th></th>\n",
       "      <th>1-upstream</th>\n",
       "    </tr>\n",
       "  </thead>\n",
       "  <tbody>\n",
       "    <tr>\n",
       "      <th>1990-01-08 00:00:00</th>\n",
       "      <td>1138.650635</td>\n",
       "    </tr>\n",
       "    <tr>\n",
       "      <th>1990-01-08 01:00:00</th>\n",
       "      <td>1139.727905</td>\n",
       "    </tr>\n",
       "    <tr>\n",
       "      <th>1990-01-08 02:00:00</th>\n",
       "      <td>1139.729492</td>\n",
       "    </tr>\n",
       "    <tr>\n",
       "      <th>1990-01-08 03:00:00</th>\n",
       "      <td>1138.398071</td>\n",
       "    </tr>\n",
       "    <tr>\n",
       "      <th>1990-01-08 04:00:00</th>\n",
       "      <td>1133.848022</td>\n",
       "    </tr>\n",
       "    <tr>\n",
       "      <th>1990-01-08 05:00:00</th>\n",
       "      <td>1130.868042</td>\n",
       "    </tr>\n",
       "    <tr>\n",
       "      <th>1990-01-08 06:00:00</th>\n",
       "      <td>1130.011353</td>\n",
       "    </tr>\n",
       "    <tr>\n",
       "      <th>1990-01-08 07:00:00</th>\n",
       "      <td>1129.855347</td>\n",
       "    </tr>\n",
       "    <tr>\n",
       "      <th>1990-01-08 08:00:00</th>\n",
       "      <td>1129.834106</td>\n",
       "    </tr>\n",
       "    <tr>\n",
       "      <th>1990-01-08 09:00:00</th>\n",
       "      <td>1129.832275</td>\n",
       "    </tr>\n",
       "    <tr>\n",
       "      <th>1990-01-08 10:00:00</th>\n",
       "      <td>1129.832642</td>\n",
       "    </tr>\n",
       "    <tr>\n",
       "      <th>1990-01-08 11:00:00</th>\n",
       "      <td>1129.833008</td>\n",
       "    </tr>\n",
       "    <tr>\n",
       "      <th>1990-01-08 12:00:00</th>\n",
       "      <td>1129.833252</td>\n",
       "    </tr>\n",
       "    <tr>\n",
       "      <th>1990-01-08 13:00:00</th>\n",
       "      <td>1129.833374</td>\n",
       "    </tr>\n",
       "    <tr>\n",
       "      <th>1990-01-08 14:00:00</th>\n",
       "      <td>1129.833374</td>\n",
       "    </tr>\n",
       "    <tr>\n",
       "      <th>1990-01-08 15:00:00</th>\n",
       "      <td>1129.833374</td>\n",
       "    </tr>\n",
       "    <tr>\n",
       "      <th>1990-01-08 16:00:00</th>\n",
       "      <td>1129.833496</td>\n",
       "    </tr>\n",
       "    <tr>\n",
       "      <th>1990-01-08 17:00:00</th>\n",
       "      <td>1129.833862</td>\n",
       "    </tr>\n",
       "    <tr>\n",
       "      <th>1990-01-08 18:00:00</th>\n",
       "      <td>1129.834473</td>\n",
       "    </tr>\n",
       "    <tr>\n",
       "      <th>1990-01-08 19:00:00</th>\n",
       "      <td>1129.835449</td>\n",
       "    </tr>\n",
       "    <tr>\n",
       "      <th>1990-01-08 20:00:00</th>\n",
       "      <td>1129.836304</td>\n",
       "    </tr>\n",
       "    <tr>\n",
       "      <th>1990-01-08 21:00:00</th>\n",
       "      <td>1129.836182</td>\n",
       "    </tr>\n",
       "    <tr>\n",
       "      <th>1990-01-08 22:00:00</th>\n",
       "      <td>1129.835571</td>\n",
       "    </tr>\n",
       "    <tr>\n",
       "      <th>1990-01-08 23:00:00</th>\n",
       "      <td>1129.834961</td>\n",
       "    </tr>\n",
       "    <tr>\n",
       "      <th>1990-01-09 00:00:00</th>\n",
       "      <td>1129.834229</td>\n",
       "    </tr>\n",
       "    <tr>\n",
       "      <th>1990-01-09 01:00:00</th>\n",
       "      <td>1129.515137</td>\n",
       "    </tr>\n",
       "    <tr>\n",
       "      <th>1990-01-09 02:00:00</th>\n",
       "      <td>1129.518677</td>\n",
       "    </tr>\n",
       "    <tr>\n",
       "      <th>1990-01-09 03:00:00</th>\n",
       "      <td>1129.651978</td>\n",
       "    </tr>\n",
       "    <tr>\n",
       "      <th>1990-01-09 04:00:00</th>\n",
       "      <td>1130.105225</td>\n",
       "    </tr>\n",
       "    <tr>\n",
       "      <th>1990-01-09 05:00:00</th>\n",
       "      <td>1130.407227</td>\n",
       "    </tr>\n",
       "    <tr>\n",
       "      <th>1990-01-09 06:00:00</th>\n",
       "      <td>1130.495361</td>\n",
       "    </tr>\n",
       "    <tr>\n",
       "      <th>1990-01-09 07:00:00</th>\n",
       "      <td>1130.511963</td>\n",
       "    </tr>\n",
       "    <tr>\n",
       "      <th>1990-01-09 08:00:00</th>\n",
       "      <td>1130.514526</td>\n",
       "    </tr>\n",
       "    <tr>\n",
       "      <th>1990-01-09 09:00:00</th>\n",
       "      <td>1130.515137</td>\n",
       "    </tr>\n",
       "    <tr>\n",
       "      <th>1990-01-09 10:00:00</th>\n",
       "      <td>1130.515503</td>\n",
       "    </tr>\n",
       "    <tr>\n",
       "      <th>1990-01-09 11:00:00</th>\n",
       "      <td>1130.515869</td>\n",
       "    </tr>\n",
       "    <tr>\n",
       "      <th>1990-01-09 12:00:00</th>\n",
       "      <td>1130.515991</td>\n",
       "    </tr>\n",
       "    <tr>\n",
       "      <th>1990-01-09 13:00:00</th>\n",
       "      <td>1130.516113</td>\n",
       "    </tr>\n",
       "    <tr>\n",
       "      <th>1990-01-09 14:00:00</th>\n",
       "      <td>1130.516113</td>\n",
       "    </tr>\n",
       "    <tr>\n",
       "      <th>1990-01-09 15:00:00</th>\n",
       "      <td>1130.515991</td>\n",
       "    </tr>\n",
       "    <tr>\n",
       "      <th>1990-01-09 16:00:00</th>\n",
       "      <td>1130.515991</td>\n",
       "    </tr>\n",
       "    <tr>\n",
       "      <th>1990-01-09 17:00:00</th>\n",
       "      <td>1130.516113</td>\n",
       "    </tr>\n",
       "    <tr>\n",
       "      <th>1990-01-09 18:00:00</th>\n",
       "      <td>1130.516357</td>\n",
       "    </tr>\n",
       "    <tr>\n",
       "      <th>1990-01-09 19:00:00</th>\n",
       "      <td>1130.516846</td>\n",
       "    </tr>\n",
       "    <tr>\n",
       "      <th>1990-01-09 20:00:00</th>\n",
       "      <td>1130.517700</td>\n",
       "    </tr>\n",
       "    <tr>\n",
       "      <th>1990-01-09 21:00:00</th>\n",
       "      <td>1130.518311</td>\n",
       "    </tr>\n",
       "    <tr>\n",
       "      <th>1990-01-09 22:00:00</th>\n",
       "      <td>1130.518188</td>\n",
       "    </tr>\n",
       "    <tr>\n",
       "      <th>1990-01-09 23:00:00</th>\n",
       "      <td>1130.517700</td>\n",
       "    </tr>\n",
       "  </tbody>\n",
       "</table>\n",
       "</div>"
      ],
      "text/plain": [
       "                      1-upstream\n",
       "1990-01-08 00:00:00  1138.650635\n",
       "1990-01-08 01:00:00  1139.727905\n",
       "1990-01-08 02:00:00  1139.729492\n",
       "1990-01-08 03:00:00  1138.398071\n",
       "1990-01-08 04:00:00  1133.848022\n",
       "1990-01-08 05:00:00  1130.868042\n",
       "1990-01-08 06:00:00  1130.011353\n",
       "1990-01-08 07:00:00  1129.855347\n",
       "1990-01-08 08:00:00  1129.834106\n",
       "1990-01-08 09:00:00  1129.832275\n",
       "1990-01-08 10:00:00  1129.832642\n",
       "1990-01-08 11:00:00  1129.833008\n",
       "1990-01-08 12:00:00  1129.833252\n",
       "1990-01-08 13:00:00  1129.833374\n",
       "1990-01-08 14:00:00  1129.833374\n",
       "1990-01-08 15:00:00  1129.833374\n",
       "1990-01-08 16:00:00  1129.833496\n",
       "1990-01-08 17:00:00  1129.833862\n",
       "1990-01-08 18:00:00  1129.834473\n",
       "1990-01-08 19:00:00  1129.835449\n",
       "1990-01-08 20:00:00  1129.836304\n",
       "1990-01-08 21:00:00  1129.836182\n",
       "1990-01-08 22:00:00  1129.835571\n",
       "1990-01-08 23:00:00  1129.834961\n",
       "1990-01-09 00:00:00  1129.834229\n",
       "1990-01-09 01:00:00  1129.515137\n",
       "1990-01-09 02:00:00  1129.518677\n",
       "1990-01-09 03:00:00  1129.651978\n",
       "1990-01-09 04:00:00  1130.105225\n",
       "1990-01-09 05:00:00  1130.407227\n",
       "1990-01-09 06:00:00  1130.495361\n",
       "1990-01-09 07:00:00  1130.511963\n",
       "1990-01-09 08:00:00  1130.514526\n",
       "1990-01-09 09:00:00  1130.515137\n",
       "1990-01-09 10:00:00  1130.515503\n",
       "1990-01-09 11:00:00  1130.515869\n",
       "1990-01-09 12:00:00  1130.515991\n",
       "1990-01-09 13:00:00  1130.516113\n",
       "1990-01-09 14:00:00  1130.516113\n",
       "1990-01-09 15:00:00  1130.515991\n",
       "1990-01-09 16:00:00  1130.515991\n",
       "1990-01-09 17:00:00  1130.516113\n",
       "1990-01-09 18:00:00  1130.516357\n",
       "1990-01-09 19:00:00  1130.516846\n",
       "1990-01-09 20:00:00  1130.517700\n",
       "1990-01-09 21:00:00  1130.518311\n",
       "1990-01-09 22:00:00  1130.518188\n",
       "1990-01-09 23:00:00  1130.517700"
      ]
     },
     "execution_count": 9,
     "metadata": {},
     "output_type": "execute_result"
    }
   ],
   "source": [
    "qual.get_channel_concentration('ec', 1,'upstream','08JAN1990 - 10JAN1990')"
   ]
  },
  {
   "cell_type": "markdown",
   "metadata": {},
   "source": [
    "## Qual Input Tables\n",
    "The .h5 file in qual contains many (though not all) input tables (*.inp). A complete listing of those tables can be read from the echo files. See this [notebook to read input](dsm2_read_input.ipynb)"
   ]
  },
  {
   "cell_type": "code",
   "execution_count": 10,
   "metadata": {
    "execution": {
     "iopub.execute_input": "2021-12-14T03:04:15.865719Z",
     "iopub.status.busy": "2021-12-14T03:04:15.865719Z",
     "iopub.status.idle": "2021-12-14T03:04:15.946291Z",
     "shell.execute_reply": "2021-12-14T03:04:15.944211Z"
    }
   },
   "outputs": [
    {
     "data": {
      "text/plain": [
       "['/input/envvar',\n",
       " '/input/group',\n",
       " '/input/group_member',\n",
       " '/input/input_climate',\n",
       " '/input/io_file',\n",
       " '/input/layers',\n",
       " '/input/node_concentration',\n",
       " '/input/output_channel',\n",
       " '/input/output_channel_source_track',\n",
       " '/input/output_reservoir',\n",
       " '/input/output_reservoir_source_track',\n",
       " '/input/rate_coefficient',\n",
       " '/input/reservoir_concentration',\n",
       " '/input/scalar',\n",
       " '/input/tidefile']"
      ]
     },
     "execution_count": 10,
     "metadata": {},
     "output_type": "execute_result"
    }
   ],
   "source": [
    "qual.get_input_tables()"
   ]
  },
  {
   "cell_type": "markdown",
   "metadata": {},
   "source": [
    "To read the contents of any of the above tables simply use the get_input_table method"
   ]
  },
  {
   "cell_type": "code",
   "execution_count": 11,
   "metadata": {
    "execution": {
     "iopub.execute_input": "2021-12-14T03:04:15.946291Z",
     "iopub.status.busy": "2021-12-14T03:04:15.946291Z",
     "iopub.status.idle": "2021-12-14T03:04:16.027730Z",
     "shell.execute_reply": "2021-12-14T03:04:16.027730Z"
    }
   },
   "outputs": [
    {
     "data": {
      "text/html": [
       "<div>\n",
       "<style scoped>\n",
       "    .dataframe tbody tr th:only-of-type {\n",
       "        vertical-align: middle;\n",
       "    }\n",
       "\n",
       "    .dataframe tbody tr th {\n",
       "        vertical-align: top;\n",
       "    }\n",
       "\n",
       "    .dataframe thead th {\n",
       "        text-align: right;\n",
       "    }\n",
       "</style>\n",
       "<table border=\"1\" class=\"dataframe\">\n",
       "  <thead>\n",
       "    <tr style=\"text-align: right;\">\n",
       "      <th></th>\n",
       "      <th>start_date</th>\n",
       "      <th>end_date</th>\n",
       "      <th>file</th>\n",
       "    </tr>\n",
       "  </thead>\n",
       "  <tbody>\n",
       "    <tr>\n",
       "      <th>0</th>\n",
       "      <td>runtime</td>\n",
       "      <td>length</td>\n",
       "      <td>./output/historical_v82.h5</td>\n",
       "    </tr>\n",
       "  </tbody>\n",
       "</table>\n",
       "</div>"
      ],
      "text/plain": [
       "  start_date end_date                        file\n",
       "0    runtime   length  ./output/historical_v82.h5"
      ]
     },
     "execution_count": 11,
     "metadata": {},
     "output_type": "execute_result"
    }
   ],
   "source": [
    "qual.get_input_table('/input/tidefile')"
   ]
  }
 ],
 "metadata": {
  "hide_input": false,
  "interpreter": {
   "hash": "db7c19f4a439e5789451de0a908f63cf1cf9873bacb97bdd6cf888b60f976b5c"
  },
  "kernelspec": {
   "display_name": "Python [conda env:dev_pydsm]",
   "language": "python",
   "name": "python3"
  },
  "language_info": {
   "codemirror_mode": {
    "name": "ipython",
    "version": 3
   },
   "file_extension": ".py",
   "mimetype": "text/x-python",
   "name": "python",
   "nbconvert_exporter": "python",
   "pygments_lexer": "ipython3",
   "version": "3.7.11"
  },
  "toc": {
   "base_numbering": 1,
   "nav_menu": {},
   "number_sections": true,
   "sideBar": true,
   "skip_h1_title": false,
   "title_cell": "Table of Contents",
   "title_sidebar": "Contents",
   "toc_cell": false,
   "toc_position": {},
   "toc_section_display": true,
   "toc_window_display": false
  },
  "varInspector": {
   "cols": {
    "lenName": 16,
    "lenType": 16,
    "lenVar": 40
   },
   "kernels_config": {
    "python": {
     "delete_cmd_postfix": "",
     "delete_cmd_prefix": "del ",
     "library": "var_list.py",
     "varRefreshCmd": "print(var_dic_list())"
    },
    "r": {
     "delete_cmd_postfix": ") ",
     "delete_cmd_prefix": "rm(",
     "library": "var_list.r",
     "varRefreshCmd": "cat(var_dic_list()) "
    }
   },
   "types_to_exclude": [
    "module",
    "function",
    "builtin_function_or_method",
    "instance",
    "_Feature"
   ],
   "window_display": false
  }
 },
 "nbformat": 4,
 "nbformat_minor": 2
}
