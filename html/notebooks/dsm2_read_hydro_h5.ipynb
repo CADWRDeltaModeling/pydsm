{
 "cells": [
  {
   "cell_type": "markdown",
   "metadata": {},
   "source": [
    "# Reading hydro hdf5 files from DSM2\n",
    "\n",
    "This notebook is an example of using pydsm to read DSM2 h5 output.\n",
    "\n",
    "The timeseries are loaded as pandas DataFrame with datetime index and mcolumns of variable type (e.g. flow, stage, ec). This is similar to pyhecdss read in objects.\n",
    "\n",
    "In addition to the state of the model as time series, the HDF file also contains the input tables as intepreted by DSM2. I say interpreted because it also has important tables such as virtual cross-sections that is the geometry finally used by DSM2 even though the user specifies the physical geometry in the input files."
   ]
  },
  {
   "cell_type": "code",
   "execution_count": 1,
   "metadata": {
    "execution": {
     "iopub.execute_input": "2021-12-14T02:51:06.405386Z",
     "iopub.status.busy": "2021-12-14T02:51:06.404391Z",
     "iopub.status.idle": "2021-12-14T02:51:08.492431Z",
     "shell.execute_reply": "2021-12-14T02:51:08.493427Z"
    }
   },
   "outputs": [],
   "source": [
    "import pandas as pd\n",
    "import matplotlib.pyplot as plt\n",
    "import numpy as np\n",
    "import h5py\n",
    "# main import \n",
    "from pydsm.hydroh5 import HydroH5\n",
    "# Turn on ones below if in debug or development mode\n",
    "#%load_ext autoreload\n",
    "#%autoreload 2"
   ]
  },
  {
   "cell_type": "markdown",
   "metadata": {},
   "source": [
    "## Opening a H5 file\n",
    "This provides the handle to the HDF5 file. "
   ]
  },
  {
   "cell_type": "code",
   "execution_count": 2,
   "metadata": {
    "execution": {
     "iopub.execute_input": "2021-12-14T02:51:08.496414Z",
     "iopub.status.busy": "2021-12-14T02:51:08.495418Z",
     "iopub.status.idle": "2021-12-14T02:51:09.194340Z",
     "shell.execute_reply": "2021-12-14T02:51:09.195335Z"
    }
   },
   "outputs": [],
   "source": [
    "filename='../../tests/data/historical_v82.h5'\n",
    "hydro=HydroH5(filename)"
   ]
  },
  {
   "cell_type": "markdown",
   "metadata": {},
   "source": [
    "# Hydro data file structure\n",
    "DSM2 Hydro HDF5 stores data under three groups:\n",
    " * /hydro/data\n",
    " * /hydro/input\n",
    " * /hydro/geometry\n",
    " \n"
   ]
  },
  {
   "cell_type": "markdown",
   "metadata": {},
   "source": [
    "## Display channels\n",
    "\n",
    "The method get_channels() returns a data frame indexed by internal channel index. The first column contains the external channel id that is referenced in the dsm2 input files"
   ]
  },
  {
   "cell_type": "code",
   "execution_count": 3,
   "metadata": {
    "execution": {
     "iopub.execute_input": "2021-12-14T02:51:09.198322Z",
     "iopub.status.busy": "2021-12-14T02:51:09.198322Z",
     "iopub.status.idle": "2021-12-14T02:51:09.331734Z",
     "shell.execute_reply": "2021-12-14T02:51:09.330739Z"
    }
   },
   "outputs": [
    {
     "data": {
      "text/html": [
       "<div>\n",
       "<style scoped>\n",
       "    .dataframe tbody tr th:only-of-type {\n",
       "        vertical-align: middle;\n",
       "    }\n",
       "\n",
       "    .dataframe tbody tr th {\n",
       "        vertical-align: top;\n",
       "    }\n",
       "\n",
       "    .dataframe thead th {\n",
       "        text-align: right;\n",
       "    }\n",
       "</style>\n",
       "<table border=\"1\" class=\"dataframe\">\n",
       "  <thead>\n",
       "    <tr style=\"text-align: right;\">\n",
       "      <th></th>\n",
       "      <th>0</th>\n",
       "    </tr>\n",
       "  </thead>\n",
       "  <tbody>\n",
       "    <tr>\n",
       "      <th>0</th>\n",
       "      <td>1</td>\n",
       "    </tr>\n",
       "    <tr>\n",
       "      <th>1</th>\n",
       "      <td>2</td>\n",
       "    </tr>\n",
       "    <tr>\n",
       "      <th>2</th>\n",
       "      <td>3</td>\n",
       "    </tr>\n",
       "    <tr>\n",
       "      <th>3</th>\n",
       "      <td>4</td>\n",
       "    </tr>\n",
       "    <tr>\n",
       "      <th>4</th>\n",
       "      <td>5</td>\n",
       "    </tr>\n",
       "    <tr>\n",
       "      <th>...</th>\n",
       "      <td>...</td>\n",
       "    </tr>\n",
       "    <tr>\n",
       "      <th>516</th>\n",
       "      <td>575</td>\n",
       "    </tr>\n",
       "    <tr>\n",
       "      <th>517</th>\n",
       "      <td>700</td>\n",
       "    </tr>\n",
       "    <tr>\n",
       "      <th>518</th>\n",
       "      <td>701</td>\n",
       "    </tr>\n",
       "    <tr>\n",
       "      <th>519</th>\n",
       "      <td>702</td>\n",
       "    </tr>\n",
       "    <tr>\n",
       "      <th>520</th>\n",
       "      <td>703</td>\n",
       "    </tr>\n",
       "  </tbody>\n",
       "</table>\n",
       "<p>521 rows × 1 columns</p>\n",
       "</div>"
      ],
      "text/plain": [
       "       0\n",
       "0      1\n",
       "1      2\n",
       "2      3\n",
       "3      4\n",
       "4      5\n",
       "..   ...\n",
       "516  575\n",
       "517  700\n",
       "518  701\n",
       "519  702\n",
       "520  703\n",
       "\n",
       "[521 rows x 1 columns]"
      ]
     },
     "execution_count": 3,
     "metadata": {},
     "output_type": "execute_result"
    }
   ],
   "source": [
    "hydro.get_channels()"
   ]
  },
  {
   "cell_type": "markdown",
   "metadata": {},
   "source": [
    "## Reservoirs\n",
    "The reservoirs table shows the name of the reservoirs"
   ]
  },
  {
   "cell_type": "code",
   "execution_count": 4,
   "metadata": {
    "execution": {
     "iopub.execute_input": "2021-12-14T02:51:09.334720Z",
     "iopub.status.busy": "2021-12-14T02:51:09.333725Z",
     "iopub.status.idle": "2021-12-14T02:51:09.471119Z",
     "shell.execute_reply": "2021-12-14T02:51:09.471119Z"
    }
   },
   "outputs": [
    {
     "data": {
      "text/html": [
       "<div>\n",
       "<style scoped>\n",
       "    .dataframe tbody tr th:only-of-type {\n",
       "        vertical-align: middle;\n",
       "    }\n",
       "\n",
       "    .dataframe tbody tr th {\n",
       "        vertical-align: top;\n",
       "    }\n",
       "\n",
       "    .dataframe thead th {\n",
       "        text-align: right;\n",
       "    }\n",
       "</style>\n",
       "<table border=\"1\" class=\"dataframe\">\n",
       "  <thead>\n",
       "    <tr style=\"text-align: right;\">\n",
       "      <th></th>\n",
       "      <th>name</th>\n",
       "    </tr>\n",
       "  </thead>\n",
       "  <tbody>\n",
       "    <tr>\n",
       "      <th>0</th>\n",
       "      <td>bethel</td>\n",
       "    </tr>\n",
       "    <tr>\n",
       "      <th>1</th>\n",
       "      <td>clifton_court</td>\n",
       "    </tr>\n",
       "    <tr>\n",
       "      <th>2</th>\n",
       "      <td>discovery_bay</td>\n",
       "    </tr>\n",
       "    <tr>\n",
       "      <th>3</th>\n",
       "      <td>franks_tract</td>\n",
       "    </tr>\n",
       "    <tr>\n",
       "      <th>4</th>\n",
       "      <td>liberty</td>\n",
       "    </tr>\n",
       "    <tr>\n",
       "      <th>5</th>\n",
       "      <td>mildred</td>\n",
       "    </tr>\n",
       "  </tbody>\n",
       "</table>\n",
       "</div>"
      ],
      "text/plain": [
       "            name\n",
       "0         bethel\n",
       "1  clifton_court\n",
       "2  discovery_bay\n",
       "3   franks_tract\n",
       "4        liberty\n",
       "5        mildred"
      ]
     },
     "execution_count": 4,
     "metadata": {},
     "output_type": "execute_result"
    }
   ],
   "source": [
    "hydro.get_reservoirs()"
   ]
  },
  {
   "cell_type": "markdown",
   "metadata": {},
   "source": [
    "## External Flows\n",
    "\n",
    "These are external flows defined in the input files. E.g all the boundary flow inputs, including the diversions/seepage/returns at nodes are available from this table\n",
    "\n",
    "\n",
    "?Need reference to dsm2 docs here"
   ]
  },
  {
   "cell_type": "code",
   "execution_count": 5,
   "metadata": {
    "execution": {
     "iopub.execute_input": "2021-12-14T02:51:09.474106Z",
     "iopub.status.busy": "2021-12-14T02:51:09.474106Z",
     "iopub.status.idle": "2021-12-14T02:51:10.116796Z",
     "shell.execute_reply": "2021-12-14T02:51:10.116796Z"
    }
   },
   "outputs": [
    {
     "data": {
      "text/html": [
       "<div>\n",
       "<style scoped>\n",
       "    .dataframe tbody tr th:only-of-type {\n",
       "        vertical-align: middle;\n",
       "    }\n",
       "\n",
       "    .dataframe tbody tr th {\n",
       "        vertical-align: top;\n",
       "    }\n",
       "\n",
       "    .dataframe thead th {\n",
       "        text-align: right;\n",
       "    }\n",
       "</style>\n",
       "<table border=\"1\" class=\"dataframe\">\n",
       "  <thead>\n",
       "    <tr style=\"text-align: right;\">\n",
       "      <th></th>\n",
       "      <th>name</th>\n",
       "      <th>attach_obj_name</th>\n",
       "      <th>attached_obj_type</th>\n",
       "      <th>attached_obj_no</th>\n",
       "    </tr>\n",
       "  </thead>\n",
       "  <tbody>\n",
       "    <tr>\n",
       "      <th>0</th>\n",
       "      <td>calaveras</td>\n",
       "      <td>21</td>\n",
       "      <td>2</td>\n",
       "      <td>20</td>\n",
       "    </tr>\n",
       "    <tr>\n",
       "      <th>1</th>\n",
       "      <td>cosumnes</td>\n",
       "      <td>446</td>\n",
       "      <td>2</td>\n",
       "      <td>428</td>\n",
       "    </tr>\n",
       "    <tr>\n",
       "      <th>2</th>\n",
       "      <td>moke</td>\n",
       "      <td>447</td>\n",
       "      <td>2</td>\n",
       "      <td>429</td>\n",
       "    </tr>\n",
       "    <tr>\n",
       "      <th>3</th>\n",
       "      <td>north_bay</td>\n",
       "      <td>273</td>\n",
       "      <td>2</td>\n",
       "      <td>402</td>\n",
       "    </tr>\n",
       "    <tr>\n",
       "      <th>4</th>\n",
       "      <td>sac</td>\n",
       "      <td>330</td>\n",
       "      <td>2</td>\n",
       "      <td>295</td>\n",
       "    </tr>\n",
       "    <tr>\n",
       "      <th>...</th>\n",
       "      <td>...</td>\n",
       "      <td>...</td>\n",
       "      <td>...</td>\n",
       "      <td>...</td>\n",
       "    </tr>\n",
       "    <tr>\n",
       "      <th>785</th>\n",
       "      <td>stockton</td>\n",
       "      <td>15</td>\n",
       "      <td>2</td>\n",
       "      <td>15</td>\n",
       "    </tr>\n",
       "    <tr>\n",
       "      <th>786</th>\n",
       "      <td>dicu_div_bbid</td>\n",
       "      <td>clifton_court</td>\n",
       "      <td>3</td>\n",
       "      <td>2</td>\n",
       "    </tr>\n",
       "    <tr>\n",
       "      <th>787</th>\n",
       "      <td>dicu_drain_bbid</td>\n",
       "      <td>clifton_court</td>\n",
       "      <td>3</td>\n",
       "      <td>2</td>\n",
       "    </tr>\n",
       "    <tr>\n",
       "      <th>788</th>\n",
       "      <td>dicu_seep_bbid</td>\n",
       "      <td>clifton_court</td>\n",
       "      <td>3</td>\n",
       "      <td>2</td>\n",
       "    </tr>\n",
       "    <tr>\n",
       "      <th>789</th>\n",
       "      <td>swp</td>\n",
       "      <td>clifton_court</td>\n",
       "      <td>3</td>\n",
       "      <td>2</td>\n",
       "    </tr>\n",
       "  </tbody>\n",
       "</table>\n",
       "<p>790 rows × 4 columns</p>\n",
       "</div>"
      ],
      "text/plain": [
       "                name attach_obj_name  attached_obj_type  attached_obj_no\n",
       "0          calaveras              21                  2               20\n",
       "1           cosumnes             446                  2              428\n",
       "2               moke             447                  2              429\n",
       "3          north_bay             273                  2              402\n",
       "4                sac             330                  2              295\n",
       "..               ...             ...                ...              ...\n",
       "785         stockton              15                  2               15\n",
       "786    dicu_div_bbid   clifton_court                  3                2\n",
       "787  dicu_drain_bbid   clifton_court                  3                2\n",
       "788   dicu_seep_bbid   clifton_court                  3                2\n",
       "789              swp   clifton_court                  3                2\n",
       "\n",
       "[790 rows x 4 columns]"
      ]
     },
     "execution_count": 5,
     "metadata": {},
     "output_type": "execute_result"
    }
   ],
   "source": [
    "hydro.get_qext()"
   ]
  },
  {
   "cell_type": "markdown",
   "metadata": {},
   "source": [
    "## Get Data Tables\n",
    "\n",
    "These are tables that contain time series data. There are corresponding \n",
    "get_* for each table. Those are described below"
   ]
  },
  {
   "cell_type": "code",
   "execution_count": 6,
   "metadata": {
    "execution": {
     "iopub.execute_input": "2021-12-14T02:51:10.120778Z",
     "iopub.status.busy": "2021-12-14T02:51:10.119783Z",
     "iopub.status.idle": "2021-12-14T02:51:10.196445Z",
     "shell.execute_reply": "2021-12-14T02:51:10.195450Z"
    }
   },
   "outputs": [
    {
     "data": {
      "text/plain": [
       "['channel flow',\n",
       " 'channel area',\n",
       " 'channel stage',\n",
       " 'channel avg area',\n",
       " 'qext flow',\n",
       " 'reservoir flow',\n",
       " 'reservoir height',\n",
       " 'transfer flow']"
      ]
     },
     "execution_count": 6,
     "metadata": {},
     "output_type": "execute_result"
    }
   ],
   "source": [
    "hydro.get_data_tables()"
   ]
  },
  {
   "cell_type": "markdown",
   "metadata": {},
   "source": [
    "## Channel indices to numbers\n",
    "The data in DataSets under /hydro/data is typically indexed by time, channel index, upstream/downstream if needed\n",
    "The channel index can be mapped to the channel number by looking up that information from /hydro/geometry/channel_number"
   ]
  },
  {
   "cell_type": "markdown",
   "metadata": {},
   "source": [
    "## Extracting time series data\n",
    "Extracting data can then be done using the channel numbers. All data arrays have the first axis as time. The time start and time interval is available in the attrs along with other meta data.\n",
    "\n",
    "Flow data shape is *time* x *channel index* x *channel location*\n",
    "\n",
    "time start is available in attribue \"START_TIME\"\n",
    "channel index to channel numbers is explained above\n",
    "channel location (upstream/downstream) is available in /hydro/geometry/channel_location"
   ]
  },
  {
   "cell_type": "markdown",
   "metadata": {},
   "source": [
    "### get_* methods\n",
    "\n",
    "Each of the data tables has a corresponding get_* method. \n",
    "E.g. To the get the channel flow data use the methods below\n",
    "\n",
    "Time window is an optional argument that can allow to retrieve only a part of the information"
   ]
  },
  {
   "cell_type": "code",
   "execution_count": 7,
   "metadata": {
    "execution": {
     "iopub.execute_input": "2021-12-14T02:51:10.199432Z",
     "iopub.status.busy": "2021-12-14T02:51:10.199432Z",
     "iopub.status.idle": "2021-12-14T02:51:10.396564Z",
     "shell.execute_reply": "2021-12-14T02:51:10.395568Z"
    }
   },
   "outputs": [
    {
     "data": {
      "text/html": [
       "<div>\n",
       "<style scoped>\n",
       "    .dataframe tbody tr th:only-of-type {\n",
       "        vertical-align: middle;\n",
       "    }\n",
       "\n",
       "    .dataframe tbody tr th {\n",
       "        vertical-align: top;\n",
       "    }\n",
       "\n",
       "    .dataframe thead th {\n",
       "        text-align: right;\n",
       "    }\n",
       "</style>\n",
       "<table border=\"1\" class=\"dataframe\">\n",
       "  <thead>\n",
       "    <tr style=\"text-align: right;\">\n",
       "      <th></th>\n",
       "      <th>1-upstream</th>\n",
       "      <th>1-downstream</th>\n",
       "    </tr>\n",
       "  </thead>\n",
       "  <tbody>\n",
       "    <tr>\n",
       "      <th>1990-01-02 00:00:00</th>\n",
       "      <td>2600.000000</td>\n",
       "      <td>2400.000000</td>\n",
       "    </tr>\n",
       "    <tr>\n",
       "      <th>1990-01-02 00:30:00</th>\n",
       "      <td>207.439545</td>\n",
       "      <td>1069.039551</td>\n",
       "    </tr>\n",
       "    <tr>\n",
       "      <th>1990-01-02 01:00:00</th>\n",
       "      <td>1274.626099</td>\n",
       "      <td>1000.641602</td>\n",
       "    </tr>\n",
       "    <tr>\n",
       "      <th>1990-01-02 01:30:00</th>\n",
       "      <td>1156.880615</td>\n",
       "      <td>1157.169312</td>\n",
       "    </tr>\n",
       "    <tr>\n",
       "      <th>1990-01-02 02:00:00</th>\n",
       "      <td>1167.104126</td>\n",
       "      <td>1245.222656</td>\n",
       "    </tr>\n",
       "    <tr>\n",
       "      <th>...</th>\n",
       "      <td>...</td>\n",
       "      <td>...</td>\n",
       "    </tr>\n",
       "    <tr>\n",
       "      <th>1990-01-30 22:00:00</th>\n",
       "      <td>1208.349243</td>\n",
       "      <td>1205.972046</td>\n",
       "    </tr>\n",
       "    <tr>\n",
       "      <th>1990-01-30 22:30:00</th>\n",
       "      <td>1208.321655</td>\n",
       "      <td>1203.835205</td>\n",
       "    </tr>\n",
       "    <tr>\n",
       "      <th>1990-01-30 23:00:00</th>\n",
       "      <td>1208.271362</td>\n",
       "      <td>1201.660400</td>\n",
       "    </tr>\n",
       "    <tr>\n",
       "      <th>1990-01-30 23:30:00</th>\n",
       "      <td>1208.193848</td>\n",
       "      <td>1200.023438</td>\n",
       "    </tr>\n",
       "    <tr>\n",
       "      <th>1990-01-31 00:00:00</th>\n",
       "      <td>1208.081909</td>\n",
       "      <td>1199.686401</td>\n",
       "    </tr>\n",
       "  </tbody>\n",
       "</table>\n",
       "<p>1393 rows × 2 columns</p>\n",
       "</div>"
      ],
      "text/plain": [
       "                      1-upstream  1-downstream\n",
       "1990-01-02 00:00:00  2600.000000   2400.000000\n",
       "1990-01-02 00:30:00   207.439545   1069.039551\n",
       "1990-01-02 01:00:00  1274.626099   1000.641602\n",
       "1990-01-02 01:30:00  1156.880615   1157.169312\n",
       "1990-01-02 02:00:00  1167.104126   1245.222656\n",
       "...                          ...           ...\n",
       "1990-01-30 22:00:00  1208.349243   1205.972046\n",
       "1990-01-30 22:30:00  1208.321655   1203.835205\n",
       "1990-01-30 23:00:00  1208.271362   1201.660400\n",
       "1990-01-30 23:30:00  1208.193848   1200.023438\n",
       "1990-01-31 00:00:00  1208.081909   1199.686401\n",
       "\n",
       "[1393 rows x 2 columns]"
      ]
     },
     "execution_count": 7,
     "metadata": {},
     "output_type": "execute_result"
    }
   ],
   "source": [
    "up1 = hydro.get_channel_flow('1','upstream')\n",
    "down1 = hydro.get_channel_flow('1','downstream')\n",
    "pd.concat([up1,down1],axis=1)"
   ]
  },
  {
   "cell_type": "markdown",
   "metadata": {},
   "source": [
    "Use the timewindow argument to retrieve only part of the time series"
   ]
  },
  {
   "cell_type": "code",
   "execution_count": 8,
   "metadata": {
    "execution": {
     "iopub.execute_input": "2021-12-14T02:51:10.399550Z",
     "iopub.status.busy": "2021-12-14T02:51:10.398555Z",
     "iopub.status.idle": "2021-12-14T02:51:10.489156Z",
     "shell.execute_reply": "2021-12-14T02:51:10.488160Z"
    }
   },
   "outputs": [
    {
     "data": {
      "text/html": [
       "<div>\n",
       "<style scoped>\n",
       "    .dataframe tbody tr th:only-of-type {\n",
       "        vertical-align: middle;\n",
       "    }\n",
       "\n",
       "    .dataframe tbody tr th {\n",
       "        vertical-align: top;\n",
       "    }\n",
       "\n",
       "    .dataframe thead th {\n",
       "        text-align: right;\n",
       "    }\n",
       "</style>\n",
       "<table border=\"1\" class=\"dataframe\">\n",
       "  <thead>\n",
       "    <tr style=\"text-align: right;\">\n",
       "      <th></th>\n",
       "      <th>2-downstream</th>\n",
       "    </tr>\n",
       "  </thead>\n",
       "  <tbody>\n",
       "    <tr>\n",
       "      <th>1990-01-05 00:00:00</th>\n",
       "      <td>1172.085571</td>\n",
       "    </tr>\n",
       "    <tr>\n",
       "      <th>1990-01-05 00:30:00</th>\n",
       "      <td>1170.742676</td>\n",
       "    </tr>\n",
       "    <tr>\n",
       "      <th>1990-01-05 01:00:00</th>\n",
       "      <td>1169.590088</td>\n",
       "    </tr>\n",
       "    <tr>\n",
       "      <th>1990-01-05 01:30:00</th>\n",
       "      <td>1168.591675</td>\n",
       "    </tr>\n",
       "    <tr>\n",
       "      <th>1990-01-05 02:00:00</th>\n",
       "      <td>1167.637939</td>\n",
       "    </tr>\n",
       "    <tr>\n",
       "      <th>...</th>\n",
       "      <td>...</td>\n",
       "    </tr>\n",
       "    <tr>\n",
       "      <th>1990-01-07 02:00:00</th>\n",
       "      <td>1211.994995</td>\n",
       "    </tr>\n",
       "    <tr>\n",
       "      <th>1990-01-07 02:30:00</th>\n",
       "      <td>1210.896851</td>\n",
       "    </tr>\n",
       "    <tr>\n",
       "      <th>1990-01-07 03:00:00</th>\n",
       "      <td>1209.269531</td>\n",
       "    </tr>\n",
       "    <tr>\n",
       "      <th>1990-01-07 03:30:00</th>\n",
       "      <td>1207.549438</td>\n",
       "    </tr>\n",
       "    <tr>\n",
       "      <th>1990-01-07 04:00:00</th>\n",
       "      <td>1205.847412</td>\n",
       "    </tr>\n",
       "  </tbody>\n",
       "</table>\n",
       "<p>105 rows × 1 columns</p>\n",
       "</div>"
      ],
      "text/plain": [
       "                     2-downstream\n",
       "1990-01-05 00:00:00   1172.085571\n",
       "1990-01-05 00:30:00   1170.742676\n",
       "1990-01-05 01:00:00   1169.590088\n",
       "1990-01-05 01:30:00   1168.591675\n",
       "1990-01-05 02:00:00   1167.637939\n",
       "...                           ...\n",
       "1990-01-07 02:00:00   1211.994995\n",
       "1990-01-07 02:30:00   1210.896851\n",
       "1990-01-07 03:00:00   1209.269531\n",
       "1990-01-07 03:30:00   1207.549438\n",
       "1990-01-07 04:00:00   1205.847412\n",
       "\n",
       "[105 rows x 1 columns]"
      ]
     },
     "execution_count": 8,
     "metadata": {},
     "output_type": "execute_result"
    }
   ],
   "source": [
    "up2 = hydro.get_channel_flow(2,'downstream','05JAN1990 0000 - 07JAN1990 0445')\n",
    "up2"
   ]
  },
  {
   "cell_type": "code",
   "execution_count": 9,
   "metadata": {
    "execution": {
     "iopub.execute_input": "2021-12-14T02:51:10.492142Z",
     "iopub.status.busy": "2021-12-14T02:51:10.491147Z",
     "iopub.status.idle": "2021-12-14T02:51:10.581747Z",
     "shell.execute_reply": "2021-12-14T02:51:10.580752Z"
    }
   },
   "outputs": [
    {
     "data": {
      "text/html": [
       "<div>\n",
       "<style scoped>\n",
       "    .dataframe tbody tr th:only-of-type {\n",
       "        vertical-align: middle;\n",
       "    }\n",
       "\n",
       "    .dataframe tbody tr th {\n",
       "        vertical-align: top;\n",
       "    }\n",
       "\n",
       "    .dataframe thead th {\n",
       "        text-align: right;\n",
       "    }\n",
       "</style>\n",
       "<table border=\"1\" class=\"dataframe\">\n",
       "  <thead>\n",
       "    <tr style=\"text-align: right;\">\n",
       "      <th></th>\n",
       "      <th>1-upstream</th>\n",
       "    </tr>\n",
       "  </thead>\n",
       "  <tbody>\n",
       "    <tr>\n",
       "      <th>1990-01-08 00:00:00</th>\n",
       "      <td>7.170351</td>\n",
       "    </tr>\n",
       "    <tr>\n",
       "      <th>1990-01-08 00:30:00</th>\n",
       "      <td>7.165919</td>\n",
       "    </tr>\n",
       "    <tr>\n",
       "      <th>1990-01-08 01:00:00</th>\n",
       "      <td>7.156087</td>\n",
       "    </tr>\n",
       "    <tr>\n",
       "      <th>1990-01-08 01:30:00</th>\n",
       "      <td>7.148658</td>\n",
       "    </tr>\n",
       "    <tr>\n",
       "      <th>1990-01-08 02:00:00</th>\n",
       "      <td>7.142569</td>\n",
       "    </tr>\n",
       "    <tr>\n",
       "      <th>...</th>\n",
       "      <td>...</td>\n",
       "    </tr>\n",
       "    <tr>\n",
       "      <th>1990-01-09 21:30:00</th>\n",
       "      <td>7.093923</td>\n",
       "    </tr>\n",
       "    <tr>\n",
       "      <th>1990-01-09 22:00:00</th>\n",
       "      <td>7.094852</td>\n",
       "    </tr>\n",
       "    <tr>\n",
       "      <th>1990-01-09 22:30:00</th>\n",
       "      <td>7.095624</td>\n",
       "    </tr>\n",
       "    <tr>\n",
       "      <th>1990-01-09 23:00:00</th>\n",
       "      <td>7.096228</td>\n",
       "    </tr>\n",
       "    <tr>\n",
       "      <th>1990-01-09 23:30:00</th>\n",
       "      <td>7.096662</td>\n",
       "    </tr>\n",
       "  </tbody>\n",
       "</table>\n",
       "<p>96 rows × 1 columns</p>\n",
       "</div>"
      ],
      "text/plain": [
       "                     1-upstream\n",
       "1990-01-08 00:00:00    7.170351\n",
       "1990-01-08 00:30:00    7.165919\n",
       "1990-01-08 01:00:00    7.156087\n",
       "1990-01-08 01:30:00    7.148658\n",
       "1990-01-08 02:00:00    7.142569\n",
       "...                         ...\n",
       "1990-01-09 21:30:00    7.093923\n",
       "1990-01-09 22:00:00    7.094852\n",
       "1990-01-09 22:30:00    7.095624\n",
       "1990-01-09 23:00:00    7.096228\n",
       "1990-01-09 23:30:00    7.096662\n",
       "\n",
       "[96 rows x 1 columns]"
      ]
     },
     "execution_count": 9,
     "metadata": {},
     "output_type": "execute_result"
    }
   ],
   "source": [
    "hydro.get_channel_stage(1,'upstream','08JAN1990 - 10JAN1990')"
   ]
  },
  {
   "cell_type": "markdown",
   "metadata": {},
   "source": [
    "## Hydro Input Tables\n",
    "The .h5 file in hydro contains many (though not all) input tables (*.inp). A complete listing of those tables can be read from the echo files. See this [notebook to read input](dsm2_read_input.ipynb)"
   ]
  },
  {
   "cell_type": "code",
   "execution_count": 10,
   "metadata": {
    "execution": {
     "iopub.execute_input": "2021-12-14T02:51:10.584734Z",
     "iopub.status.busy": "2021-12-14T02:51:10.584734Z",
     "iopub.status.idle": "2021-12-14T02:51:10.659405Z",
     "shell.execute_reply": "2021-12-14T02:51:10.660401Z"
    }
   },
   "outputs": [
    {
     "data": {
      "text/plain": [
       "['/hydro/input/boundary_flow',\n",
       " '/hydro/input/boundary_stage',\n",
       " '/hydro/input/channel',\n",
       " '/hydro/input/channel_ic',\n",
       " '/hydro/input/envvar',\n",
       " '/hydro/input/gate',\n",
       " '/hydro/input/gate_pipe_device',\n",
       " '/hydro/input/gate_weir_device',\n",
       " '/hydro/input/input_gate',\n",
       " '/hydro/input/input_transfer_flow',\n",
       " '/hydro/input/io_file',\n",
       " '/hydro/input/layers',\n",
       " '/hydro/input/operating_rule',\n",
       " '/hydro/input/oprule_expression',\n",
       " '/hydro/input/oprule_time_series',\n",
       " '/hydro/input/output_channel',\n",
       " '/hydro/input/output_gate',\n",
       " '/hydro/input/output_reservoir',\n",
       " '/hydro/input/reservoir',\n",
       " '/hydro/input/reservoir_connection',\n",
       " '/hydro/input/reservoir_ic',\n",
       " '/hydro/input/reservoir_vol',\n",
       " '/hydro/input/scalar',\n",
       " '/hydro/input/source_flow',\n",
       " '/hydro/input/source_flow_reservoir',\n",
       " '/hydro/input/transfer',\n",
       " '/hydro/input/xsect',\n",
       " '/hydro/input/xsect_layer']"
      ]
     },
     "execution_count": 10,
     "metadata": {},
     "output_type": "execute_result"
    }
   ],
   "source": [
    "hydro.get_input_tables()"
   ]
  },
  {
   "cell_type": "markdown",
   "metadata": {},
   "source": [
    "To read the contents of any of the above tables simply use the get_input_table method"
   ]
  },
  {
   "cell_type": "code",
   "execution_count": 11,
   "metadata": {
    "execution": {
     "iopub.execute_input": "2021-12-14T02:51:10.663388Z",
     "iopub.status.busy": "2021-12-14T02:51:10.662392Z",
     "iopub.status.idle": "2021-12-14T02:51:10.813726Z",
     "shell.execute_reply": "2021-12-14T02:51:10.812730Z"
    }
   },
   "outputs": [
    {
     "data": {
      "text/html": [
       "<div>\n",
       "<style scoped>\n",
       "    .dataframe tbody tr th:only-of-type {\n",
       "        vertical-align: middle;\n",
       "    }\n",
       "\n",
       "    .dataframe tbody tr th {\n",
       "        vertical-align: top;\n",
       "    }\n",
       "\n",
       "    .dataframe thead th {\n",
       "        text-align: right;\n",
       "    }\n",
       "</style>\n",
       "<table border=\"1\" class=\"dataframe\">\n",
       "  <thead>\n",
       "    <tr style=\"text-align: right;\">\n",
       "      <th></th>\n",
       "      <th>chan_no</th>\n",
       "      <th>length</th>\n",
       "      <th>manning</th>\n",
       "      <th>dispersion</th>\n",
       "      <th>upnode</th>\n",
       "      <th>downnode</th>\n",
       "    </tr>\n",
       "  </thead>\n",
       "  <tbody>\n",
       "    <tr>\n",
       "      <th>0</th>\n",
       "      <td>1</td>\n",
       "      <td>19500</td>\n",
       "      <td>0.035</td>\n",
       "      <td>360.0</td>\n",
       "      <td>1</td>\n",
       "      <td>2</td>\n",
       "    </tr>\n",
       "    <tr>\n",
       "      <th>1</th>\n",
       "      <td>2</td>\n",
       "      <td>14000</td>\n",
       "      <td>0.028</td>\n",
       "      <td>360.0</td>\n",
       "      <td>2</td>\n",
       "      <td>3</td>\n",
       "    </tr>\n",
       "    <tr>\n",
       "      <th>2</th>\n",
       "      <td>3</td>\n",
       "      <td>13000</td>\n",
       "      <td>0.028</td>\n",
       "      <td>360.0</td>\n",
       "      <td>3</td>\n",
       "      <td>4</td>\n",
       "    </tr>\n",
       "    <tr>\n",
       "      <th>3</th>\n",
       "      <td>4</td>\n",
       "      <td>14050</td>\n",
       "      <td>0.028</td>\n",
       "      <td>360.0</td>\n",
       "      <td>4</td>\n",
       "      <td>5</td>\n",
       "    </tr>\n",
       "    <tr>\n",
       "      <th>4</th>\n",
       "      <td>5</td>\n",
       "      <td>12350</td>\n",
       "      <td>0.028</td>\n",
       "      <td>360.0</td>\n",
       "      <td>5</td>\n",
       "      <td>6</td>\n",
       "    </tr>\n",
       "    <tr>\n",
       "      <th>...</th>\n",
       "      <td>...</td>\n",
       "      <td>...</td>\n",
       "      <td>...</td>\n",
       "      <td>...</td>\n",
       "      <td>...</td>\n",
       "      <td>...</td>\n",
       "    </tr>\n",
       "    <tr>\n",
       "      <th>516</th>\n",
       "      <td>575</td>\n",
       "      <td>13000</td>\n",
       "      <td>0.022</td>\n",
       "      <td>1800.0</td>\n",
       "      <td>328</td>\n",
       "      <td>357</td>\n",
       "    </tr>\n",
       "    <tr>\n",
       "      <th>517</th>\n",
       "      <td>700</td>\n",
       "      <td>10000</td>\n",
       "      <td>0.033</td>\n",
       "      <td>360.0</td>\n",
       "      <td>700</td>\n",
       "      <td>330</td>\n",
       "    </tr>\n",
       "    <tr>\n",
       "      <th>518</th>\n",
       "      <td>701</td>\n",
       "      <td>10000</td>\n",
       "      <td>0.033</td>\n",
       "      <td>360.0</td>\n",
       "      <td>701</td>\n",
       "      <td>700</td>\n",
       "    </tr>\n",
       "    <tr>\n",
       "      <th>519</th>\n",
       "      <td>702</td>\n",
       "      <td>10000</td>\n",
       "      <td>0.033</td>\n",
       "      <td>360.0</td>\n",
       "      <td>702</td>\n",
       "      <td>701</td>\n",
       "    </tr>\n",
       "    <tr>\n",
       "      <th>520</th>\n",
       "      <td>703</td>\n",
       "      <td>10000</td>\n",
       "      <td>0.033</td>\n",
       "      <td>360.0</td>\n",
       "      <td>703</td>\n",
       "      <td>702</td>\n",
       "    </tr>\n",
       "  </tbody>\n",
       "</table>\n",
       "<p>521 rows × 6 columns</p>\n",
       "</div>"
      ],
      "text/plain": [
       "     chan_no  length  manning  dispersion  upnode  downnode\n",
       "0          1   19500    0.035       360.0       1         2\n",
       "1          2   14000    0.028       360.0       2         3\n",
       "2          3   13000    0.028       360.0       3         4\n",
       "3          4   14050    0.028       360.0       4         5\n",
       "4          5   12350    0.028       360.0       5         6\n",
       "..       ...     ...      ...         ...     ...       ...\n",
       "516      575   13000    0.022      1800.0     328       357\n",
       "517      700   10000    0.033       360.0     700       330\n",
       "518      701   10000    0.033       360.0     701       700\n",
       "519      702   10000    0.033       360.0     702       701\n",
       "520      703   10000    0.033       360.0     703       702\n",
       "\n",
       "[521 rows x 6 columns]"
      ]
     },
     "execution_count": 11,
     "metadata": {},
     "output_type": "execute_result"
    }
   ],
   "source": [
    "hydro.get_input_table('/hydro/input/channel')"
   ]
  },
  {
   "cell_type": "markdown",
   "metadata": {},
   "source": [
    "## Hydro geometry input\n",
    "Hydro also contains the geometry information such as the mapping of internal channel ids to external ones"
   ]
  },
  {
   "cell_type": "code",
   "execution_count": 12,
   "metadata": {
    "execution": {
     "iopub.execute_input": "2021-12-14T02:51:10.816713Z",
     "iopub.status.busy": "2021-12-14T02:51:10.815717Z",
     "iopub.status.idle": "2021-12-14T02:51:10.890388Z",
     "shell.execute_reply": "2021-12-14T02:51:10.891384Z"
    }
   },
   "outputs": [
    {
     "data": {
      "text/plain": [
       "['/hydro/geometry/channel_bottom',\n",
       " '/hydro/geometry/channel_location',\n",
       " '/hydro/geometry/channel_number',\n",
       " '/hydro/geometry/external_flow_names',\n",
       " '/hydro/geometry/hydro_comp_point',\n",
       " '/hydro/geometry/node_flow_connections',\n",
       " '/hydro/geometry/qext',\n",
       " '/hydro/geometry/reservoir_flow_connections',\n",
       " '/hydro/geometry/reservoir_names',\n",
       " '/hydro/geometry/reservoir_node_connect',\n",
       " '/hydro/geometry/stage_boundaries',\n",
       " '/hydro/geometry/transfer_names']"
      ]
     },
     "execution_count": 12,
     "metadata": {},
     "output_type": "execute_result"
    }
   ],
   "source": [
    "hydro.get_geometry_tables()"
   ]
  },
  {
   "cell_type": "markdown",
   "metadata": {},
   "source": [
    "Channel bottoms are a calculation especially when looking at channel stage. These then have to be used in conjunction with that information to calculate depths"
   ]
  },
  {
   "cell_type": "code",
   "execution_count": 13,
   "metadata": {
    "execution": {
     "iopub.execute_input": "2021-12-14T02:51:10.894371Z",
     "iopub.status.busy": "2021-12-14T02:51:10.893375Z",
     "iopub.status.idle": "2021-12-14T02:51:11.044708Z",
     "shell.execute_reply": "2021-12-14T02:51:11.045705Z"
    }
   },
   "outputs": [
    {
     "data": {
      "text/html": [
       "<div>\n",
       "<style scoped>\n",
       "    .dataframe tbody tr th:only-of-type {\n",
       "        vertical-align: middle;\n",
       "    }\n",
       "\n",
       "    .dataframe tbody tr th {\n",
       "        vertical-align: top;\n",
       "    }\n",
       "\n",
       "    .dataframe thead th {\n",
       "        text-align: right;\n",
       "    }\n",
       "</style>\n",
       "<table border=\"1\" class=\"dataframe\">\n",
       "  <thead>\n",
       "    <tr style=\"text-align: right;\">\n",
       "      <th></th>\n",
       "      <th>upstream</th>\n",
       "      <th>downstream</th>\n",
       "    </tr>\n",
       "  </thead>\n",
       "  <tbody>\n",
       "    <tr>\n",
       "      <th>1</th>\n",
       "      <td>3.502402</td>\n",
       "      <td>2.509000</td>\n",
       "    </tr>\n",
       "    <tr>\n",
       "      <th>331</th>\n",
       "      <td>-13.584000</td>\n",
       "      <td>-15.414000</td>\n",
       "    </tr>\n",
       "    <tr>\n",
       "      <th>441</th>\n",
       "      <td>-69.570999</td>\n",
       "      <td>-52.325001</td>\n",
       "    </tr>\n",
       "  </tbody>\n",
       "</table>\n",
       "</div>"
      ],
      "text/plain": [
       "      upstream  downstream\n",
       "1     3.502402    2.509000\n",
       "331 -13.584000  -15.414000\n",
       "441 -69.570999  -52.325001"
      ]
     },
     "execution_count": 13,
     "metadata": {},
     "output_type": "execute_result"
    }
   ],
   "source": [
    "channels=['1','331','441']\n",
    "hydro.get_channel_bottom(channels)"
   ]
  },
  {
   "cell_type": "markdown",
   "metadata": {},
   "source": [
    "Hydro does its computation at certain points and those are available from the table below"
   ]
  },
  {
   "cell_type": "code",
   "execution_count": 14,
   "metadata": {
    "execution": {
     "iopub.execute_input": "2021-12-14T02:51:11.048691Z",
     "iopub.status.busy": "2021-12-14T02:51:11.048691Z",
     "iopub.status.idle": "2021-12-14T02:51:11.263743Z",
     "shell.execute_reply": "2021-12-14T02:51:11.263743Z"
    }
   },
   "outputs": [
    {
     "data": {
      "text/html": [
       "<div>\n",
       "<style scoped>\n",
       "    .dataframe tbody tr th:only-of-type {\n",
       "        vertical-align: middle;\n",
       "    }\n",
       "\n",
       "    .dataframe tbody tr th {\n",
       "        vertical-align: top;\n",
       "    }\n",
       "\n",
       "    .dataframe thead th {\n",
       "        text-align: right;\n",
       "    }\n",
       "</style>\n",
       "<table border=\"1\" class=\"dataframe\">\n",
       "  <thead>\n",
       "    <tr style=\"text-align: right;\">\n",
       "      <th></th>\n",
       "      <th>comp_index</th>\n",
       "      <th>channel</th>\n",
       "      <th>distance</th>\n",
       "    </tr>\n",
       "  </thead>\n",
       "  <tbody>\n",
       "    <tr>\n",
       "      <th>0</th>\n",
       "      <td>1</td>\n",
       "      <td>1</td>\n",
       "      <td>0.0</td>\n",
       "    </tr>\n",
       "    <tr>\n",
       "      <th>1</th>\n",
       "      <td>2</td>\n",
       "      <td>1</td>\n",
       "      <td>6500.0</td>\n",
       "    </tr>\n",
       "    <tr>\n",
       "      <th>2</th>\n",
       "      <td>3</td>\n",
       "      <td>1</td>\n",
       "      <td>13000.0</td>\n",
       "    </tr>\n",
       "    <tr>\n",
       "      <th>3</th>\n",
       "      <td>4</td>\n",
       "      <td>1</td>\n",
       "      <td>19500.0</td>\n",
       "    </tr>\n",
       "    <tr>\n",
       "      <th>4</th>\n",
       "      <td>5</td>\n",
       "      <td>2</td>\n",
       "      <td>0.0</td>\n",
       "    </tr>\n",
       "    <tr>\n",
       "      <th>...</th>\n",
       "      <td>...</td>\n",
       "      <td>...</td>\n",
       "      <td>...</td>\n",
       "    </tr>\n",
       "    <tr>\n",
       "      <th>1218</th>\n",
       "      <td>1219</td>\n",
       "      <td>520</td>\n",
       "      <td>5000.0</td>\n",
       "    </tr>\n",
       "    <tr>\n",
       "      <th>1219</th>\n",
       "      <td>1220</td>\n",
       "      <td>520</td>\n",
       "      <td>10000.0</td>\n",
       "    </tr>\n",
       "    <tr>\n",
       "      <th>1220</th>\n",
       "      <td>1221</td>\n",
       "      <td>521</td>\n",
       "      <td>0.0</td>\n",
       "    </tr>\n",
       "    <tr>\n",
       "      <th>1221</th>\n",
       "      <td>1222</td>\n",
       "      <td>521</td>\n",
       "      <td>5000.0</td>\n",
       "    </tr>\n",
       "    <tr>\n",
       "      <th>1222</th>\n",
       "      <td>1223</td>\n",
       "      <td>521</td>\n",
       "      <td>10000.0</td>\n",
       "    </tr>\n",
       "  </tbody>\n",
       "</table>\n",
       "<p>1223 rows × 3 columns</p>\n",
       "</div>"
      ],
      "text/plain": [
       "      comp_index  channel  distance\n",
       "0              1        1       0.0\n",
       "1              2        1    6500.0\n",
       "2              3        1   13000.0\n",
       "3              4        1   19500.0\n",
       "4              5        2       0.0\n",
       "...          ...      ...       ...\n",
       "1218        1219      520    5000.0\n",
       "1219        1220      520   10000.0\n",
       "1220        1221      521       0.0\n",
       "1221        1222      521    5000.0\n",
       "1222        1223      521   10000.0\n",
       "\n",
       "[1223 rows x 3 columns]"
      ]
     },
     "execution_count": 14,
     "metadata": {},
     "output_type": "execute_result"
    }
   ],
   "source": [
    "hydro.get_geometry_table('/hydro/geometry/hydro_comp_point')"
   ]
  }
 ],
 "metadata": {
  "hide_input": false,
  "interpreter": {
   "hash": "db7c19f4a439e5789451de0a908f63cf1cf9873bacb97bdd6cf888b60f976b5c"
  },
  "kernelspec": {
   "display_name": "Python [conda env:dev_pydsm]",
   "language": "python",
   "name": "python3"
  },
  "language_info": {
   "codemirror_mode": {
    "name": "ipython",
    "version": 3
   },
   "file_extension": ".py",
   "mimetype": "text/x-python",
   "name": "python",
   "nbconvert_exporter": "python",
   "pygments_lexer": "ipython3",
   "version": "3.7.11"
  },
  "toc": {
   "base_numbering": 1,
   "nav_menu": {},
   "number_sections": true,
   "sideBar": true,
   "skip_h1_title": false,
   "title_cell": "Table of Contents",
   "title_sidebar": "Contents",
   "toc_cell": false,
   "toc_position": {},
   "toc_section_display": true,
   "toc_window_display": false
  },
  "varInspector": {
   "cols": {
    "lenName": 16,
    "lenType": 16,
    "lenVar": 40
   },
   "kernels_config": {
    "python": {
     "delete_cmd_postfix": "",
     "delete_cmd_prefix": "del ",
     "library": "var_list.py",
     "varRefreshCmd": "print(var_dic_list())"
    },
    "r": {
     "delete_cmd_postfix": ") ",
     "delete_cmd_prefix": "rm(",
     "library": "var_list.r",
     "varRefreshCmd": "cat(var_dic_list()) "
    }
   },
   "types_to_exclude": [
    "module",
    "function",
    "builtin_function_or_method",
    "instance",
    "_Feature"
   ],
   "window_display": false
  }
 },
 "nbformat": 4,
 "nbformat_minor": 2
}
